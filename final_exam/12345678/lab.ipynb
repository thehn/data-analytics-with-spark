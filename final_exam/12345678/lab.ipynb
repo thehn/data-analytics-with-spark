{
 "cells": [
  {
   "cell_type": "markdown",
   "metadata": {},
   "source": [
    "# Final Exam - Data Analytics with Apache Spark"
   ]
  },
  {
   "cell_type": "markdown",
   "metadata": {},
   "source": [
    "## Rules\n",
    "1. Do not rename the placeholder variables\n",
    "2. The required results / outputs must be assigned to corresponding placeholder variables. Otherwise, no points will be counted.\n",
    "3. Variables prefixed with `df_` have DataFrames datatype. You must return or assign DataFrames value to those variables."
   ]
  },
  {
   "cell_type": "markdown",
   "metadata": {},
   "source": [
    "## Init codes - No changes required"
   ]
  },
  {
   "cell_type": "markdown",
   "metadata": {},
   "source": [
    "##### Init Spark session using the below cell"
   ]
  },
  {
   "cell_type": "code",
   "execution_count": 111,
   "metadata": {},
   "outputs": [],
   "source": [
    "from pyspark.sql import SparkSession\n",
    "# the following Spark session creation contains jars which support writing to Delta format\n",
    "# note: checkout this link to see which version of Delta is compatible with your version of Pyspark: https://docs.delta.io/latest/releases.html\n",
    "spark = SparkSession.builder \\\n",
    "    .appName(\"Final Exam Application\")  \\\n",
    "    .config(\"spark.sql.shuffle.partitions\", \"2\")    \\\n",
    "    .config(\"spark.sql.streaming.forceDeleteTempCheckpointLocation\", \"true\")    \\\n",
    "    .config(\"spark.sql.streaming.checkpointLocation\", \"final_exam/streaming_checkpoints\")    \\\n",
    "\t.config('spark.jars.packages', 'io.delta:delta-spark_2.12:3.2.0,graphframes:graphframes:0.8.4-spark3.5-s_2.12')\t\\\n",
    "\t.config('spark.sql.extensions', 'io.delta.sql.DeltaSparkSessionExtension')\t\\\n",
    "\t.config('spark.sql.catalog.spark_catalog', 'org.apache.spark.sql.delta.catalog.DeltaCatalog')\t\\\n",
    "    .getOrCreate()"
   ]
  },
  {
   "cell_type": "code",
   "execution_count": 112,
   "metadata": {},
   "outputs": [],
   "source": [
    "input_path = \"final_exam/12345678/data/input\"\n",
    "input_streams_path = \"final_exam/12345678/data/input/streams\"\n",
    "output_path = \"final_exam/12345678/data/output\""
   ]
  },
  {
   "cell_type": "markdown",
   "metadata": {},
   "source": [
    "## Data Engineering, Preprocessing, and Cleansing with Apache Spark"
   ]
  },
  {
   "cell_type": "markdown",
   "metadata": {},
   "source": [
    "### Question 1: DataFrame Creation\n",
    "- Create a DataFrame from a CSV file containing user data. \n",
    "- The CSV file is located under `input_path`.\n",
    "\t- User data: \"user_data.csv\"\n",
    "\t- Sales data: \"sales_data.csv\"\n",
    "\t- Transactions data: \"transactions_data.csv\"\n",
    "\t- Orders data: \"orders_data.csv\"\n",
    "\t- Customers data: \"customer_data.csv\"\n",
    "\t- and others ...\n",
    "\n",
    "- Ensure that the DataFrame includes the header from the CSV file.\n"
   ]
  },
  {
   "cell_type": "code",
   "execution_count": 113,
   "metadata": {},
   "outputs": [
    {
     "name": "stdout",
     "output_type": "stream",
     "text": [
      "+------+------------+--------------------+\n",
      "|userId|        name|               email|\n",
      "+------+------------+--------------------+\n",
      "|     1|     JohnDoe| johndoe@example.com|\n",
      "|     2|   JaneSmith|janesmith@example...|\n",
      "|     3|    BobBrown|bobbrown@example.com|\n",
      "|     4|AliceJohnson|alicejohnson@exam...|\n",
      "|     5|CharlieDavis|charliedavis@exam...|\n",
      "|     6|  DianaMoore|dianamoore@exampl...|\n",
      "|     7| EthanTaylor|ethantaylor@examp...|\n",
      "|     8| GraceWilson|gracewilson@examp...|\n",
      "|     9|HankAnderson|hankanderson@exam...|\n",
      "|    10| IvyThompson|ivythompson@examp...|\n",
      "+------+------------+--------------------+\n",
      "\n"
     ]
    }
   ],
   "source": [
    "# Read the CSV file into a DataFrame\n",
    "user_data_file_path = f\"{input_path}/user_data.csv\"\n",
    "sales_data_file_path = f\"{input_path}/sales_data.csv\"\n",
    "transaction_data_file_path = f\"{input_path}/transactions.csv\"\n",
    "orders_data_file_path = f\"{input_path}/orders.csv\"\n",
    "customer_data_file_path = f\"{input_path}/customer_data.csv\"\n",
    "# and others ...\n",
    "\n",
    "df_user = spark.read.option(\"header\", \"true\").option(\"inferSchema\", \"true\").csv(user_data_file_path)\n",
    "df_sales = spark.read.option(\"header\", \"true\").option(\"inferSchema\", \"true\").csv(sales_data_file_path)\n",
    "df_transactions = spark.read.option(\"header\", \"true\").option(\"inferSchema\", \"true\").csv(transaction_data_file_path)\n",
    "df_orders = spark.read.option(\"header\", \"true\").option(\"inferSchema\", \"true\").csv(orders_data_file_path)\n",
    "df_customer_data = spark.read.option(\"header\", \"true\").option(\"inferSchema\", \"true\").csv(customer_data_file_path)\n",
    "# and others ...\n",
    "\n",
    "# Show the DataFrames\n",
    "df_user.show(10)\n",
    "# and others ..."
   ]
  },
  {
   "cell_type": "markdown",
   "metadata": {},
   "source": [
    "### Question 2: Data Cleaning\n",
    "In `df_sales`, some entries in the `price` column are null. \n",
    "Your task is to remove rows where the `price` is null and display the cleaned DataFrame."
   ]
  },
  {
   "cell_type": "code",
   "execution_count": 114,
   "metadata": {},
   "outputs": [
    {
     "name": "stdout",
     "output_type": "stream",
     "text": [
      "+-------+----------+----------+------+-----+--------+--------+----------------+-------------------+\n",
      "|OrderID|      Date|CustomerID|ItemID|price|quantity|s_market|f_original_price|s_original_currency|\n",
      "+-------+----------+----------+------+-----+--------+--------+----------------+-------------------+\n",
      "|OR12345|15.10.2015|  CUS54343|IT8798|   45|       1|      HU|        14234.76|                HUF|\n",
      "|OR12345|15.10.2015|  CUS54343|IT2235|   30|       1|      HU|         9546.23|                HUF|\n",
      "|OR12345|15.10.2015|  CUS54343|IT8840|   25|       1|      HU|         3452.45|                HUF|\n",
      "|OR12346|16.10.2015|  CUS54344|IT8799|   50|       2|      HU|         15000.0|                HUF|\n",
      "|OR12346|16.10.2015|  CUS54344|IT2240|   20|      -1|      HU|         -7500.0|                HUF|\n",
      "|OR12347|17.10.2015|  CUS54345|IT8800|  -30|      -1|      HU|         -9000.0|                HUF|\n",
      "|OR12348|18.10.2015|  CUS54346|IT8801|  -25|      -1|      HU|         -5000.0|                HUF|\n",
      "|OR12349|19.10.2015|  CUS54347|IT8802|  -15|      -1|      HU|         -3000.0|                HUF|\n",
      "|OR12350|20.10.2015|  CUS54348|IT8803|  -10|      -1|      HU|         -2000.0|                HUF|\n",
      "|OR12351|21.10.2015|  CUS54349|IT8804|   -5|      -1|      HU|         -1000.0|                HUF|\n",
      "+-------+----------+----------+------+-----+--------+--------+----------------+-------------------+\n",
      "\n"
     ]
    }
   ],
   "source": [
    "# Remove rows with null values in the price column\n",
    "df_cleaned_sales = df_sales.filter(df_sales.price.isNotNull())\n",
    "\n",
    "# Show the cleaned DataFrame\n",
    "df_cleaned_sales.show()"
   ]
  },
  {
   "cell_type": "markdown",
   "metadata": {},
   "source": [
    "### Question 3: Grouping and Aggregation\n",
    "Given a DataFrame `df_transactions` containing transaction records, group the data by `storeId` and calculate the total sales for each store. Display the results in descending order of total sales."
   ]
  },
  {
   "cell_type": "code",
   "execution_count": 115,
   "metadata": {},
   "outputs": [
    {
     "name": "stdout",
     "output_type": "stream",
     "text": [
      "+-------+----------+\n",
      "|storeId|sum(sales)|\n",
      "+-------+----------+\n",
      "|     25|       278|\n",
      "|   NULL|        85|\n",
      "|     26|        51|\n",
      "|      3|        48|\n",
      "|      2|        29|\n",
      "|     27|        10|\n",
      "+-------+----------+\n",
      "\n"
     ]
    }
   ],
   "source": [
    "# Group by storeId and calculate total sales\n",
    "df_total_sales = df_transactions.groupBy(\"storeId\").agg({\"sales\": \"sum\"}).orderBy(\"sum(sales)\", ascending=False)\n",
    "\n",
    "# Show the results\n",
    "df_total_sales.show()"
   ]
  },
  {
   "cell_type": "markdown",
   "metadata": {},
   "source": [
    "### Question 4: Handling Duplicate Records\n",
    "You have a DataFrame `df_orders` with potential duplicate entries based on the `orderId`. Write code to remove duplicates while keeping the first occurrence of each order.\n"
   ]
  },
  {
   "cell_type": "code",
   "execution_count": 116,
   "metadata": {},
   "outputs": [
    {
     "name": "stdout",
     "output_type": "stream",
     "text": [
      "+-------+----------+----------+-------+\n",
      "|orderId|      date|customerId| itemId|\n",
      "+-------+----------+----------+-------+\n",
      "|OR10001|2024-01-01|  CUS10001|ITEM001|\n",
      "|OR10002|2024-01-02|  CUS10002|ITEM002|\n",
      "|OR10003|2024-01-03|  CUS10003|ITEM003|\n",
      "|OR10004|2024-01-04|  CUS10004|ITEM004|\n",
      "|OR10005|2024-01-05|  CUS10005|ITEM005|\n",
      "|OR10006|2024-01-06|  CUS10006|ITEM006|\n",
      "|OR10007|2024-01-07|  CUS10007|ITEM007|\n",
      "|OR10008|2024-01-08|  CUS10008|ITEM008|\n",
      "|OR10009|2024-01-09|  CUS10009|ITEM009|\n",
      "|OR10010|2024-01-10|  CUS10010|ITEM010|\n",
      "+-------+----------+----------+-------+\n",
      "\n"
     ]
    }
   ],
   "source": [
    "# Remove duplicate orders based on orderId\n",
    "df_unique_order = df_orders.dropDuplicates([\"orderId\"])\n",
    "\n",
    "# Show unique orders\n",
    "df_unique_order.show()"
   ]
  },
  {
   "cell_type": "markdown",
   "metadata": {},
   "source": [
    "### Question 5: Complex Filtering\n",
    "Using a DataFrame `df_customer_data`, filter out customers who have not made any purchases in the last year. Assume there is a column `last_purchase_date`. Display only customer IDs and names."
   ]
  },
  {
   "cell_type": "code",
   "execution_count": 117,
   "metadata": {},
   "outputs": [
    {
     "name": "stdout",
     "output_type": "stream",
     "text": [
      "+----------+----+\n",
      "|customerId|name|\n",
      "+----------+----+\n",
      "+----------+----+\n",
      "\n"
     ]
    }
   ],
   "source": [
    "from pyspark.sql.functions import current_date, datediff\n",
    "\n",
    "# Filter customers based on last purchase date\n",
    "df_active_customers = df_customer_data.filter(datediff(current_date(), df_customer_data.last_purchase_date) <= 365).select(\"customerId\", \"name\")\n",
    "\n",
    "# Show active customers\n",
    "df_active_customers.show()"
   ]
  },
  {
   "cell_type": "markdown",
   "metadata": {},
   "source": [
    "## Feature Engineering"
   ]
  },
  {
   "cell_type": "markdown",
   "metadata": {},
   "source": [
    "### Question 6: Feature Selection\n",
    "You have a DataFrame `df_training_data` with multiple features. Select only the features feature1, feature2, and label for your model training.\n"
   ]
  },
  {
   "cell_type": "code",
   "execution_count": 118,
   "metadata": {},
   "outputs": [
    {
     "name": "stdout",
     "output_type": "stream",
     "text": [
      "+--------+-----+-----+\n",
      "|feature1|value|label|\n",
      "+--------+-----+-----+\n",
      "|     0.1| NULL|    1|\n",
      "|     0.2| NULL|    0|\n",
      "|    0.15| NULL|    1|\n",
      "|    0.25| NULL|    0|\n",
      "|    0.35| NULL|    1|\n",
      "|    0.45| NULL|    0|\n",
      "|    0.55| NULL|    1|\n",
      "|    0.65| NULL|    0|\n",
      "|    0.75| NULL|    1|\n",
      "|    0.85| NULL|    0|\n",
      "+--------+-----+-----+\n",
      "\n"
     ]
    }
   ],
   "source": [
    "training_data_file_path = f\"{input_path}/training_data.csv\"\n",
    "df_training_data = spark.read.option(\"header\", \"true\").option(\"inferSchema\", \"true\").csv(training_data_file_path)\n",
    "df_training_data.show(10)"
   ]
  },
  {
   "cell_type": "code",
   "execution_count": 119,
   "metadata": {},
   "outputs": [
    {
     "name": "stdout",
     "output_type": "stream",
     "text": [
      "+--------+-----+\n",
      "|feature1|label|\n",
      "+--------+-----+\n",
      "|     0.1|    1|\n",
      "|     0.2|    0|\n",
      "|    0.15|    1|\n",
      "|    0.25|    0|\n",
      "|    0.35|    1|\n",
      "|    0.45|    0|\n",
      "|    0.55|    1|\n",
      "|    0.65|    0|\n",
      "|    0.75|    1|\n",
      "|    0.85|    0|\n",
      "+--------+-----+\n",
      "\n"
     ]
    }
   ],
   "source": [
    "\n",
    "# Select specific features for model training\n",
    "df_selected_features = df_training_data.select(\"feature1\", \"label\")\n",
    "\n",
    "# Show selected features\n",
    "df_selected_features.show()"
   ]
  },
  {
   "cell_type": "markdown",
   "metadata": {},
   "source": [
    "### Question 7: Creating New Features\n",
    "From a DataFrame `df_employee`, create a new feature called years_of_experience by subtracting the start_year from the current year. Display the updated DataFrame with this new feature."
   ]
  },
  {
   "cell_type": "code",
   "execution_count": 120,
   "metadata": {},
   "outputs": [
    {
     "name": "stdout",
     "output_type": "stream",
     "text": [
      "+----------+----------+\n",
      "|employeeId|start_year|\n",
      "+----------+----------+\n",
      "|    EMP001|      2018|\n",
      "|    EMP002|      2019|\n",
      "|    EMP003|      2020|\n",
      "|    EMP004|      2017|\n",
      "|    EMP005|      2016|\n",
      "|    EMP006|      2018|\n",
      "|    EMP007|      2019|\n",
      "|    EMP008|      2020|\n",
      "|    EMP009|      2021|\n",
      "|    EMP010|      2022|\n",
      "+----------+----------+\n",
      "\n"
     ]
    }
   ],
   "source": [
    "employee_data_file_path = f\"{input_path}/employee_data.csv\"\n",
    "df_employee = spark.read.option(\"header\", \"true\").option(\"inferSchema\", \"true\").csv(employee_data_file_path)\n",
    "df_employee.show(10)"
   ]
  },
  {
   "cell_type": "code",
   "execution_count": 121,
   "metadata": {},
   "outputs": [
    {
     "name": "stdout",
     "output_type": "stream",
     "text": [
      "+----------+----------+-------------------+\n",
      "|employeeId|start_year|years_of_experience|\n",
      "+----------+----------+-------------------+\n",
      "|    EMP001|      2018|                  6|\n",
      "|    EMP002|      2019|                  5|\n",
      "|    EMP003|      2020|                  4|\n",
      "|    EMP004|      2017|                  7|\n",
      "|    EMP005|      2016|                  8|\n",
      "|    EMP006|      2018|                  6|\n",
      "|    EMP007|      2019|                  5|\n",
      "|    EMP008|      2020|                  4|\n",
      "|    EMP009|      2021|                  3|\n",
      "|    EMP010|      2022|                  2|\n",
      "+----------+----------+-------------------+\n",
      "\n"
     ]
    }
   ],
   "source": [
    "from pyspark.sql.functions import year, current_date, col\n",
    "\n",
    "\n",
    "# Add years_of_experience feature\n",
    "df_employee_with_experience = df_employee.withColumn(\"years_of_experience\", year(current_date()) - col(\"start_year\"))\n",
    "\n",
    "# Show updated employee data\n",
    "df_employee_with_experience.show()"
   ]
  },
  {
   "cell_type": "markdown",
   "metadata": {},
   "source": [
    "### Question 8: One-Hot Encoding\n",
    "You have a categorical feature category in your DataFrame `df_products`. Perform one-hot encoding on this feature and display the resulting DataFrame."
   ]
  },
  {
   "cell_type": "code",
   "execution_count": 122,
   "metadata": {},
   "outputs": [
    {
     "name": "stdout",
     "output_type": "stream",
     "text": [
      "+---------+----------+--------------+\n",
      "|productId|      name|    categories|\n",
      "+---------+----------+--------------+\n",
      "|     P001|    Laptop|   Electronics|\n",
      "|     P002|Smartphone|   Electronics|\n",
      "|     P003|    Tablet|   Electronics|\n",
      "|     P004|     Shoes|      Footwear|\n",
      "|     P005|     Shirt|      Clothing|\n",
      "|     P006|     Pants|      Clothing|\n",
      "|     P007|       Hat|   Accessories|\n",
      "|     P008|     Watch|   Accessories|\n",
      "|     P009|  Backpack|Bags & Luggage|\n",
      "|     P010|Sunglasses|   Accessories|\n",
      "+---------+----------+--------------+\n",
      "\n"
     ]
    }
   ],
   "source": [
    "products_data_file_path = f\"{input_path}/products.csv\"\n",
    "df_products = spark.read.option(\"header\", \"true\").option(\"inferSchema\", \"true\").csv(products_data_file_path)\n",
    "df_products.show(10)"
   ]
  },
  {
   "cell_type": "code",
   "execution_count": 123,
   "metadata": {},
   "outputs": [
    {
     "name": "stdout",
     "output_type": "stream",
     "text": [
      "+---------+----------+--------------+--------------+-------------+\n",
      "|productId|      name|    categories|category_index| category_ohe|\n",
      "+---------+----------+--------------+--------------+-------------+\n",
      "|     P001|    Laptop|   Electronics|           1.0|(4,[1],[1.0])|\n",
      "|     P002|Smartphone|   Electronics|           1.0|(4,[1],[1.0])|\n",
      "|     P003|    Tablet|   Electronics|           1.0|(4,[1],[1.0])|\n",
      "|     P004|     Shoes|      Footwear|           4.0|    (4,[],[])|\n",
      "|     P005|     Shirt|      Clothing|           2.0|(4,[2],[1.0])|\n",
      "|     P006|     Pants|      Clothing|           2.0|(4,[2],[1.0])|\n",
      "|     P007|       Hat|   Accessories|           0.0|(4,[0],[1.0])|\n",
      "|     P008|     Watch|   Accessories|           0.0|(4,[0],[1.0])|\n",
      "|     P009|  Backpack|Bags & Luggage|           3.0|(4,[3],[1.0])|\n",
      "|     P010|Sunglasses|   Accessories|           0.0|(4,[0],[1.0])|\n",
      "+---------+----------+--------------+--------------+-------------+\n",
      "\n"
     ]
    }
   ],
   "source": [
    "from pyspark.ml.feature import OneHotEncoder, StringIndexer\n",
    "\n",
    "\n",
    "# String indexer for category feature\n",
    "indexer = StringIndexer(inputCol=\"categories\", outputCol=\"category_index\")\n",
    "model = indexer.fit(df_products)\n",
    "df_indexed = model.transform(df_products)\n",
    "\n",
    "# One-hot encoding for indexed category feature\n",
    "encoder = OneHotEncoder(inputCols=[\"category_index\"], outputCols=[\"category_ohe\"])\n",
    "ohe_model = encoder.fit(df_indexed)\n",
    "df_encoded = ohe_model.transform(df_indexed)\n",
    "\n",
    "# Show encoded features\n",
    "df_encoded.show()"
   ]
  },
  {
   "cell_type": "markdown",
   "metadata": {},
   "source": [
    "### Question 9: Normalization of Features\n",
    "Normalize the feature amount in your DataFrame transactions. Use Min-Max scaling to achieve this. Display the transformed DataFrame with normalized values.\n"
   ]
  },
  {
   "cell_type": "code",
   "execution_count": 124,
   "metadata": {},
   "outputs": [
    {
     "name": "stdout",
     "output_type": "stream",
     "text": [
      "+-------------+---------+-----+-------+---------+-----+\n",
      "|transactionId|predError|value|storeId|productId|sales|\n",
      "+-------------+---------+-----+-------+---------+-----+\n",
      "|            1|     NULL| NULL|     25|        1|   17|\n",
      "|            2|        6|    7|      2|        2|   29|\n",
      "|            3|        3| NULL|     25|        3|   93|\n",
      "|            4|     NULL| NULL|      3|        2|   48|\n",
      "|            5|     NULL| NULL|   NULL|        2|   85|\n",
      "|            6|        3|    2|     25|        2|   57|\n",
      "|            7|        4|    4|     25|        3|   56|\n",
      "|            8|        5| NULL|     25|        4|   55|\n",
      "|            9|        6| NULL|     26|        5|   51|\n",
      "|           10|        7|    8|     27|        6|   10|\n",
      "+-------------+---------+-----+-------+---------+-----+\n",
      "\n"
     ]
    }
   ],
   "source": [
    "df_transactions.show(10)"
   ]
  },
  {
   "cell_type": "code",
   "execution_count": 125,
   "metadata": {},
   "outputs": [
    {
     "name": "stdout",
     "output_type": "stream",
     "text": [
      "+--------------------+\n",
      "|        scaled_sales|\n",
      "+--------------------+\n",
      "|[0.08433734939759...|\n",
      "|[0.22891566265060...|\n",
      "|               [1.0]|\n",
      "|[0.45783132530120...|\n",
      "|[0.9036144578313253]|\n",
      "|[0.5662650602409639]|\n",
      "|[0.5542168674698795]|\n",
      "|[0.5421686746987953]|\n",
      "|[0.49397590361445...|\n",
      "|               [0.0]|\n",
      "+--------------------+\n",
      "\n"
     ]
    }
   ],
   "source": [
    "from pyspark.ml.feature import MinMaxScaler\n",
    "from pyspark.ml.feature import VectorAssembler\n",
    "\n",
    "vector_assembler = VectorAssembler(inputCols=[\"sales\"], outputCol=\"sales_vector\")\n",
    "vectorized_transactions = vector_assembler.transform(df_transactions)\n",
    "\n",
    "scaler = MinMaxScaler(inputCol=\"sales_vector\", outputCol=\"scaled_sales\")\n",
    "scaler_model = scaler.fit(vectorized_transactions)\n",
    "scaled_transactions = scaler_model.transform(vectorized_transactions)\n",
    "\n",
    "# Show scaled amounts\n",
    "scaled_transactions.select(\"scaled_sales\").show()"
   ]
  },
  {
   "cell_type": "markdown",
   "metadata": {},
   "source": [
    "### Question 10: Preparing Training and Test Datasets"
   ]
  },
  {
   "cell_type": "code",
   "execution_count": 126,
   "metadata": {},
   "outputs": [
    {
     "name": "stdout",
     "output_type": "stream",
     "text": [
      "+--------+-----+-----+\n",
      "|feature1|value|label|\n",
      "+--------+-----+-----+\n",
      "|     0.1| NULL|    1|\n",
      "|     0.2| NULL|    0|\n",
      "|    0.15| NULL|    1|\n",
      "|    0.25| NULL|    0|\n",
      "|    0.35| NULL|    1|\n",
      "|    0.45| NULL|    0|\n",
      "|    0.55| NULL|    1|\n",
      "|    0.65| NULL|    0|\n",
      "|    0.75| NULL|    1|\n",
      "|    0.85| NULL|    0|\n",
      "+--------+-----+-----+\n",
      "\n"
     ]
    }
   ],
   "source": [
    "training_data_file_path = f\"{input_path}/training_data.csv\"\n",
    "df_training_data = spark.read.option(\"header\", \"true\").option(\"inferSchema\", \"true\").csv(training_data_file_path)\n",
    "df_training_data.show(10)"
   ]
  },
  {
   "cell_type": "code",
   "execution_count": 127,
   "metadata": {},
   "outputs": [
    {
     "name": "stdout",
     "output_type": "stream",
     "text": [
      "+--------+-----+-----+\n",
      "|feature1|value|label|\n",
      "+--------+-----+-----+\n",
      "|    0.12| NULL|  1.0|\n",
      "|    0.22| NULL|  0.0|\n",
      "|    0.18| NULL|  1.0|\n",
      "|    0.28| NULL|  0.0|\n",
      "|    0.38| NULL|  1.0|\n",
      "|    0.48| NULL|  0.0|\n",
      "|    0.58| NULL|  1.0|\n",
      "|    0.68| NULL|  0.0|\n",
      "|    0.78| NULL|  1.0|\n",
      "|    0.88| NULL|  0.0|\n",
      "+--------+-----+-----+\n",
      "\n"
     ]
    }
   ],
   "source": [
    "test_data_file_path = f\"{input_path}/test_data.csv\"\n",
    "df_test_data = spark.read.option(\"header\", \"true\").option(\"inferSchema\", \"true\").csv(test_data_file_path)\n",
    "df_test_data.show(10)"
   ]
  },
  {
   "cell_type": "markdown",
   "metadata": {},
   "source": [
    "## Train New Models, Evaluate Models, Select Model Performance"
   ]
  },
  {
   "cell_type": "markdown",
   "metadata": {},
   "source": [
    "### Question 11: Model Training\n",
    "Train a linear regression model using the DataFrame `df_training_data`, which includes features and labels. Display the coefficients of the trained model.\n"
   ]
  },
  {
   "cell_type": "code",
   "execution_count": 128,
   "metadata": {},
   "outputs": [
    {
     "name": "stdout",
     "output_type": "stream",
     "text": [
      "[-0.40257648953301134]\n"
     ]
    }
   ],
   "source": [
    "from pyspark.ml.regression import LinearRegression\n",
    "\n",
    "vector_assembler = VectorAssembler(inputCols=[\"feature1\"], outputCol=\"features\")\n",
    "df_vectorized_training = vector_assembler.transform(df_training_data)\n",
    "\n",
    "# Train a linear regression model\n",
    "lr = LinearRegression(featuresCol='features', labelCol='label')\n",
    "lr_model = lr.fit(df_vectorized_training)\n",
    "\n",
    "# Display model coefficients\n",
    "print(lr_model.coefficients)"
   ]
  },
  {
   "cell_type": "markdown",
   "metadata": {},
   "source": [
    "### Question 12: Model Evaluation Metrics\n",
    "Evaluate your trained linear regression model using RMSE (Root Mean Square Error) on test data. Display the RMSE value obtained from evaluation."
   ]
  },
  {
   "cell_type": "code",
   "execution_count": 129,
   "metadata": {},
   "outputs": [
    {
     "name": "stdout",
     "output_type": "stream",
     "text": [
      "RMSE: 0.49014973017959534\n"
     ]
    }
   ],
   "source": [
    "from pyspark.ml.evaluation import RegressionEvaluator\n",
    "\n",
    "df_vectorized_test = vector_assembler.transform(df_test_data)\n",
    "\n",
    "# Evaluate model performance on test data\n",
    "predictions = lr_model.transform(df_vectorized_test)\n",
    "evaluator = RegressionEvaluator(labelCol=\"label\", predictionCol=\"prediction\", metricName=\"rmse\")\n",
    "rmse_value = evaluator.evaluate(predictions)\n",
    "\n",
    "print(f\"RMSE: {rmse_value}\")"
   ]
  },
  {
   "cell_type": "markdown",
   "metadata": {},
   "source": [
    "### Question 13: Cross-Validation for Hyperparameter Tuning\n",
    "Set up cross-validation for hyperparameter tuning of your linear regression model using a parameter grid for regularization parameter (regParam). Display best parameters after fitting."
   ]
  },
  {
   "cell_type": "code",
   "execution_count": 130,
   "metadata": {},
   "outputs": [
    {
     "name": "stdout",
     "output_type": "stream",
     "text": [
      "{Param(parent='LinearRegression_83df44eda320', name='aggregationDepth', doc='suggested depth for treeAggregate (>= 2).'): 2, Param(parent='LinearRegression_83df44eda320', name='elasticNetParam', doc='the ElasticNet mixing parameter, in range [0, 1]. For alpha = 0, the penalty is an L2 penalty. For alpha = 1, it is an L1 penalty.'): 0.0, Param(parent='LinearRegression_83df44eda320', name='epsilon', doc='The shape parameter to control the amount of robustness. Must be > 1.0. Only valid when loss is huber'): 1.35, Param(parent='LinearRegression_83df44eda320', name='featuresCol', doc='features column name.'): 'features', Param(parent='LinearRegression_83df44eda320', name='fitIntercept', doc='whether to fit an intercept term.'): True, Param(parent='LinearRegression_83df44eda320', name='labelCol', doc='label column name.'): 'label', Param(parent='LinearRegression_83df44eda320', name='loss', doc='The loss function to be optimized. Supported options: squaredError, huber.'): 'squaredError', Param(parent='LinearRegression_83df44eda320', name='maxBlockSizeInMB', doc='maximum memory in MB for stacking input data into blocks. Data is stacked within partitions. If more than remaining data size in a partition then it is adjusted to the data size. Default 0.0 represents choosing optimal value, depends on specific algorithm. Must be >= 0.'): 0.0, Param(parent='LinearRegression_83df44eda320', name='maxIter', doc='max number of iterations (>= 0).'): 100, Param(parent='LinearRegression_83df44eda320', name='predictionCol', doc='prediction column name.'): 'prediction', Param(parent='LinearRegression_83df44eda320', name='regParam', doc='regularization parameter (>= 0).'): 0.1, Param(parent='LinearRegression_83df44eda320', name='solver', doc='The solver algorithm for optimization. Supported options: auto, normal, l-bfgs.'): 'auto', Param(parent='LinearRegression_83df44eda320', name='standardization', doc='whether to standardize the training features before fitting the model.'): True, Param(parent='LinearRegression_83df44eda320', name='tol', doc='the convergence tolerance for iterative algorithms (>= 0).'): 1e-06}\n"
     ]
    }
   ],
   "source": [
    "from pyspark.ml.tuning import CrossValidator, ParamGridBuilder\n",
    "\n",
    "paramGrid = ParamGridBuilder().addGrid(lr.regParam, [0.1, 0.01]).build()\n",
    "crossval = CrossValidator(estimator=lr, estimatorParamMaps=paramGrid, evaluator=evaluator, numFolds=3)\n",
    "\n",
    "cv_model = crossval.fit(df_vectorized_training)\n",
    "best_model_params = cv_model.bestModel.extractParamMap()\n",
    "\n",
    "print(best_model_params)"
   ]
  },
  {
   "cell_type": "markdown",
   "metadata": {},
   "source": [
    "### Question 14: Model Selection Based on Tuned Hyperparameter\n",
    "Train the model with the `best_model_params`"
   ]
  },
  {
   "cell_type": "code",
   "execution_count": 131,
   "metadata": {},
   "outputs": [],
   "source": [
    "best_model = lr.fit(df_vectorized_training, params=best_model_params)"
   ]
  },
  {
   "cell_type": "markdown",
   "metadata": {},
   "source": [
    "### Question 15: Predictions Using Selected Model\n",
    "Using your best-performing model from previous steps, make predictions on new data stored in new_data. Display predictions alongside actual labels if available.\n"
   ]
  },
  {
   "cell_type": "code",
   "execution_count": 132,
   "metadata": {},
   "outputs": [
    {
     "name": "stdout",
     "output_type": "stream",
     "text": [
      "+--------+-----+-----+--------+\n",
      "|feature1|value|label|features|\n",
      "+--------+-----+-----+--------+\n",
      "|       0|     |     |   [0.0]|\n",
      "|       1|     |     |   [1.0]|\n",
      "|       2|     |     |   [2.0]|\n",
      "|       3|     |     |   [3.0]|\n",
      "|       4|     |     |   [4.0]|\n",
      "|       5|     |     |   [5.0]|\n",
      "|       6|     |     |   [6.0]|\n",
      "|       7|     |     |   [7.0]|\n",
      "|       8|     |     |   [8.0]|\n",
      "|       9|     |     |   [9.0]|\n",
      "+--------+-----+-----+--------+\n",
      "\n"
     ]
    }
   ],
   "source": [
    "new_data_file_path = f\"{input_path}/new_data.csv\"\n",
    "df_new_data = spark.read.option(\"header\", \"true\").option(\"inferSchema\", \"true\").csv(new_data_file_path)\n",
    "df_vectorized_new_data = vector_assembler.transform(df_new_data)\n",
    "df_vectorized_new_data.show(10)"
   ]
  },
  {
   "cell_type": "code",
   "execution_count": 133,
   "metadata": {},
   "outputs": [
    {
     "name": "stdout",
     "output_type": "stream",
     "text": [
      "+--------------------+-----+\n",
      "|          prediction|label|\n",
      "+--------------------+-----+\n",
      "|  0.6442565754159957|     |\n",
      "|  0.3087761674718197|     |\n",
      "|-0.02670424047235631|     |\n",
      "| -0.3621846484165323|     |\n",
      "| -0.6976650563607083|     |\n",
      "| -1.0331454643048843|     |\n",
      "| -1.3686258722490603|     |\n",
      "| -1.7041062801932365|     |\n",
      "| -2.0395866881374123|     |\n",
      "|  -2.375067096081588|     |\n",
      "+--------------------+-----+\n",
      "\n"
     ]
    }
   ],
   "source": [
    "predictions_new_data = best_model.transform(df_vectorized_new_data)\n",
    "predictions_new_data.select(\"prediction\", \"label\").show()"
   ]
  },
  {
   "cell_type": "markdown",
   "metadata": {},
   "source": [
    "## Spark Structured Streaming"
   ]
  },
  {
   "cell_type": "markdown",
   "metadata": {},
   "source": [
    "### Question 16: Basic Streaming Setup\n",
    "- Set up a basic streaming job that reads data from a CSV source and \n",
    "- Leave trigger mode as default (runs micro-batch as soon as it can)\n",
    "- Writes it to a memory table named `tbl_streaming_01`\n",
    "- Output mode is set to `update`\n",
    "- Print the results using Spark SQL\n",
    "- Stop the Streaming query"
   ]
  },
  {
   "cell_type": "code",
   "execution_count": 134,
   "metadata": {},
   "outputs": [],
   "source": [
    "# For Structured Streaming\n",
    "spark.conf.set(\"spark.sql.streaming.checkpointLocation\", \"final_exam/streaming_checkpoints\")"
   ]
  },
  {
   "cell_type": "code",
   "execution_count": 135,
   "metadata": {},
   "outputs": [],
   "source": [
    "# Create streaming context and read from csv source\n",
    "stream_path = \"final_exam/12345678/data/input/streams\"\n",
    "schema = 'timestamp timestamp, value double'"
   ]
  },
  {
   "cell_type": "code",
   "execution_count": 136,
   "metadata": {},
   "outputs": [],
   "source": [
    "df_streaming_data = spark.readStream.format('csv').option('header','true').schema(schema).load(stream_path)"
   ]
  },
  {
   "cell_type": "code",
   "execution_count": 137,
   "metadata": {},
   "outputs": [],
   "source": [
    "query = df_streaming_data.writeStream.format('memory').outputMode('update').queryName('tbl_streaming_01').start()"
   ]
  },
  {
   "cell_type": "code",
   "execution_count": null,
   "metadata": {},
   "outputs": [
    {
     "name": "stdout",
     "output_type": "stream",
     "text": [
      "+-------------------+-----+\n",
      "|          timestamp|value|\n",
      "+-------------------+-----+\n",
      "|2024-12-01 19:00:00| 23.5|\n",
      "|2024-12-01 19:00:01| 24.0|\n",
      "|2024-12-01 19:00:02| 22.8|\n",
      "|2024-12-01 19:00:03| 24.1|\n",
      "|2024-12-01 19:00:04| 23.9|\n",
      "|2024-12-01 19:00:05| 24.3|\n",
      "|2024-12-01 19:00:06| 22.7|\n",
      "|2024-12-01 19:00:07| 23.8|\n",
      "|2024-12-01 19:00:08| 24.2|\n",
      "|2024-12-01 19:00:09| 23.6|\n",
      "+-------------------+-----+\n",
      "\n"
     ]
    }
   ],
   "source": [
    "import time\n",
    "time.sleep(5) # wait few seconds for the streaming query to be fully started\n",
    "\n",
    "df_tbl_streaming_01 = spark.sql(\"SELECT * FROM tbl_streaming_01\")\n",
    "\n",
    "df_tbl_streaming_01.show()"
   ]
  },
  {
   "cell_type": "code",
   "execution_count": 139,
   "metadata": {},
   "outputs": [],
   "source": [
    "query.stop()"
   ]
  },
  {
   "cell_type": "markdown",
   "metadata": {},
   "source": [
    "### Question 17: Filtering Streaming Data\n",
    "- Filter incoming streaming data to include only messages with value >= 22.5. \n",
    "- Trigger mode is default.\n",
    "- Output mode is `append`\n",
    "- Write to an in-memory table named `tbl_streaming_02`\n",
    "- Print these filtered messages using Spark SQL.\n",
    "- Stop the Streaming query\n"
   ]
  },
  {
   "cell_type": "code",
   "execution_count": 140,
   "metadata": {},
   "outputs": [],
   "source": [
    "filteredStreamDF = df_streaming_data.filter('value > 22.5')"
   ]
  },
  {
   "cell_type": "code",
   "execution_count": 141,
   "metadata": {},
   "outputs": [],
   "source": [
    "query_filtered = df_streaming_data.writeStream.format('memory').outputMode('append').queryName('tbl_streaming_02').start()"
   ]
  },
  {
   "cell_type": "code",
   "execution_count": null,
   "metadata": {},
   "outputs": [
    {
     "name": "stdout",
     "output_type": "stream",
     "text": [
      "+-------------------+-----+\n",
      "|          timestamp|value|\n",
      "+-------------------+-----+\n",
      "|2024-12-01 19:00:00| 23.5|\n",
      "|2024-12-01 19:00:01| 24.0|\n",
      "|2024-12-01 19:00:02| 22.8|\n",
      "|2024-12-01 19:00:03| 24.1|\n",
      "|2024-12-01 19:00:04| 23.9|\n",
      "|2024-12-01 19:00:05| 24.3|\n",
      "|2024-12-01 19:00:06| 22.7|\n",
      "|2024-12-01 19:00:07| 23.8|\n",
      "|2024-12-01 19:00:08| 24.2|\n",
      "|2024-12-01 19:00:09| 23.6|\n",
      "+-------------------+-----+\n",
      "\n"
     ]
    }
   ],
   "source": [
    "import time\n",
    "time.sleep(5) # wait few seconds for the streaming query to be fully started\n",
    "\n",
    "df_tbl_streaming_02 = spark.sql(\"SELECT * FROM tbl_streaming_02\")\n",
    "\n",
    "df_tbl_streaming_02.show()"
   ]
  },
  {
   "cell_type": "code",
   "execution_count": 143,
   "metadata": {},
   "outputs": [],
   "source": [
    "query_filtered.stop()"
   ]
  },
  {
   "cell_type": "markdown",
   "metadata": {},
   "source": [
    "### Question 18: Aggregating Streaming Data\n",
    "- Aggregate streaming data to get the average value each 5 seconds and print results to console.\n",
    "- Trigger mode: `availableNow`\n",
    "- Output mode: `complete`\n",
    "- Output format: `console`\n",
    "- Stop the Streaming query after use\n"
   ]
  },
  {
   "cell_type": "code",
   "execution_count": 144,
   "metadata": {},
   "outputs": [],
   "source": [
    "from pyspark.sql.functions import window"
   ]
  },
  {
   "cell_type": "code",
   "execution_count": 145,
   "metadata": {},
   "outputs": [],
   "source": [
    "df_aggregated_stream = df_streaming_data.groupBy(window('timestamp', '5 second')).avg('value')"
   ]
  },
  {
   "cell_type": "code",
   "execution_count": 146,
   "metadata": {},
   "outputs": [],
   "source": [
    "\n",
    "query_agg = df_aggregated_stream.writeStream \\\n",
    "\t.format(\"console\")\t\\\n",
    "\t.outputMode(\"complete\")\t\\\n",
    "\t.trigger(availableNow=True)\t\\\n",
    "\t.start()"
   ]
  },
  {
   "cell_type": "code",
   "execution_count": 147,
   "metadata": {},
   "outputs": [],
   "source": [
    "query_agg.stop()"
   ]
  },
  {
   "cell_type": "markdown",
   "metadata": {},
   "source": [
    "### Question 19: Writing Streaming Output to File Sink\n",
    "- Write streaming output of `filteredStreamDF` file sink in Parquet format.\n",
    "- Trigger mode is `availableNow`\n",
    "- Output mode is \"Append\"\n",
    "- Stop the query after use"
   ]
  },
  {
   "cell_type": "code",
   "execution_count": 148,
   "metadata": {},
   "outputs": [],
   "source": [
    "stream_output_path = \"final_exam/12345678/data/output/streams\""
   ]
  },
  {
   "cell_type": "code",
   "execution_count": 149,
   "metadata": {},
   "outputs": [],
   "source": [
    "query_file_sink = filteredStreamDF.writeStream.format('parquet').outputMode('append').trigger(availableNow=True).start(f'{stream_output_path}/parquet')\n",
    "# query_file_sink.awaitTermination()"
   ]
  },
  {
   "cell_type": "code",
   "execution_count": 150,
   "metadata": {},
   "outputs": [],
   "source": [
    "query_file_sink.stop()"
   ]
  },
  {
   "cell_type": "markdown",
   "metadata": {},
   "source": [
    "### Question 20: Read and verify the written stream data\n",
    "- Read to the data frame named `df_written_stream`\n",
    "- Show top 10 rows of the dataframe"
   ]
  },
  {
   "cell_type": "code",
   "execution_count": 151,
   "metadata": {},
   "outputs": [
    {
     "name": "stdout",
     "output_type": "stream",
     "text": [
      "+-------------------+-----+\n",
      "|          timestamp|value|\n",
      "+-------------------+-----+\n",
      "|2024-12-01 19:00:00| 23.5|\n",
      "|2024-12-01 19:00:01| 24.0|\n",
      "|2024-12-01 19:00:02| 22.8|\n",
      "|2024-12-01 19:00:03| 24.1|\n",
      "|2024-12-01 19:00:04| 23.9|\n",
      "|2024-12-01 19:00:05| 24.3|\n",
      "|2024-12-01 19:00:06| 22.7|\n",
      "|2024-12-01 19:00:07| 23.8|\n",
      "|2024-12-01 19:00:08| 24.2|\n",
      "|2024-12-01 19:00:09| 23.6|\n",
      "+-------------------+-----+\n",
      "\n"
     ]
    }
   ],
   "source": [
    "df_written_stream = spark.read.parquet(f'{stream_output_path}/parquet')\n",
    "df_written_stream.show(10)"
   ]
  },
  {
   "cell_type": "markdown",
   "metadata": {},
   "source": [
    "## Graph Analytics with GraphFrames"
   ]
  },
  {
   "cell_type": "markdown",
   "metadata": {},
   "source": [
    "### Question 21: Creating GraphFrames from DataFrames\n",
    "Create a GraphFrame using vertices and edges stored in two separate DataFrames named `vertices` and `edges`. Display basic information about the graph created.\n"
   ]
  },
  {
   "cell_type": "code",
   "execution_count": 152,
   "metadata": {},
   "outputs": [],
   "source": [
    "# %pip install graphframes"
   ]
  },
  {
   "cell_type": "code",
   "execution_count": 153,
   "metadata": {},
   "outputs": [],
   "source": [
    "from graphframes import GraphFrame\n",
    "\n",
    "v_path = 'final_exam/12345678/data/input/vertices.csv'\n",
    "e_path = 'final_exam/12345678/data/input/edges.csv'\n",
    "\n",
    "df_vertices = spark.read.csv(path=v_path, header=True, inferSchema=True)\n",
    "df_edges = spark.read.csv(path=e_path, header=True,inferSchema=True)"
   ]
  },
  {
   "cell_type": "code",
   "execution_count": 154,
   "metadata": {},
   "outputs": [],
   "source": [
    "g = GraphFrame(df_vertices, df_edges)"
   ]
  },
  {
   "cell_type": "code",
   "execution_count": 155,
   "metadata": {},
   "outputs": [
    {
     "name": "stdout",
     "output_type": "stream",
     "text": [
      "+----+---------+\n",
      "|  id|     name|\n",
      "+----+---------+\n",
      "|V001|  Alice  |\n",
      "|V002|    Bob  |\n",
      "|V003|    Eve  |\n",
      "|V004|Mallory  |\n",
      "|V005|    Ted  |\n",
      "|V006|  Alice  |\n",
      "|V007|    Bob  |\n",
      "|V008|    Eve  |\n",
      "|V009|Mallory  |\n",
      "|V010|    Ted  |\n",
      "+----+---------+\n",
      "\n",
      "None\n",
      "+----+------+\n",
      "| src|   dst|\n",
      "+----+------+\n",
      "|V001|V002  |\n",
      "|V001|V003  |\n",
      "|V002|V004  |\n",
      "|V003|V005  |\n",
      "|V004|V006  |\n",
      "|V005|V007  |\n",
      "|V006|V008  |\n",
      "|V007|V009  |\n",
      "|V008|V010  |\n",
      "|V009|V001  |\n",
      "+----+------+\n",
      "\n",
      "None\n"
     ]
    }
   ],
   "source": [
    "print(g.vertices.show())\n",
    "print(g.edges.show())"
   ]
  },
  {
   "cell_type": "markdown",
   "metadata": {},
   "source": [
    "### Question 22: Finding Shortest Paths in Graphs\n",
    "Using your GraphFrame g, find shortest paths from vertex ID 'V002' to all other vertices within a maximum path length of 3. Display results as paths found.\n"
   ]
  },
  {
   "cell_type": "code",
   "execution_count": 156,
   "metadata": {},
   "outputs": [
    {
     "name": "stdout",
     "output_type": "stream",
     "text": [
      "+----+---------+-----------+\n",
      "|  id|     name|  distances|\n",
      "+----+---------+-----------+\n",
      "|V005|    Ted  |         {}|\n",
      "|V007|    Bob  |         {}|\n",
      "|V003|    Eve  |         {}|\n",
      "|V008|    Eve  |         {}|\n",
      "|V004|Mallory  |         {}|\n",
      "|V010|    Ted  |         {}|\n",
      "|V002|    Bob  |{V002 -> 0}|\n",
      "|V006|  Alice  |         {}|\n",
      "|V009|Mallory  |         {}|\n",
      "|V001|  Alice  |         {}|\n",
      "+----+---------+-----------+\n",
      "\n"
     ]
    }
   ],
   "source": [
    "results = g.shortestPaths(landmarks=[\"V002\"])\n",
    "results.show()"
   ]
  },
  {
   "cell_type": "markdown",
   "metadata": {},
   "source": [
    "### Question 23: PageRank Algorithm Implementation\n",
    "Implement PageRank algorithm on your GraphFrame to find important vertices based on their connectivity."
   ]
  },
  {
   "cell_type": "code",
   "execution_count": 157,
   "metadata": {},
   "outputs": [
    {
     "name": "stdout",
     "output_type": "stream",
     "text": [
      "+----+------------------+\n",
      "|  id|          pagerank|\n",
      "+----+------------------+\n",
      "|V005|1.0000000000000002|\n",
      "|V007|1.0000000000000002|\n",
      "|V003|1.0000000000000002|\n",
      "|V008|1.0000000000000002|\n",
      "|V004|1.0000000000000002|\n",
      "|V010|1.0000000000000002|\n",
      "|V002|1.0000000000000002|\n",
      "|V006|1.0000000000000002|\n",
      "|V009|1.0000000000000002|\n",
      "|V001|1.0000000000000002|\n",
      "+----+------------------+\n",
      "\n"
     ]
    }
   ],
   "source": [
    "results_pagerank = g.pageRank(resetProbability=0.15, maxIter=10)\n",
    "results_pagerank.vertices.select(\"id\", \"pagerank\").show()"
   ]
  },
  {
   "cell_type": "markdown",
   "metadata": {},
   "source": [
    "### Question 24: Connected Components Analysis\n",
    "Perform connected components analysis on your GraphFrame to identify clusters of connected vertices.\n"
   ]
  },
  {
   "cell_type": "code",
   "execution_count": 158,
   "metadata": {},
   "outputs": [],
   "source": [
    "# for GraphFrames\n",
    "spark.sparkContext.setCheckpointDir('final_exam/spark_checkpoints')"
   ]
  },
  {
   "cell_type": "code",
   "execution_count": 159,
   "metadata": {},
   "outputs": [
    {
     "name": "stdout",
     "output_type": "stream",
     "text": [
      "+----+----------+\n",
      "|  id| component|\n",
      "+----+----------+\n",
      "|V003|         0|\n",
      "|V004|         1|\n",
      "|V005|         2|\n",
      "|V006|         3|\n",
      "|V007|         4|\n",
      "|V009|         5|\n",
      "|V001|8589934592|\n",
      "|V002|8589934593|\n",
      "|V008|8589934594|\n",
      "|V010|8589934595|\n",
      "+----+----------+\n",
      "\n"
     ]
    }
   ],
   "source": [
    "result_cc = g.connectedComponents()\n",
    "result_cc.select(\"id\", \"component\").show()"
   ]
  },
  {
   "cell_type": "markdown",
   "metadata": {},
   "source": [
    "### Question 25: Triangle Count in Graphs\n",
    "Count triangles formed by vertices in your GraphFrame using triangle counting functionality.\n"
   ]
  },
  {
   "cell_type": "code",
   "execution_count": 160,
   "metadata": {},
   "outputs": [
    {
     "name": "stdout",
     "output_type": "stream",
     "text": [
      "+----+-----+\n",
      "|  id|count|\n",
      "+----+-----+\n",
      "|V003|    0|\n",
      "|V004|    0|\n",
      "|V005|    0|\n",
      "|V006|    0|\n",
      "|V007|    0|\n",
      "|V009|    0|\n",
      "|V001|    0|\n",
      "|V002|    0|\n",
      "|V008|    0|\n",
      "|V010|    0|\n",
      "+----+-----+\n",
      "\n"
     ]
    }
   ],
   "source": [
    "triangle_count_result = g.triangleCount()\n",
    "triangle_count_result.select(\"id\", \"count\").show()"
   ]
  },
  {
   "cell_type": "markdown",
   "metadata": {},
   "source": [
    "## Complete & Cleanup"
   ]
  },
  {
   "cell_type": "code",
   "execution_count": 161,
   "metadata": {},
   "outputs": [],
   "source": [
    "spark.stop()"
   ]
  },
  {
   "cell_type": "code",
   "execution_count": 162,
   "metadata": {},
   "outputs": [
    {
     "name": "stdout",
     "output_type": "stream",
     "text": [
      "Directory final_exam/spark_checkpoint/ does not exist.\n",
      "Directory final_exam/streaming_checkpoints/ cleaned up.\n"
     ]
    }
   ],
   "source": [
    "### Clean up Checkpoints & Outputs\n",
    "import os\n",
    "import shutil\n",
    "\n",
    "# Define the path to the checkpoint directory\n",
    "spark_checkpoint_dir = \"final_exam/spark_checkpoint/\"\n",
    "stream_checkpoint_dir = \"final_exam/streaming_checkpoints/\"\n",
    "directories = [spark_checkpoint_dir, stream_checkpoint_dir]\n",
    "\n",
    "# Remove the checkpoint directory if it exists\n",
    "for dir in directories:\n",
    "\tif os.path.exists(dir):\n",
    "\t\tshutil.rmtree(dir)\n",
    "\t\tprint(f\"Directory {dir} cleaned up.\")\n",
    "\telse:\n",
    "\t\tprint(f\"Directory {dir} does not exist.\")"
   ]
  }
 ],
 "metadata": {
  "kernelspec": {
   "display_name": "Python 3 (ipykernel)",
   "language": "python",
   "name": "python3"
  },
  "language_info": {
   "codemirror_mode": {
    "name": "ipython",
    "version": 3
   },
   "file_extension": ".py",
   "mimetype": "text/x-python",
   "name": "python",
   "nbconvert_exporter": "python",
   "pygments_lexer": "ipython3",
   "version": "3.11.9"
  }
 },
 "nbformat": 4,
 "nbformat_minor": 2
}

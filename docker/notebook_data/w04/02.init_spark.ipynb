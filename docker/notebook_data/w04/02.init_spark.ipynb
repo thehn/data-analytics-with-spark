{
 "cells": [
  {
   "cell_type": "code",
   "execution_count": 6,
   "id": "e9e3e7c2-6603-4519-bbcd-88d68ad4cda8",
   "metadata": {},
   "outputs": [
    {
     "name": "stdout",
     "output_type": "stream",
     "text": [
      "Initializing Spark session ...\n",
      "Initialized\n"
     ]
    }
   ],
   "source": [
    "print('Initializing Spark session ...')\n",
    "from pyspark.sql import SparkSession\n",
    "spark = SparkSession.builder.appName(\"Data and Analytics using Apache Spark\").master(\"local\").getOrCreate()\n",
    "sc = spark.sparkContext\n",
    "print('Initialized')"
   ]
  }
 ],
 "metadata": {
  "kernelspec": {
   "display_name": "Python 3 (ipykernel)",
   "language": "python",
   "name": "python3"
  },
  "language_info": {
   "codemirror_mode": {
    "name": "ipython",
    "version": 3
   },
   "file_extension": ".py",
   "mimetype": "text/x-python",
   "name": "python",
   "nbconvert_exporter": "python",
   "pygments_lexer": "ipython3",
   "version": "3.11.6"
  }
 },
 "nbformat": 4,
 "nbformat_minor": 5
}

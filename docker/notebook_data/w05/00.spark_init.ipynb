{
 "cells": [
  {
   "cell_type": "code",
   "execution_count": 2,
   "id": "f58d6cf9-d0b3-4ba5-8fba-6d046b881309",
   "metadata": {},
   "outputs": [
    {
     "name": "stdout",
     "output_type": "stream",
     "text": [
      "Initializing Spark session ...\n",
      "Initialized\n"
     ]
    }
   ],
   "source": [
    "print('Initializing Spark session ...')\n",
    "from pyspark.sql import SparkSession\n",
    "spark = SparkSession.builder.appName(\"Data and Analytics using Apache Spark - W05 DataFrames and SparkSQL\").master(\"local\").getOrCreate()\n",
    "sc = spark.sparkContext\n",
    "print('Initialized')"
   ]
  }
 ],
 "metadata": {
  "kernelspec": {
   "display_name": "Python 3 (ipykernel)",
   "language": "python",
   "name": "python3"
  },
  "language_info": {
   "codemirror_mode": {
    "name": "ipython",
    "version": 3
   },
   "file_extension": ".py",
   "mimetype": "text/x-python",
   "name": "python",
   "nbconvert_exporter": "python",
   "pygments_lexer": "ipython3",
   "version": "3.11.6"
  }
 },
 "nbformat": 4,
 "nbformat_minor": 5
}

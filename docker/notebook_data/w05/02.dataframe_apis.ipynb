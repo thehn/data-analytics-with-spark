{
 "cells": [
  {
   "cell_type": "markdown",
   "id": "b06d7bb0",
   "metadata": {},
   "source": [
    "# This Lab introduces the DataFrames APIs"
   ]
  },
  {
   "cell_type": "markdown",
   "id": "a1353411",
   "metadata": {
    "vscode": {
     "languageId": "plaintext"
    }
   },
   "source": [
    "## Preparation\n",
    "1. Spark Session\n",
    "2. DataFrames loaded from file\n",
    "3. The DataFrames should be cached for multiple uses"
   ]
  },
  {
   "cell_type": "code",
   "execution_count": 76,
   "id": "e27c0422",
   "metadata": {},
   "outputs": [
    {
     "name": "stdout",
     "output_type": "stream",
     "text": [
      "Initializing Spark session ...\n",
      "Initialized\n"
     ]
    }
   ],
   "source": [
    "%run 00.spark_init.ipynb"
   ]
  },
  {
   "cell_type": "code",
   "execution_count": 77,
   "id": "f1cd6361",
   "metadata": {},
   "outputs": [
    {
     "data": {
      "text/html": [
       "\n",
       "            <div>\n",
       "                <p><b>SparkSession - in-memory</b></p>\n",
       "                \n",
       "        <div>\n",
       "            <p><b>SparkContext</b></p>\n",
       "\n",
       "            <p><a href=\"http://d0cdfa811cb0:4041\">Spark UI</a></p>\n",
       "\n",
       "            <dl>\n",
       "              <dt>Version</dt>\n",
       "                <dd><code>v3.5.0</code></dd>\n",
       "              <dt>Master</dt>\n",
       "                <dd><code>local</code></dd>\n",
       "              <dt>AppName</dt>\n",
       "                <dd><code>Data and Analytics using Apache Spark - W05 DataFrames and SparkSQL</code></dd>\n",
       "            </dl>\n",
       "        </div>\n",
       "        \n",
       "            </div>\n",
       "        "
      ],
      "text/plain": [
       "<pyspark.sql.session.SparkSession at 0x7fa60c26b550>"
      ]
     },
     "execution_count": 77,
     "metadata": {},
     "output_type": "execute_result"
    }
   ],
   "source": [
    "spark"
   ]
  },
  {
   "cell_type": "code",
   "execution_count": 131,
   "id": "58f8b428",
   "metadata": {},
   "outputs": [],
   "source": [
    "df = spark.read.option('header', True).option('inferSchema', True).csv('data/laptop_prices.csv').cache()"
   ]
  },
  {
   "cell_type": "code",
   "execution_count": 132,
   "id": "5203c8f7",
   "metadata": {},
   "outputs": [
    {
     "name": "stdout",
     "output_type": "stream",
     "text": [
      "== Physical Plan ==\n",
      "AdaptiveSparkPlan isFinalPlan=false\n",
      "+- InMemoryTableScan [Company#23610, Product#23611, TypeName#23612, Inches#23613, Ram#23614, OS#23615, Weight#23616, Price_euros#23617, Screen#23618, ScreenW#23619, ScreenH#23620, Touchscreen#23621, IPSpanel#23622, RetinaDisplay#23623, CPU_company#23624, CPU_freq#23625, CPU_model#23626, PrimaryStorage#23627, SecondaryStorage#23628, PrimaryStorageType#23629, SecondaryStorageType#23630, GPU_company#23631, GPU_model#23632]\n",
      "      +- InMemoryRelation [Company#23610, Product#23611, TypeName#23612, Inches#23613, Ram#23614, OS#23615, Weight#23616, Price_euros#23617, Screen#23618, ScreenW#23619, ScreenH#23620, Touchscreen#23621, IPSpanel#23622, RetinaDisplay#23623, CPU_company#23624, CPU_freq#23625, CPU_model#23626, PrimaryStorage#23627, SecondaryStorage#23628, PrimaryStorageType#23629, SecondaryStorageType#23630, GPU_company#23631, GPU_model#23632], StorageLevel(disk, memory, deserialized, 1 replicas)\n",
      "            +- FileScan csv [Company#15027,Product#15028,TypeName#15029,Inches#15030,Ram#15031,OS#15032,Weight#15033,Price_euros#15034,Screen#15035,ScreenW#15036,ScreenH#15037,Touchscreen#15038,IPSpanel#15039,RetinaDisplay#15040,CPU_company#15041,CPU_freq#15042,CPU_model#15043,PrimaryStorage#15044,SecondaryStorage#15045,PrimaryStorageType#15046,SecondaryStorageType#15047,GPU_company#15048,GPU_model#15049] Batched: false, DataFilters: [], Format: CSV, Location: InMemoryFileIndex(1 paths)[file:/home/thehn/w05/data/laptop_prices.csv], PartitionFilters: [], PushedFilters: [], ReadSchema: struct<Company:string,Product:string,TypeName:string,Inches:double,Ram:int,OS:string,Weight:doubl...\n",
      "\n",
      "\n"
     ]
    }
   ],
   "source": [
    "df.explain()"
   ]
  },
  {
   "cell_type": "code",
   "execution_count": 133,
   "id": "1b1e9a75",
   "metadata": {},
   "outputs": [
    {
     "data": {
      "text/plain": [
       "True"
      ]
     },
     "execution_count": 133,
     "metadata": {},
     "output_type": "execute_result"
    }
   ],
   "source": [
    "df.is_cached"
   ]
  },
  {
   "cell_type": "code",
   "execution_count": 106,
   "id": "0c13634a",
   "metadata": {},
   "outputs": [
    {
     "name": "stdout",
     "output_type": "stream",
     "text": [
      "+-------+-----------------+---------+------+---+----------+------+-----------+--------+-------+-------+-----------+--------+-------------+-----------+--------+--------------+--------------+----------------+------------------+--------------------+-----------+--------------------+\n",
      "|Company|          Product| TypeName|Inches|Ram|        OS|Weight|Price_euros|  Screen|ScreenW|ScreenH|Touchscreen|IPSpanel|RetinaDisplay|CPU_company|CPU_freq|     CPU_model|PrimaryStorage|SecondaryStorage|PrimaryStorageType|SecondaryStorageType|GPU_company|           GPU_model|\n",
      "+-------+-----------------+---------+------+---+----------+------+-----------+--------+-------+-------+-----------+--------+-------------+-----------+--------+--------------+--------------+----------------+------------------+--------------------+-----------+--------------------+\n",
      "|  Apple|      MacBook Pro|Ultrabook|  13.3|  8|     macOS|  1.37|    1339.69|Standard|   2560|   1600|         No|     Yes|          Yes|      Intel|     2.3|       Core i5|           128|               0|               SSD|                  No|      Intel|Iris Plus Graphic...|\n",
      "|  Apple|      Macbook Air|Ultrabook|  13.3|  8|     macOS|  1.34|     898.94|Standard|   1440|    900|         No|      No|           No|      Intel|     1.8|       Core i5|           128|               0|     Flash Storage|                  No|      Intel|    HD Graphics 6000|\n",
      "|     HP|           250 G6| Notebook|  15.6|  8|     No OS|  1.86|      575.0| Full HD|   1920|   1080|         No|      No|           No|      Intel|     2.5| Core i5 7200U|           256|               0|               SSD|                  No|      Intel|     HD Graphics 620|\n",
      "|  Apple|      MacBook Pro|Ultrabook|  15.4| 16|     macOS|  1.83|    2537.45|Standard|   2880|   1800|         No|     Yes|          Yes|      Intel|     2.7|       Core i7|           512|               0|               SSD|                  No|        AMD|      Radeon Pro 455|\n",
      "|  Apple|      MacBook Pro|Ultrabook|  13.3|  8|     macOS|  1.37|     1803.6|Standard|   2560|   1600|         No|     Yes|          Yes|      Intel|     3.1|       Core i5|           256|               0|               SSD|                  No|      Intel|Iris Plus Graphic...|\n",
      "|   Acer|         Aspire 3| Notebook|  15.6|  4|Windows 10|   2.1|      400.0|Standard|   1366|    768|         No|      No|           No|        AMD|     3.0|A9-Series 9420|           500|               0|               HDD|                  No|        AMD|           Radeon R5|\n",
      "|  Apple|      MacBook Pro|Ultrabook|  15.4| 16|  Mac OS X|  2.04|    2139.97|Standard|   2880|   1800|         No|     Yes|          Yes|      Intel|     2.2|       Core i7|           256|               0|     Flash Storage|                  No|      Intel|   Iris Pro Graphics|\n",
      "|  Apple|      Macbook Air|Ultrabook|  13.3|  8|     macOS|  1.34|     1158.7|Standard|   1440|    900|         No|      No|           No|      Intel|     1.8|       Core i5|           256|               0|     Flash Storage|                  No|      Intel|    HD Graphics 6000|\n",
      "|   Asus|  ZenBook UX430UN|Ultrabook|  14.0| 16|Windows 10|   1.3|     1495.0| Full HD|   1920|   1080|         No|      No|           No|      Intel|     1.8| Core i7 8550U|           512|               0|               SSD|                  No|     Nvidia|       GeForce MX150|\n",
      "|   Acer|          Swift 3|Ultrabook|  14.0|  8|Windows 10|   1.6|      770.0| Full HD|   1920|   1080|         No|     Yes|           No|      Intel|     1.6| Core i5 8250U|           256|               0|               SSD|                  No|      Intel|    UHD Graphics 620|\n",
      "|     HP|           250 G6| Notebook|  15.6|  4|     No OS|  1.86|      393.9|Standard|   1366|    768|         No|      No|           No|      Intel|     2.5| Core i5 7200U|           500|               0|               HDD|                  No|      Intel|     HD Graphics 620|\n",
      "|     HP|           250 G6| Notebook|  15.6|  4|     No OS|  1.86|     344.99| Full HD|   1920|   1080|         No|      No|           No|      Intel|     2.0| Core i3 6006U|           500|               0|               HDD|                  No|      Intel|     HD Graphics 520|\n",
      "|  Apple|      MacBook Pro|Ultrabook|  15.4| 16|     macOS|  1.83|    2439.97|Standard|   2880|   1800|         No|     Yes|          Yes|      Intel|     2.8|       Core i7|           256|               0|               SSD|                  No|        AMD|      Radeon Pro 555|\n",
      "|   Dell|    Inspiron 3567| Notebook|  15.6|  4|Windows 10|   2.2|      498.9| Full HD|   1920|   1080|         No|      No|           No|      Intel|     2.0| Core i3 6006U|           256|               0|               SSD|                  No|        AMD|      Radeon R5 M430|\n",
      "|  Apple|     MacBook 12\"\"|Ultrabook|  12.0|  8|     macOS|  0.92|     1262.4|Standard|   2304|   1440|         No|     Yes|          Yes|      Intel|     1.2|     Core M m3|           256|               0|               SSD|                  No|      Intel|     HD Graphics 615|\n",
      "|  Apple|      MacBook Pro|Ultrabook|  13.3|  8|     macOS|  1.37|    1518.55|Standard|   2560|   1600|         No|     Yes|          Yes|      Intel|     2.3|       Core i5|           256|               0|               SSD|                  No|      Intel|Iris Plus Graphic...|\n",
      "|   Dell|    Inspiron 3567| Notebook|  15.6|  8|Windows 10|   2.2|      745.0| Full HD|   1920|   1080|         No|      No|           No|      Intel|     2.7| Core i7 7500U|           256|               0|               SSD|                  No|        AMD|      Radeon R5 M430|\n",
      "|  Apple|      MacBook Pro|Ultrabook|  15.4| 16|     macOS|  1.83|     2858.0|Standard|   2880|   1800|         No|     Yes|          Yes|      Intel|     2.9|       Core i7|           512|               0|               SSD|                  No|        AMD|      Radeon Pro 560|\n",
      "| Lenovo|IdeaPad 320-15IKB| Notebook|  15.6|  8|     No OS|   2.2|      499.0| Full HD|   1920|   1080|         No|      No|           No|      Intel|     2.4| Core i3 7100U|          1024|               0|               HDD|                  No|     Nvidia|       GeForce 940MX|\n",
      "|   Dell|           XPS 13|Ultrabook|  13.3|  8|Windows 10|  1.22|      979.0| Full HD|   1920|   1080|        Yes|     Yes|           No|      Intel|     1.6| Core i5 8250U|           128|               0|               SSD|                  No|      Intel|    UHD Graphics 620|\n",
      "+-------+-----------------+---------+------+---+----------+------+-----------+--------+-------+-------+-----------+--------+-------------+-----------+--------+--------------+--------------+----------------+------------------+--------------------+-----------+--------------------+\n",
      "only showing top 20 rows\n",
      "\n"
     ]
    }
   ],
   "source": [
    "df.show()"
   ]
  },
  {
   "cell_type": "code",
   "execution_count": 105,
   "id": "ea51a7e3",
   "metadata": {},
   "outputs": [
    {
     "name": "stdout",
     "output_type": "stream",
     "text": [
      "root\n",
      " |-- Company: string (nullable = true)\n",
      " |-- Product: string (nullable = true)\n",
      " |-- TypeName: string (nullable = true)\n",
      " |-- Inches: double (nullable = true)\n",
      " |-- Ram: integer (nullable = true)\n",
      " |-- OS: string (nullable = true)\n",
      " |-- Weight: double (nullable = true)\n",
      " |-- Price_euros: double (nullable = true)\n",
      " |-- Screen: string (nullable = true)\n",
      " |-- ScreenW: integer (nullable = true)\n",
      " |-- ScreenH: integer (nullable = true)\n",
      " |-- Touchscreen: string (nullable = true)\n",
      " |-- IPSpanel: string (nullable = true)\n",
      " |-- RetinaDisplay: string (nullable = true)\n",
      " |-- CPU_company: string (nullable = true)\n",
      " |-- CPU_freq: double (nullable = true)\n",
      " |-- CPU_model: string (nullable = true)\n",
      " |-- PrimaryStorage: integer (nullable = true)\n",
      " |-- SecondaryStorage: integer (nullable = true)\n",
      " |-- PrimaryStorageType: string (nullable = true)\n",
      " |-- SecondaryStorageType: string (nullable = true)\n",
      " |-- GPU_company: string (nullable = true)\n",
      " |-- GPU_model: string (nullable = true)\n",
      "\n"
     ]
    }
   ],
   "source": [
    "df.printSchema()"
   ]
  },
  {
   "cell_type": "code",
   "execution_count": 123,
   "id": "fee796cf",
   "metadata": {},
   "outputs": [
    {
     "data": {
      "text/plain": [
       "'struct<Company:string,Product:string,TypeName:string,Inches:double,Ram:int,OS:string,Weight:double,Price_euros:double,Screen:string,ScreenW:int,ScreenH:int,Touchscreen:string,IPSpanel:string,RetinaDisplay:string,CPU_company:string,CPU_freq:double,CPU_model:string,PrimaryStorage:int,SecondaryStorage:int,PrimaryStorageType:string,SecondaryStorageType:string,GPU_company:string,GPU_model:string>'"
      ]
     },
     "execution_count": 123,
     "metadata": {},
     "output_type": "execute_result"
    }
   ],
   "source": [
    "df.schema.simpleString()"
   ]
  },
  {
   "cell_type": "code",
   "execution_count": 107,
   "id": "bdddc4d2",
   "metadata": {},
   "outputs": [
    {
     "name": "stdout",
     "output_type": "stream",
     "text": [
      "+-------+\n",
      "|Company|\n",
      "+-------+\n",
      "|  Apple|\n",
      "|  Apple|\n",
      "|     HP|\n",
      "|  Apple|\n",
      "|  Apple|\n",
      "|   Acer|\n",
      "|  Apple|\n",
      "|  Apple|\n",
      "|   Asus|\n",
      "|   Acer|\n",
      "|     HP|\n",
      "|     HP|\n",
      "|  Apple|\n",
      "|   Dell|\n",
      "|  Apple|\n",
      "|  Apple|\n",
      "|   Dell|\n",
      "|  Apple|\n",
      "| Lenovo|\n",
      "|   Dell|\n",
      "+-------+\n",
      "only showing top 20 rows\n",
      "\n"
     ]
    }
   ],
   "source": [
    "df.select('Company').show()"
   ]
  },
  {
   "cell_type": "code",
   "execution_count": 108,
   "id": "49ee5838",
   "metadata": {},
   "outputs": [
    {
     "name": "stdout",
     "output_type": "stream",
     "text": [
      "+-------+---------------+---------+------+---+----------+------+-----------+--------+-------+-------+-----------+--------+-------------+-----------+--------+--------------+--------------+----------------+------------------+--------------------+-----------+--------------------+\n",
      "|Company|        Product| TypeName|Inches|Ram|        OS|Weight|Price_euros|  Screen|ScreenW|ScreenH|Touchscreen|IPSpanel|RetinaDisplay|CPU_company|CPU_freq|     CPU_model|PrimaryStorage|SecondaryStorage|PrimaryStorageType|SecondaryStorageType|GPU_company|           GPU_model|\n",
      "+-------+---------------+---------+------+---+----------+------+-----------+--------+-------+-------+-----------+--------+-------------+-----------+--------+--------------+--------------+----------------+------------------+--------------------+-----------+--------------------+\n",
      "|  Apple|    MacBook Pro|Ultrabook|  13.3|  8|     macOS|  1.37|    1339.69|Standard|   2560|   1600|         No|     Yes|          Yes|      Intel|     2.3|       Core i5|           128|               0|               SSD|                  No|      Intel|Iris Plus Graphic...|\n",
      "|  Apple|    MacBook Pro|Ultrabook|  15.4| 16|     macOS|  1.83|    2537.45|Standard|   2880|   1800|         No|     Yes|          Yes|      Intel|     2.7|       Core i7|           512|               0|               SSD|                  No|        AMD|      Radeon Pro 455|\n",
      "|  Apple|    MacBook Pro|Ultrabook|  13.3|  8|     macOS|  1.37|     1803.6|Standard|   2560|   1600|         No|     Yes|          Yes|      Intel|     3.1|       Core i5|           256|               0|               SSD|                  No|      Intel|Iris Plus Graphic...|\n",
      "|  Apple|    MacBook Pro|Ultrabook|  15.4| 16|  Mac OS X|  2.04|    2139.97|Standard|   2880|   1800|         No|     Yes|          Yes|      Intel|     2.2|       Core i7|           256|               0|     Flash Storage|                  No|      Intel|   Iris Pro Graphics|\n",
      "|  Apple|    Macbook Air|Ultrabook|  13.3|  8|     macOS|  1.34|     1158.7|Standard|   1440|    900|         No|      No|           No|      Intel|     1.8|       Core i5|           256|               0|     Flash Storage|                  No|      Intel|    HD Graphics 6000|\n",
      "|   Asus|ZenBook UX430UN|Ultrabook|  14.0| 16|Windows 10|   1.3|     1495.0| Full HD|   1920|   1080|         No|      No|           No|      Intel|     1.8| Core i7 8550U|           512|               0|               SSD|                  No|     Nvidia|       GeForce MX150|\n",
      "|  Apple|    MacBook Pro|Ultrabook|  15.4| 16|     macOS|  1.83|    2439.97|Standard|   2880|   1800|         No|     Yes|          Yes|      Intel|     2.8|       Core i7|           256|               0|               SSD|                  No|        AMD|      Radeon Pro 555|\n",
      "|  Apple|   MacBook 12\"\"|Ultrabook|  12.0|  8|     macOS|  0.92|     1262.4|Standard|   2304|   1440|         No|     Yes|          Yes|      Intel|     1.2|     Core M m3|           256|               0|               SSD|                  No|      Intel|     HD Graphics 615|\n",
      "|  Apple|    MacBook Pro|Ultrabook|  13.3|  8|     macOS|  1.37|    1518.55|Standard|   2560|   1600|         No|     Yes|          Yes|      Intel|     2.3|       Core i5|           256|               0|               SSD|                  No|      Intel|Iris Plus Graphic...|\n",
      "|  Apple|    MacBook Pro|Ultrabook|  15.4| 16|     macOS|  1.83|     2858.0|Standard|   2880|   1800|         No|     Yes|          Yes|      Intel|     2.9|       Core i7|           512|               0|               SSD|                  No|        AMD|      Radeon Pro 560|\n",
      "|  Apple|    MacBook Air|Ultrabook|  13.3|  8|  Mac OS X|  1.35|     1099.0|Standard|   1440|    900|         No|      No|           No|      Intel|     1.6|       Core i5|           128|               0|     Flash Storage|                  No|      Intel|    HD Graphics 6000|\n",
      "|   Dell|  Latitude 5590|Ultrabook|  15.6|  8|Windows 10|  1.88|     1298.0| Full HD|   1920|   1080|         No|      No|           No|      Intel|     1.9| Core i7 8650U|           256|             256|               SSD|                 SSD|      Intel|    UHD Graphics 620|\n",
      "|   Dell|         XPS 13|Ultrabook|  13.3| 16|Windows 10|   1.2|     1869.0|Quad HD+|   3200|   1800|        Yes|      No|           No|      Intel|     1.8| Core i7 8550U|           512|               0|               SSD|                  No|      Intel|    UHD Graphics 620|\n",
      "|   Dell|  Inspiron 7577|   Gaming|  15.6| 16|Windows 10|  2.65|     1499.0| Full HD|   1920|   1080|         No|     Yes|           No|      Intel|     2.8|Core i7 7700HQ|           256|            1024|               SSD|                 HDD|     Nvidia|    GeForce GTX 1060|\n",
      "|  Apple|    MacBook Pro|Ultrabook|  13.3|  8|     macOS|  1.37|     1419.0|Standard|   2560|   1600|         No|     Yes|          Yes|      Intel|     2.0|       Core i5|           256|               0|               SSD|                  No|      Intel|   Iris Graphics 540|\n",
      "|   Asus|      Rog Strix|   Gaming|  17.3|  8|Windows 10|   3.2|     1299.0| Full HD|   1920|   1080|         No|      No|           No|        AMD|     3.0|    Ryzen 1700|           256|            1024|               SSD|                 HDD|        AMD|       Radeon RX 580|\n",
      "|     HP|    ProBook 430| Notebook|  13.3|  8|Windows 10|  1.49|     1103.0| Full HD|   1920|   1080|         No|      No|           No|      Intel|     1.8| Core i7 8550U|           512|               0|               SSD|                  No|      Intel|    UHD Graphics 620|\n",
      "|    MSI|     GS73VR 7RG|   Gaming|  17.3| 16|Windows 10|  2.43|     2449.0| Full HD|   1920|   1080|         No|      No|           No|      Intel|     2.8|Core i7 7700HQ|           256|            2048|               SSD|                 HDD|     Nvidia|    GeForce GTX 1070|\n",
      "|   Dell|  Inspiron 5770| Notebook|  17.3| 16|Windows 10|   2.8|     1299.0| Full HD|   1920|   1080|         No|      No|           No|      Intel|     1.8| Core i7 8550U|           256|            2048|               SSD|                 HDD|        AMD|          Radeon 530|\n",
      "|   Asus|    ZenBook Pro|Ultrabook|  15.6| 16|Windows 10|   1.8|     1983.0| Full HD|   1920|   1080|         No|      No|           No|      Intel|     2.8|Core i7 7700HQ|           512|               0|               SSD|                  No|     Nvidia| GeForce GTX 1050 Ti|\n",
      "+-------+---------------+---------+------+---+----------+------+-----------+--------+-------+-------+-----------+--------+-------------+-----------+--------+--------------+--------------+----------------+------------------+--------------------+-----------+--------------------+\n",
      "only showing top 20 rows\n",
      "\n"
     ]
    }
   ],
   "source": [
    "df.filter('Price_euros > 1000').show()"
   ]
  },
  {
   "cell_type": "code",
   "execution_count": 109,
   "id": "3e6e9296",
   "metadata": {},
   "outputs": [
    {
     "name": "stdout",
     "output_type": "stream",
     "text": [
      "+-------+--------------------+------------------+------+---+----------+------+-----------+--------+-------+-------+-----------+--------+-------------+-----------+--------+-----------------+--------------+----------------+------------------+--------------------+-----------+----------------+\n",
      "|Company|             Product|          TypeName|Inches|Ram|        OS|Weight|Price_euros|  Screen|ScreenW|ScreenH|Touchscreen|IPSpanel|RetinaDisplay|CPU_company|CPU_freq|        CPU_model|PrimaryStorage|SecondaryStorage|PrimaryStorageType|SecondaryStorageType|GPU_company|       GPU_model|\n",
      "+-------+--------------------+------------------+------+---+----------+------+-----------+--------+-------+-------+-----------+--------+-------------+-----------+--------+-----------------+--------------+----------------+------------------+--------------------+-----------+----------------+\n",
      "|  Apple|         Macbook Air|         Ultrabook|  13.3|  8|     macOS|  1.34|     898.94|Standard|   1440|    900|         No|      No|           No|      Intel|     1.8|          Core i5|           128|               0|     Flash Storage|                  No|      Intel|HD Graphics 6000|\n",
      "|     HP|              250 G6|          Notebook|  15.6|  8|     No OS|  1.86|      575.0| Full HD|   1920|   1080|         No|      No|           No|      Intel|     2.5|    Core i5 7200U|           256|               0|               SSD|                  No|      Intel| HD Graphics 620|\n",
      "|   Acer|            Aspire 3|          Notebook|  15.6|  4|Windows 10|   2.1|      400.0|Standard|   1366|    768|         No|      No|           No|        AMD|     3.0|   A9-Series 9420|           500|               0|               HDD|                  No|        AMD|       Radeon R5|\n",
      "|   Acer|             Swift 3|         Ultrabook|  14.0|  8|Windows 10|   1.6|      770.0| Full HD|   1920|   1080|         No|     Yes|           No|      Intel|     1.6|    Core i5 8250U|           256|               0|               SSD|                  No|      Intel|UHD Graphics 620|\n",
      "|     HP|              250 G6|          Notebook|  15.6|  4|     No OS|  1.86|      393.9|Standard|   1366|    768|         No|      No|           No|      Intel|     2.5|    Core i5 7200U|           500|               0|               HDD|                  No|      Intel| HD Graphics 620|\n",
      "|     HP|              250 G6|          Notebook|  15.6|  4|     No OS|  1.86|     344.99| Full HD|   1920|   1080|         No|      No|           No|      Intel|     2.0|    Core i3 6006U|           500|               0|               HDD|                  No|      Intel| HD Graphics 520|\n",
      "|   Dell|       Inspiron 3567|          Notebook|  15.6|  4|Windows 10|   2.2|      498.9| Full HD|   1920|   1080|         No|      No|           No|      Intel|     2.0|    Core i3 6006U|           256|               0|               SSD|                  No|        AMD|  Radeon R5 M430|\n",
      "|   Dell|       Inspiron 3567|          Notebook|  15.6|  8|Windows 10|   2.2|      745.0| Full HD|   1920|   1080|         No|      No|           No|      Intel|     2.7|    Core i7 7500U|           256|               0|               SSD|                  No|        AMD|  Radeon R5 M430|\n",
      "| Lenovo|   IdeaPad 320-15IKB|          Notebook|  15.6|  8|     No OS|   2.2|      499.0| Full HD|   1920|   1080|         No|      No|           No|      Intel|     2.4|    Core i3 7100U|          1024|               0|               HDD|                  No|     Nvidia|   GeForce 940MX|\n",
      "|   Dell|              XPS 13|         Ultrabook|  13.3|  8|Windows 10|  1.22|      979.0| Full HD|   1920|   1080|        Yes|     Yes|           No|      Intel|     1.6|    Core i5 8250U|           128|               0|               SSD|                  No|      Intel|UHD Graphics 620|\n",
      "|   Asus|     Vivobook E200HA|           Netbook|  11.6|  2|Windows 10|  0.98|      191.9|Standard|   1366|    768|         No|      No|           No|      Intel|    1.44|    Atom x5-Z8350|            32|               0|     Flash Storage|                  No|      Intel| HD Graphics 400|\n",
      "| Lenovo|  Legion Y520-15IKBN|            Gaming|  15.6|  8|Windows 10|   2.5|      999.0| Full HD|   1920|   1080|         No|     Yes|           No|      Intel|     2.5|   Core i5 7300HQ|           128|            1024|               SSD|                 HDD|     Nvidia|GeForce GTX 1050|\n",
      "|     HP|              255 G6|          Notebook|  15.6|  4|     No OS|  1.86|      258.0|Standard|   1366|    768|         No|      No|           No|        AMD|     1.5|E-Series E2-9000e|           500|               0|               HDD|                  No|        AMD|       Radeon R2|\n",
      "|   Dell|       Inspiron 5379|2 in 1 Convertible|  13.3|  8|Windows 10|  1.62|      819.0| Full HD|   1920|   1080|        Yes|      No|           No|      Intel|     1.6|    Core i5 8250U|           256|               0|               SSD|                  No|      Intel|UHD Graphics 620|\n",
      "|     HP|15-BS101nv (i7-85...|         Ultrabook|  15.6|  8|Windows 10|  1.91|      659.0| Full HD|   1920|   1080|         No|      No|           No|      Intel|     1.8|    Core i7 8550U|           256|               0|               SSD|                  No|      Intel| HD Graphics 620|\n",
      "|   Dell|       Inspiron 3567|          Notebook|  15.6|  4|Windows 10|   2.3|     418.64|Standard|   1366|    768|         No|      No|           No|      Intel|     2.0|    Core i3 6006U|          1024|               0|               HDD|                  No|      Intel| HD Graphics 520|\n",
      "|   Dell|       Inspiron 5570|          Notebook|  15.6|  8|Windows 10|   2.2|      800.0| Full HD|   1920|   1080|         No|      No|           No|      Intel|     1.6|    Core i5 8250U|           256|               0|               SSD|                  No|        AMD|      Radeon 530|\n",
      "|     HP|         ProBook 470|          Notebook|  17.3|  8|Windows 10|   2.5|      896.0| Full HD|   1920|   1080|         No|      No|           No|      Intel|     1.6|    Core i5 8250U|          1024|               0|               HDD|                  No|     Nvidia|   GeForce 930MX|\n",
      "|  Chuwi|      LapBook 15.6\"\"|          Notebook|  15.6|  4|Windows 10|  1.89|     244.99| Full HD|   1920|   1080|         No|      No|           No|      Intel|    1.44|    Atom x5-Z8300|            64|               0|     Flash Storage|                  No|      Intel|     HD Graphics|\n",
      "|   Asus|E402WA-GA010T (E2...|          Notebook|  14.0|  2|Windows 10|  1.65|      199.0|Standard|   1366|    768|         No|      No|           No|        AMD|     1.5| E-Series E2-6110|            32|               0|     Flash Storage|                  No|        AMD|       Radeon R2|\n",
      "+-------+--------------------+------------------+------+---+----------+------+-----------+--------+-------+-------+-----------+--------+-------------+-----------+--------+-----------------+--------------+----------------+------------------+--------------------+-----------+----------------+\n",
      "only showing top 20 rows\n",
      "\n"
     ]
    }
   ],
   "source": [
    "df.where('Price_euros < 1000').show()"
   ]
  },
  {
   "cell_type": "code",
   "execution_count": 110,
   "id": "72a57003",
   "metadata": {},
   "outputs": [
    {
     "name": "stdout",
     "output_type": "stream",
     "text": [
      "+---------+-----+\n",
      "|  Company|count|\n",
      "+---------+-----+\n",
      "|    Razer|    7|\n",
      "|  Fujitsu|    3|\n",
      "|   Huawei|    2|\n",
      "|   Xiaomi|    4|\n",
      "|       HP|  268|\n",
      "|     Dell|  291|\n",
      "|     Vero|    4|\n",
      "|     Acer|  101|\n",
      "|     Asus|  152|\n",
      "|   Lenovo|  289|\n",
      "| Mediacom|    7|\n",
      "|  Samsung|    9|\n",
      "|   Google|    3|\n",
      "|       LG|    3|\n",
      "|    Chuwi|    3|\n",
      "|Microsoft|    6|\n",
      "|    Apple|   21|\n",
      "|      MSI|   54|\n",
      "|  Toshiba|   48|\n",
      "+---------+-----+\n",
      "\n"
     ]
    }
   ],
   "source": [
    "df.groupBy('Company').count().show()"
   ]
  },
  {
   "cell_type": "code",
   "execution_count": 111,
   "id": "2ee13166",
   "metadata": {},
   "outputs": [
    {
     "name": "stdout",
     "output_type": "stream",
     "text": [
      "+---------+-----+\n",
      "|  Company|count|\n",
      "+---------+-----+\n",
      "|   Huawei|    2|\n",
      "|  Fujitsu|    3|\n",
      "|   Google|    3|\n",
      "|       LG|    3|\n",
      "|    Chuwi|    3|\n",
      "|   Xiaomi|    4|\n",
      "|     Vero|    4|\n",
      "|Microsoft|    6|\n",
      "|    Razer|    7|\n",
      "| Mediacom|    7|\n",
      "|  Samsung|    9|\n",
      "|    Apple|   21|\n",
      "|  Toshiba|   48|\n",
      "|      MSI|   54|\n",
      "|     Acer|  101|\n",
      "|     Asus|  152|\n",
      "|       HP|  268|\n",
      "|   Lenovo|  289|\n",
      "|     Dell|  291|\n",
      "+---------+-----+\n",
      "\n"
     ]
    }
   ],
   "source": [
    "df.groupBy('Company').count().orderBy('count').show()"
   ]
  },
  {
   "cell_type": "code",
   "execution_count": 112,
   "id": "a1b9a0ff",
   "metadata": {},
   "outputs": [
    {
     "name": "stdout",
     "output_type": "stream",
     "text": [
      "+---------+-----+\n",
      "|  Company|count|\n",
      "+---------+-----+\n",
      "|     Dell|  291|\n",
      "|   Lenovo|  289|\n",
      "|       HP|  268|\n",
      "|     Asus|  152|\n",
      "|     Acer|  101|\n",
      "|      MSI|   54|\n",
      "|  Toshiba|   48|\n",
      "|    Apple|   21|\n",
      "|  Samsung|    9|\n",
      "|    Razer|    7|\n",
      "| Mediacom|    7|\n",
      "|Microsoft|    6|\n",
      "|   Xiaomi|    4|\n",
      "|     Vero|    4|\n",
      "|  Fujitsu|    3|\n",
      "|   Google|    3|\n",
      "|       LG|    3|\n",
      "|    Chuwi|    3|\n",
      "|   Huawei|    2|\n",
      "+---------+-----+\n",
      "\n"
     ]
    }
   ],
   "source": [
    "from pyspark.sql.functions import desc\n",
    "df.groupBy('Company').count().orderBy(desc('count')).show()"
   ]
  },
  {
   "cell_type": "code",
   "execution_count": 114,
   "id": "ab40d992",
   "metadata": {},
   "outputs": [
    {
     "name": "stdout",
     "output_type": "stream",
     "text": [
      "+------------------+\n",
      "|  avg(Price_euros)|\n",
      "+------------------+\n",
      "|1134.9690588235296|\n",
      "+------------------+\n",
      "\n"
     ]
    }
   ],
   "source": [
    "df.agg({'Price_euros': 'avg'}).show()"
   ]
  },
  {
   "cell_type": "code",
   "execution_count": 134,
   "id": "e11b5a4b",
   "metadata": {},
   "outputs": [],
   "source": [
    "from pyspark.sql import functions as sf"
   ]
  },
  {
   "cell_type": "code",
   "execution_count": 138,
   "id": "c2b6a89b",
   "metadata": {},
   "outputs": [
    {
     "name": "stdout",
     "output_type": "stream",
     "text": [
      "+-------+-----------------+---------+------+---+----------+------+-----------+--------+-------+-------+-----------+--------+-------------+-----------+--------+--------------+--------------+----------------+------------------+--------------------+-----------+--------------------+-------------+----------------+\n",
      "|Company|          Product| TypeName|Inches|Ram|        OS|Weight|Price_euros|  Screen|ScreenW|ScreenH|Touchscreen|IPSpanel|RetinaDisplay|CPU_company|CPU_freq|     CPU_model|PrimaryStorage|SecondaryStorage|PrimaryStorageType|SecondaryStorageType|GPU_company|           GPU_model|discount_rate|discounted_price|\n",
      "+-------+-----------------+---------+------+---+----------+------+-----------+--------+-------+-------+-----------+--------+-------------+-----------+--------+--------------+--------------+----------------+------------------+--------------------+-----------+--------------------+-------------+----------------+\n",
      "|  Apple|      MacBook Pro|Ultrabook|  13.3|  8|     macOS|  1.37|    1339.69|Standard|   2560|   1600|         No|     Yes|          Yes|      Intel|     2.3|       Core i5|           128|               0|               SSD|                  No|      Intel|Iris Plus Graphic...|          0.5|         669.845|\n",
      "|  Apple|      Macbook Air|Ultrabook|  13.3|  8|     macOS|  1.34|     898.94|Standard|   1440|    900|         No|      No|           No|      Intel|     1.8|       Core i5|           128|               0|     Flash Storage|                  No|      Intel|    HD Graphics 6000|          0.5|          449.47|\n",
      "|     HP|           250 G6| Notebook|  15.6|  8|     No OS|  1.86|      575.0| Full HD|   1920|   1080|         No|      No|           No|      Intel|     2.5| Core i5 7200U|           256|               0|               SSD|                  No|      Intel|     HD Graphics 620|          0.5|           287.5|\n",
      "|  Apple|      MacBook Pro|Ultrabook|  15.4| 16|     macOS|  1.83|    2537.45|Standard|   2880|   1800|         No|     Yes|          Yes|      Intel|     2.7|       Core i7|           512|               0|               SSD|                  No|        AMD|      Radeon Pro 455|          0.5|        1268.725|\n",
      "|  Apple|      MacBook Pro|Ultrabook|  13.3|  8|     macOS|  1.37|     1803.6|Standard|   2560|   1600|         No|     Yes|          Yes|      Intel|     3.1|       Core i5|           256|               0|               SSD|                  No|      Intel|Iris Plus Graphic...|          0.5|           901.8|\n",
      "|   Acer|         Aspire 3| Notebook|  15.6|  4|Windows 10|   2.1|      400.0|Standard|   1366|    768|         No|      No|           No|        AMD|     3.0|A9-Series 9420|           500|               0|               HDD|                  No|        AMD|           Radeon R5|          0.5|           200.0|\n",
      "|  Apple|      MacBook Pro|Ultrabook|  15.4| 16|  Mac OS X|  2.04|    2139.97|Standard|   2880|   1800|         No|     Yes|          Yes|      Intel|     2.2|       Core i7|           256|               0|     Flash Storage|                  No|      Intel|   Iris Pro Graphics|          0.5|        1069.985|\n",
      "|  Apple|      Macbook Air|Ultrabook|  13.3|  8|     macOS|  1.34|     1158.7|Standard|   1440|    900|         No|      No|           No|      Intel|     1.8|       Core i5|           256|               0|     Flash Storage|                  No|      Intel|    HD Graphics 6000|          0.5|          579.35|\n",
      "|   Asus|  ZenBook UX430UN|Ultrabook|  14.0| 16|Windows 10|   1.3|     1495.0| Full HD|   1920|   1080|         No|      No|           No|      Intel|     1.8| Core i7 8550U|           512|               0|               SSD|                  No|     Nvidia|       GeForce MX150|          0.5|           747.5|\n",
      "|   Acer|          Swift 3|Ultrabook|  14.0|  8|Windows 10|   1.6|      770.0| Full HD|   1920|   1080|         No|     Yes|           No|      Intel|     1.6| Core i5 8250U|           256|               0|               SSD|                  No|      Intel|    UHD Graphics 620|          0.5|           385.0|\n",
      "|     HP|           250 G6| Notebook|  15.6|  4|     No OS|  1.86|      393.9|Standard|   1366|    768|         No|      No|           No|      Intel|     2.5| Core i5 7200U|           500|               0|               HDD|                  No|      Intel|     HD Graphics 620|          0.5|          196.95|\n",
      "|     HP|           250 G6| Notebook|  15.6|  4|     No OS|  1.86|     344.99| Full HD|   1920|   1080|         No|      No|           No|      Intel|     2.0| Core i3 6006U|           500|               0|               HDD|                  No|      Intel|     HD Graphics 520|          0.5|         172.495|\n",
      "|  Apple|      MacBook Pro|Ultrabook|  15.4| 16|     macOS|  1.83|    2439.97|Standard|   2880|   1800|         No|     Yes|          Yes|      Intel|     2.8|       Core i7|           256|               0|               SSD|                  No|        AMD|      Radeon Pro 555|          0.5|        1219.985|\n",
      "|   Dell|    Inspiron 3567| Notebook|  15.6|  4|Windows 10|   2.2|      498.9| Full HD|   1920|   1080|         No|      No|           No|      Intel|     2.0| Core i3 6006U|           256|               0|               SSD|                  No|        AMD|      Radeon R5 M430|          0.5|          249.45|\n",
      "|  Apple|     MacBook 12\"\"|Ultrabook|  12.0|  8|     macOS|  0.92|     1262.4|Standard|   2304|   1440|         No|     Yes|          Yes|      Intel|     1.2|     Core M m3|           256|               0|               SSD|                  No|      Intel|     HD Graphics 615|          0.5|           631.2|\n",
      "|  Apple|      MacBook Pro|Ultrabook|  13.3|  8|     macOS|  1.37|    1518.55|Standard|   2560|   1600|         No|     Yes|          Yes|      Intel|     2.3|       Core i5|           256|               0|               SSD|                  No|      Intel|Iris Plus Graphic...|          0.5|         759.275|\n",
      "|   Dell|    Inspiron 3567| Notebook|  15.6|  8|Windows 10|   2.2|      745.0| Full HD|   1920|   1080|         No|      No|           No|      Intel|     2.7| Core i7 7500U|           256|               0|               SSD|                  No|        AMD|      Radeon R5 M430|          0.5|           372.5|\n",
      "|  Apple|      MacBook Pro|Ultrabook|  15.4| 16|     macOS|  1.83|     2858.0|Standard|   2880|   1800|         No|     Yes|          Yes|      Intel|     2.9|       Core i7|           512|               0|               SSD|                  No|        AMD|      Radeon Pro 560|          0.5|          1429.0|\n",
      "| Lenovo|IdeaPad 320-15IKB| Notebook|  15.6|  8|     No OS|   2.2|      499.0| Full HD|   1920|   1080|         No|      No|           No|      Intel|     2.4| Core i3 7100U|          1024|               0|               HDD|                  No|     Nvidia|       GeForce 940MX|          0.5|           249.5|\n",
      "|   Dell|           XPS 13|Ultrabook|  13.3|  8|Windows 10|  1.22|      979.0| Full HD|   1920|   1080|        Yes|     Yes|           No|      Intel|     1.6| Core i5 8250U|           128|               0|               SSD|                  No|      Intel|    UHD Graphics 620|          0.5|           489.5|\n",
      "+-------+-----------------+---------+------+---+----------+------+-----------+--------+-------+-------+-----------+--------+-------------+-----------+--------+--------------+--------------+----------------+------------------+--------------------+-----------+--------------------+-------------+----------------+\n",
      "only showing top 20 rows\n",
      "\n"
     ]
    }
   ],
   "source": [
    "df.withColumn('discount_rate', sf.lit(0.5)).withColumn('discounted_price', sf.col('Price_euros') * sf.col('discount_rate')).show()"
   ]
  },
  {
   "cell_type": "code",
   "execution_count": 139,
   "id": "d17db339",
   "metadata": {},
   "outputs": [
    {
     "name": "stdout",
     "output_type": "stream",
     "text": [
      "+------+-----------------+---------+------+---+----------+------+-----------+--------+-------+-------+-----------+--------+-------------+-----------+--------+--------------+--------------+----------------+------------------+--------------------+-----------+--------------------+\n",
      "| Brand|          Product| TypeName|Inches|Ram|        OS|Weight|Price_euros|  Screen|ScreenW|ScreenH|Touchscreen|IPSpanel|RetinaDisplay|CPU_company|CPU_freq|     CPU_model|PrimaryStorage|SecondaryStorage|PrimaryStorageType|SecondaryStorageType|GPU_company|           GPU_model|\n",
      "+------+-----------------+---------+------+---+----------+------+-----------+--------+-------+-------+-----------+--------+-------------+-----------+--------+--------------+--------------+----------------+------------------+--------------------+-----------+--------------------+\n",
      "| Apple|      MacBook Pro|Ultrabook|  13.3|  8|     macOS|  1.37|    1339.69|Standard|   2560|   1600|         No|     Yes|          Yes|      Intel|     2.3|       Core i5|           128|               0|               SSD|                  No|      Intel|Iris Plus Graphic...|\n",
      "| Apple|      Macbook Air|Ultrabook|  13.3|  8|     macOS|  1.34|     898.94|Standard|   1440|    900|         No|      No|           No|      Intel|     1.8|       Core i5|           128|               0|     Flash Storage|                  No|      Intel|    HD Graphics 6000|\n",
      "|    HP|           250 G6| Notebook|  15.6|  8|     No OS|  1.86|      575.0| Full HD|   1920|   1080|         No|      No|           No|      Intel|     2.5| Core i5 7200U|           256|               0|               SSD|                  No|      Intel|     HD Graphics 620|\n",
      "| Apple|      MacBook Pro|Ultrabook|  15.4| 16|     macOS|  1.83|    2537.45|Standard|   2880|   1800|         No|     Yes|          Yes|      Intel|     2.7|       Core i7|           512|               0|               SSD|                  No|        AMD|      Radeon Pro 455|\n",
      "| Apple|      MacBook Pro|Ultrabook|  13.3|  8|     macOS|  1.37|     1803.6|Standard|   2560|   1600|         No|     Yes|          Yes|      Intel|     3.1|       Core i5|           256|               0|               SSD|                  No|      Intel|Iris Plus Graphic...|\n",
      "|  Acer|         Aspire 3| Notebook|  15.6|  4|Windows 10|   2.1|      400.0|Standard|   1366|    768|         No|      No|           No|        AMD|     3.0|A9-Series 9420|           500|               0|               HDD|                  No|        AMD|           Radeon R5|\n",
      "| Apple|      MacBook Pro|Ultrabook|  15.4| 16|  Mac OS X|  2.04|    2139.97|Standard|   2880|   1800|         No|     Yes|          Yes|      Intel|     2.2|       Core i7|           256|               0|     Flash Storage|                  No|      Intel|   Iris Pro Graphics|\n",
      "| Apple|      Macbook Air|Ultrabook|  13.3|  8|     macOS|  1.34|     1158.7|Standard|   1440|    900|         No|      No|           No|      Intel|     1.8|       Core i5|           256|               0|     Flash Storage|                  No|      Intel|    HD Graphics 6000|\n",
      "|  Asus|  ZenBook UX430UN|Ultrabook|  14.0| 16|Windows 10|   1.3|     1495.0| Full HD|   1920|   1080|         No|      No|           No|      Intel|     1.8| Core i7 8550U|           512|               0|               SSD|                  No|     Nvidia|       GeForce MX150|\n",
      "|  Acer|          Swift 3|Ultrabook|  14.0|  8|Windows 10|   1.6|      770.0| Full HD|   1920|   1080|         No|     Yes|           No|      Intel|     1.6| Core i5 8250U|           256|               0|               SSD|                  No|      Intel|    UHD Graphics 620|\n",
      "|    HP|           250 G6| Notebook|  15.6|  4|     No OS|  1.86|      393.9|Standard|   1366|    768|         No|      No|           No|      Intel|     2.5| Core i5 7200U|           500|               0|               HDD|                  No|      Intel|     HD Graphics 620|\n",
      "|    HP|           250 G6| Notebook|  15.6|  4|     No OS|  1.86|     344.99| Full HD|   1920|   1080|         No|      No|           No|      Intel|     2.0| Core i3 6006U|           500|               0|               HDD|                  No|      Intel|     HD Graphics 520|\n",
      "| Apple|      MacBook Pro|Ultrabook|  15.4| 16|     macOS|  1.83|    2439.97|Standard|   2880|   1800|         No|     Yes|          Yes|      Intel|     2.8|       Core i7|           256|               0|               SSD|                  No|        AMD|      Radeon Pro 555|\n",
      "|  Dell|    Inspiron 3567| Notebook|  15.6|  4|Windows 10|   2.2|      498.9| Full HD|   1920|   1080|         No|      No|           No|      Intel|     2.0| Core i3 6006U|           256|               0|               SSD|                  No|        AMD|      Radeon R5 M430|\n",
      "| Apple|     MacBook 12\"\"|Ultrabook|  12.0|  8|     macOS|  0.92|     1262.4|Standard|   2304|   1440|         No|     Yes|          Yes|      Intel|     1.2|     Core M m3|           256|               0|               SSD|                  No|      Intel|     HD Graphics 615|\n",
      "| Apple|      MacBook Pro|Ultrabook|  13.3|  8|     macOS|  1.37|    1518.55|Standard|   2560|   1600|         No|     Yes|          Yes|      Intel|     2.3|       Core i5|           256|               0|               SSD|                  No|      Intel|Iris Plus Graphic...|\n",
      "|  Dell|    Inspiron 3567| Notebook|  15.6|  8|Windows 10|   2.2|      745.0| Full HD|   1920|   1080|         No|      No|           No|      Intel|     2.7| Core i7 7500U|           256|               0|               SSD|                  No|        AMD|      Radeon R5 M430|\n",
      "| Apple|      MacBook Pro|Ultrabook|  15.4| 16|     macOS|  1.83|     2858.0|Standard|   2880|   1800|         No|     Yes|          Yes|      Intel|     2.9|       Core i7|           512|               0|               SSD|                  No|        AMD|      Radeon Pro 560|\n",
      "|Lenovo|IdeaPad 320-15IKB| Notebook|  15.6|  8|     No OS|   2.2|      499.0| Full HD|   1920|   1080|         No|      No|           No|      Intel|     2.4| Core i3 7100U|          1024|               0|               HDD|                  No|     Nvidia|       GeForce 940MX|\n",
      "|  Dell|           XPS 13|Ultrabook|  13.3|  8|Windows 10|  1.22|      979.0| Full HD|   1920|   1080|        Yes|     Yes|           No|      Intel|     1.6| Core i5 8250U|           128|               0|               SSD|                  No|      Intel|    UHD Graphics 620|\n",
      "+------+-----------------+---------+------+---+----------+------+-----------+--------+-------+-------+-----------+--------+-------------+-----------+--------+--------------+--------------+----------------+------------------+--------------------+-----------+--------------------+\n",
      "only showing top 20 rows\n",
      "\n"
     ]
    }
   ],
   "source": [
    "df.withColumnRenamed('Company', 'Brand').show()"
   ]
  },
  {
   "cell_type": "code",
   "execution_count": 141,
   "id": "f39da578",
   "metadata": {},
   "outputs": [
    {
     "name": "stdout",
     "output_type": "stream",
     "text": [
      "+-------+-----------------+------+---+----------+------+-----------+--------+-------+-------+-----------+--------+-------------+-----------+--------+--------------+--------------+----------------+------------------+--------------------+-----------+--------------------+\n",
      "|Company|          Product|Inches|Ram|        OS|Weight|Price_euros|  Screen|ScreenW|ScreenH|Touchscreen|IPSpanel|RetinaDisplay|CPU_company|CPU_freq|     CPU_model|PrimaryStorage|SecondaryStorage|PrimaryStorageType|SecondaryStorageType|GPU_company|           GPU_model|\n",
      "+-------+-----------------+------+---+----------+------+-----------+--------+-------+-------+-----------+--------+-------------+-----------+--------+--------------+--------------+----------------+------------------+--------------------+-----------+--------------------+\n",
      "|  Apple|      MacBook Pro|  13.3|  8|     macOS|  1.37|    1339.69|Standard|   2560|   1600|         No|     Yes|          Yes|      Intel|     2.3|       Core i5|           128|               0|               SSD|                  No|      Intel|Iris Plus Graphic...|\n",
      "|  Apple|      Macbook Air|  13.3|  8|     macOS|  1.34|     898.94|Standard|   1440|    900|         No|      No|           No|      Intel|     1.8|       Core i5|           128|               0|     Flash Storage|                  No|      Intel|    HD Graphics 6000|\n",
      "|     HP|           250 G6|  15.6|  8|     No OS|  1.86|      575.0| Full HD|   1920|   1080|         No|      No|           No|      Intel|     2.5| Core i5 7200U|           256|               0|               SSD|                  No|      Intel|     HD Graphics 620|\n",
      "|  Apple|      MacBook Pro|  15.4| 16|     macOS|  1.83|    2537.45|Standard|   2880|   1800|         No|     Yes|          Yes|      Intel|     2.7|       Core i7|           512|               0|               SSD|                  No|        AMD|      Radeon Pro 455|\n",
      "|  Apple|      MacBook Pro|  13.3|  8|     macOS|  1.37|     1803.6|Standard|   2560|   1600|         No|     Yes|          Yes|      Intel|     3.1|       Core i5|           256|               0|               SSD|                  No|      Intel|Iris Plus Graphic...|\n",
      "|   Acer|         Aspire 3|  15.6|  4|Windows 10|   2.1|      400.0|Standard|   1366|    768|         No|      No|           No|        AMD|     3.0|A9-Series 9420|           500|               0|               HDD|                  No|        AMD|           Radeon R5|\n",
      "|  Apple|      MacBook Pro|  15.4| 16|  Mac OS X|  2.04|    2139.97|Standard|   2880|   1800|         No|     Yes|          Yes|      Intel|     2.2|       Core i7|           256|               0|     Flash Storage|                  No|      Intel|   Iris Pro Graphics|\n",
      "|  Apple|      Macbook Air|  13.3|  8|     macOS|  1.34|     1158.7|Standard|   1440|    900|         No|      No|           No|      Intel|     1.8|       Core i5|           256|               0|     Flash Storage|                  No|      Intel|    HD Graphics 6000|\n",
      "|   Asus|  ZenBook UX430UN|  14.0| 16|Windows 10|   1.3|     1495.0| Full HD|   1920|   1080|         No|      No|           No|      Intel|     1.8| Core i7 8550U|           512|               0|               SSD|                  No|     Nvidia|       GeForce MX150|\n",
      "|   Acer|          Swift 3|  14.0|  8|Windows 10|   1.6|      770.0| Full HD|   1920|   1080|         No|     Yes|           No|      Intel|     1.6| Core i5 8250U|           256|               0|               SSD|                  No|      Intel|    UHD Graphics 620|\n",
      "|     HP|           250 G6|  15.6|  4|     No OS|  1.86|      393.9|Standard|   1366|    768|         No|      No|           No|      Intel|     2.5| Core i5 7200U|           500|               0|               HDD|                  No|      Intel|     HD Graphics 620|\n",
      "|     HP|           250 G6|  15.6|  4|     No OS|  1.86|     344.99| Full HD|   1920|   1080|         No|      No|           No|      Intel|     2.0| Core i3 6006U|           500|               0|               HDD|                  No|      Intel|     HD Graphics 520|\n",
      "|  Apple|      MacBook Pro|  15.4| 16|     macOS|  1.83|    2439.97|Standard|   2880|   1800|         No|     Yes|          Yes|      Intel|     2.8|       Core i7|           256|               0|               SSD|                  No|        AMD|      Radeon Pro 555|\n",
      "|   Dell|    Inspiron 3567|  15.6|  4|Windows 10|   2.2|      498.9| Full HD|   1920|   1080|         No|      No|           No|      Intel|     2.0| Core i3 6006U|           256|               0|               SSD|                  No|        AMD|      Radeon R5 M430|\n",
      "|  Apple|     MacBook 12\"\"|  12.0|  8|     macOS|  0.92|     1262.4|Standard|   2304|   1440|         No|     Yes|          Yes|      Intel|     1.2|     Core M m3|           256|               0|               SSD|                  No|      Intel|     HD Graphics 615|\n",
      "|  Apple|      MacBook Pro|  13.3|  8|     macOS|  1.37|    1518.55|Standard|   2560|   1600|         No|     Yes|          Yes|      Intel|     2.3|       Core i5|           256|               0|               SSD|                  No|      Intel|Iris Plus Graphic...|\n",
      "|   Dell|    Inspiron 3567|  15.6|  8|Windows 10|   2.2|      745.0| Full HD|   1920|   1080|         No|      No|           No|      Intel|     2.7| Core i7 7500U|           256|               0|               SSD|                  No|        AMD|      Radeon R5 M430|\n",
      "|  Apple|      MacBook Pro|  15.4| 16|     macOS|  1.83|     2858.0|Standard|   2880|   1800|         No|     Yes|          Yes|      Intel|     2.9|       Core i7|           512|               0|               SSD|                  No|        AMD|      Radeon Pro 560|\n",
      "| Lenovo|IdeaPad 320-15IKB|  15.6|  8|     No OS|   2.2|      499.0| Full HD|   1920|   1080|         No|      No|           No|      Intel|     2.4| Core i3 7100U|          1024|               0|               HDD|                  No|     Nvidia|       GeForce 940MX|\n",
      "|   Dell|           XPS 13|  13.3|  8|Windows 10|  1.22|      979.0| Full HD|   1920|   1080|        Yes|     Yes|           No|      Intel|     1.6| Core i5 8250U|           128|               0|               SSD|                  No|      Intel|    UHD Graphics 620|\n",
      "+-------+-----------------+------+---+----------+------+-----------+--------+-------+-------+-----------+--------+-------------+-----------+--------+--------------+--------------+----------------+------------------+--------------------+-----------+--------------------+\n",
      "only showing top 20 rows\n",
      "\n"
     ]
    }
   ],
   "source": [
    "df.drop('TypeName').show()"
   ]
  },
  {
   "cell_type": "code",
   "execution_count": 142,
   "id": "2a59e268",
   "metadata": {},
   "outputs": [
    {
     "data": {
      "text/plain": [
       "1275"
      ]
     },
     "execution_count": 142,
     "metadata": {},
     "output_type": "execute_result"
    }
   ],
   "source": [
    "df.count()"
   ]
  },
  {
   "cell_type": "code",
   "execution_count": 143,
   "id": "470ec091",
   "metadata": {},
   "outputs": [
    {
     "data": {
      "text/plain": [
       "1275"
      ]
     },
     "execution_count": 143,
     "metadata": {},
     "output_type": "execute_result"
    }
   ],
   "source": [
    "df.distinct().count()"
   ]
  },
  {
   "cell_type": "code",
   "execution_count": 145,
   "id": "a3b45ad8",
   "metadata": {},
   "outputs": [
    {
     "name": "stdout",
     "output_type": "stream",
     "text": [
      "+-------+------------------+-----------+------+---+----------+------+-----------+-----------+-------+-------+-----------+--------+-------------+-----------+--------+----------------+--------------+----------------+------------------+--------------------+-----------+-----------------+\n",
      "|Company|           Product|   TypeName|Inches|Ram|        OS|Weight|Price_euros|     Screen|ScreenW|ScreenH|Touchscreen|IPSpanel|RetinaDisplay|CPU_company|CPU_freq|       CPU_model|PrimaryStorage|SecondaryStorage|PrimaryStorageType|SecondaryStorageType|GPU_company|        GPU_model|\n",
      "+-------+------------------+-----------+------+---+----------+------+-----------+-----------+-------+-------+-----------+--------+-------------+-----------+--------+----------------+--------------+----------------+------------------+--------------------+-----------+-----------------+\n",
      "|  Razer|         Blade Pro|     Gaming|  17.3| 32|Windows 10|  3.49|     6099.0|4K Ultra HD|   3840|   2160|        Yes|      No|           No|      Intel|     2.9|  Core i7 7820HK|          1024|               0|               SSD|                  No|     Nvidia| GeForce GTX 1080|\n",
      "|  Razer|         Blade Pro|     Gaming|  17.3| 32|Windows 10|  3.49|     5499.0|4K Ultra HD|   3840|   2160|        Yes|      No|           No|      Intel|     2.9|  Core i7 7820HK|           512|               0|               SSD|                  No|     Nvidia| GeForce GTX 1080|\n",
      "| Lenovo|      Thinkpad P51|   Notebook|  15.6| 32|Windows 10|   2.5|     4899.0|4K Ultra HD|   3840|   2160|         No|     Yes|           No|      Intel|     3.1|Xeon E3-1535M v6|          1024|               0|               SSD|                  No|     Nvidia|    Quadro M2200M|\n",
      "|     HP|          Zbook 17|Workstation|  17.3| 16| Windows 7|   3.0|     4389.0|    Full HD|   1920|   1080|         No|     Yes|           No|      Intel|     2.9|Xeon E3-1535M v5|           256|               0|               SSD|                  No|     Nvidia|    Quadro M2000M|\n",
      "|   Asus|        ROG G701VO|     Gaming|  17.3| 64|Windows 10|  3.58|     3975.0|    Full HD|   1920|   1080|         No|     Yes|           No|      Intel|     2.7|  Core i7 6820HK|          1024|               0|               SSD|                  No|     Nvidia| GeForce GTX 980 |\n",
      "|     HP|          ZBook 17|Workstation|  17.3|  8| Windows 7|   3.0|     3949.4|    Full HD|   1920|   1080|         No|     Yes|           No|      Intel|     2.6|  Core i7 6700HQ|           256|               0|               SSD|                  No|     Nvidia|    Quadro M3000M|\n",
      "|   Asus| ROG G703VI-E5062T|     Gaming|  17.3| 32|Windows 10|   4.7|     3890.0|    Full HD|   1920|   1080|         No|      No|           No|      Intel|     2.9|  Core i7 7820HK|           512|            1024|               SSD|                 HDD|     Nvidia| GeForce GTX 1080|\n",
      "|   Dell|      Alienware 17|     Gaming|  17.3| 32|Windows 10|  4.36|     3659.4|4K Ultra HD|   3840|   2160|         No|      No|           No|      Intel|     2.8|  Core i7 7700HQ|          1024|            1024|               SSD|                 HDD|     Nvidia| GeForce GTX 1070|\n",
      "|   Dell|      Alienware 17|     Gaming|  17.3| 32|Windows 10|  4.42|     3588.8|    Full HD|   1920|   1080|         No|     Yes|           No|      Intel|     2.8|  Core i7 7700HQ|          1024|            1024|               SSD|                 HDD|     Nvidia|GeForce GTX 1070M|\n",
      "|  Razer|         Blade Pro|     Gaming|  14.0| 16|Windows 10|  1.95|     3499.0|    Full HD|   1920|   1080|         No|      No|           No|      Intel|     2.8|  Core i7 7700HQ|          1024|               0|               SSD|                  No|     Nvidia| GeForce GTX 1060|\n",
      "| Lenovo|     Thinkpad P51s|Workstation|  15.6| 16|Windows 10|   2.5|     3299.0|4K Ultra HD|   3840|   2160|         No|     Yes|           No|      Intel|     2.8|   Core i7 7600U|          1024|               0|               SSD|                  No|     Nvidia|     Quadro M520M|\n",
      "| Lenovo|IdeaPad Y900-17ISK|     Gaming|  17.3| 32|Windows 10|   4.6|     3240.0|    Full HD|   1920|   1080|         No|     Yes|           No|      Intel|     2.7|  Core i7 6820HK|           512|            1024|               SSD|              Hybrid|     Nvidia| GeForce GTX 980M|\n",
      "|   Dell|      Alienware 17|     Gaming|  17.3| 16|Windows 10|  4.36|     3154.0|4K Ultra HD|   3840|   2160|         No|     Yes|           No|      Intel|     2.8|  Core i7 7700HQ|           512|            1024|               SSD|                 HDD|     Nvidia| GeForce GTX 1070|\n",
      "|   Dell|      Alienware 17|     Gaming|  17.3| 32|Windows 10|  4.42|     3149.0|    Full HD|   1920|   1080|         No|     Yes|           No|      Intel|     2.8|  Core i7 7700HQ|           256|            1024|               SSD|                 HDD|     Nvidia| GeForce GTX 1070|\n",
      "|   Dell|      Alienware 17|     Gaming|  17.3| 32|Windows 10|  4.42|    3147.37|4K Ultra HD|   3840|   2160|         No|     Yes|           No|      Intel|     2.8|  Core i7 7700HQ|           512|            1024|               SSD|                 HDD|     Nvidia| GeForce GTX 1070|\n",
      "|     HP|   Elitebook Folio|  Ultrabook|  12.5|  8|Windows 10|  1.09|     3100.0|4K Ultra HD|   3840|   2160|        Yes|      No|           No|      Intel|     1.2|     Core M 6Y75|           240|               0|               SSD|                  No|      Intel|  HD Graphics 515|\n",
      "|   Dell|      Alienware 17|     Gaming|  17.3| 32|Windows 10|  4.42|    3072.89|    Full HD|   1920|   1080|         No|     Yes|           No|      Intel|     2.8|  Core i7 7700HQ|           512|            1024|               SSD|                 HDD|     Nvidia| GeForce GTX 1070|\n",
      "|   Dell|    Precision 7520|Workstation|  15.6| 16|Windows 10|   2.8|     3055.0|4K Ultra HD|   3840|   2160|         No|      No|           No|      Intel|     3.0|Xeon E3-1505M V6|           256|            1024|               SSD|                 HDD|     Nvidia|     Quadro M1200|\n",
      "|   Dell|      Alienware 17|     Gaming|  17.3| 16|Windows 10|  4.42|    3012.77|    Full HD|   1920|   1080|         No|     Yes|           No|      Intel|     2.8|  Core i7 7700HQ|           128|            1024|               SSD|                 HDD|     Nvidia| GeForce GTX 1070|\n",
      "|   Asus|Rog G701VIK-BA060T|     Gaming|  17.3| 16|Windows 10|   3.6|     2999.0|    Full HD|   1920|   1080|         No|      No|           No|      Intel|     2.9|  Core i7 7820HK|           256|               0|               SSD|                  No|     Nvidia| GeForce GTX 1080|\n",
      "+-------+------------------+-----------+------+---+----------+------+-----------+-----------+-------+-------+-----------+--------+-------------+-----------+--------+----------------+--------------+----------------+------------------+--------------------+-----------+-----------------+\n",
      "only showing top 20 rows\n",
      "\n"
     ]
    }
   ],
   "source": [
    "df.sort(sf.desc('Price_euros')).show()"
   ]
  },
  {
   "cell_type": "code",
   "execution_count": 146,
   "id": "83813704",
   "metadata": {},
   "outputs": [
    {
     "name": "stdout",
     "output_type": "stream",
     "text": [
      "+--------+--------------------+--------+------+---+----------+------+-----------+--------+-------+-------+-----------+--------+-------------+-----------+--------+--------------------+--------------+----------------+------------------+--------------------+-----------+---------------+\n",
      "| Company|             Product|TypeName|Inches|Ram|        OS|Weight|Price_euros|  Screen|ScreenW|ScreenH|Touchscreen|IPSpanel|RetinaDisplay|CPU_company|CPU_freq|           CPU_model|PrimaryStorage|SecondaryStorage|PrimaryStorageType|SecondaryStorageType|GPU_company|      GPU_model|\n",
      "+--------+--------------------+--------+------+---+----------+------+-----------+--------+-------+-------+-----------+--------+-------------+-----------+--------+--------------------+--------------+----------------+------------------+--------------------+-----------+---------------+\n",
      "|    Acer|C740-C9QX (3205U/...| Netbook|  11.6|  2| Chrome OS|   1.3|      174.0|Standard|   1366|    768|         No|      No|           No|      Intel|     1.5|Celeron Dual Core...|            32|               0|               SSD|                  No|      Intel|    HD Graphics|\n",
      "|    Asus|     Vivobook E200HA| Netbook|  11.6|  2|Windows 10|  0.98|      191.9|Standard|   1366|    768|         No|      No|           No|      Intel|    1.44|       Atom x5-Z8350|            32|               0|     Flash Storage|                  No|      Intel|HD Graphics 400|\n",
      "|    Vero|V131 (X5-Z8350/4G...|Notebook|  13.3|  4|Windows 10|  1.35|      196.0| Full HD|   1920|   1080|         No|      No|           No|      Intel|    1.44|       Atom X5-Z8350|            32|               0|     Flash Storage|                  No|      Intel|HD Graphics 400|\n",
      "|    Asus|E402WA-GA010T (E2...|Notebook|  14.0|  2|Windows 10|  1.65|      199.0|Standard|   1366|    768|         No|      No|           No|        AMD|     1.5|    E-Series E2-6110|            32|               0|     Flash Storage|                  No|        AMD|      Radeon R2|\n",
      "|    Acer|Chromebook C910-C2ST|Notebook|  15.6|  2| Chrome OS|  2.19|      199.0|Standard|   1366|    768|         No|      No|           No|      Intel|     1.5|Celeron Dual Core...|            16|               0|               SSD|                  No|      Intel|    HD Graphics|\n",
      "|    Vero|K146 (N3350/4GB/3...|Notebook|  14.0|  4|Windows 10|  1.22|      202.9|Standard|   1920|   1080|         No|      No|           No|      Intel|     1.1|Celeron Dual Core...|            32|               0|     Flash Storage|                  No|      Intel|HD Graphics 500|\n",
      "|    Acer|       Chromebook 15|Notebook|  15.6|  4| Chrome OS|   2.2|      209.0|Standard|   1366|    768|         No|      No|           No|      Intel|     1.5|Celeron Dual Core...|            16|               0|               SSD|                  No|      Intel|    HD Graphics|\n",
      "|      HP|    Stream 11-Y000na| Netbook|  11.6|  2|Windows 10|  1.17|      209.0|Standard|   1366|    768|         No|      No|           No|      Intel|     1.6|Celeron Dual Core...|            32|               0|     Flash Storage|                  No|      Intel|HD Graphics 400|\n",
      "|    Vero|V142 (X5-Z8350/2G...|Notebook|  14.0|  2|Windows 10|  1.45|      210.8|Standard|   1366|    768|         No|      No|           No|      Intel|    1.44|       Atom X5-Z8350|            32|               0|     Flash Storage|                  No|      Intel|HD Graphics 400|\n",
      "|    Asus|A541NA-GO342 (N33...|Notebook|  15.6|  4|     Linux|   2.0|      224.0|Standard|   1366|    768|         No|      No|           No|      Intel|     1.1|Celeron Dual Core...|           500|               0|               HDD|                  No|      Intel|HD Graphics 500|\n",
      "|      HP|   Stream 14-AX040wm|Notebook|  14.0|  4|Windows 10|  1.44|      229.0|Standard|   1366|    768|         No|      No|           No|      Intel|     1.6|Celeron Dual Core...|            32|               0|               SSD|                  No|      Intel|HD Graphics 400|\n",
      "|  Lenovo|  IdeaPad 100S-14IBR|Notebook|  14.0|  2|Windows 10|   1.5|      229.0|Standard|   1366|    768|         No|      No|           No|      Intel|     1.6|Celeron Dual Core...|            64|               0|     Flash Storage|                  No|      Intel|    HD Graphics|\n",
      "|Mediacom|       SmartBook 140|Notebook|  14.0|  2|Windows 10|   1.4|      239.0| Full HD|   1920|   1080|         No|      No|           No|      Intel|    1.44|       Atom x5-Z8350|            32|               0|     Flash Storage|                  No|      Intel|    HD Graphics|\n",
      "|   Chuwi|      LapBook 15.6\"\"|Notebook|  15.6|  4|Windows 10|  1.89|     244.99| Full HD|   1920|   1080|         No|      No|           No|      Intel|    1.44|       Atom x5-Z8300|            64|               0|     Flash Storage|                  No|      Intel|    HD Graphics|\n",
      "|    Asus|        VivoBook E12| Netbook|  11.6|  2|Windows 10|   1.1|      245.0|Standard|   1366|    768|         No|      No|           No|      Intel|     1.1|Celeron Dual Core...|            32|               0|     Flash Storage|                  No|      Intel|HD Graphics 500|\n",
      "|   Chuwi|        Lapbook 15,6|Notebook|  15.6|  4|Windows 10|  1.89|      248.9| Full HD|   1920|   1080|         No|      No|           No|      Intel|    1.44|       Atom x5-Z8350|            64|               0|     Flash Storage|                  No|      Intel|    HD Graphics|\n",
      "|  Lenovo|  IdeaPad 120S-14IAP|Notebook|  14.0|  4|Windows 10|  1.44|      249.0|Standard|   1366|    768|         No|      No|           No|      Intel|     1.1|Celeron Dual Core...|            64|               0|     Flash Storage|                  No|      Intel|HD Graphics 500|\n",
      "|Mediacom|       SmartBook 141|Notebook|  14.0|  4|Windows 10|   1.4|      249.0| Full HD|   1920|   1080|         No|      No|           No|      Intel|    1.44|       Atom x5-Z8350|            32|               0|               SSD|                  No|      Intel|    HD Graphics|\n",
      "|  Lenovo|  IdeaPad 100S-14IBR|Notebook|  14.0|  2|Windows 10|  1.42|      249.0|Standard|   1366|    768|         No|      No|           No|      Intel|     1.6|Celeron Dual Core...|            32|               0|     Flash Storage|                  No|      Intel|HD Graphics 400|\n",
      "|      HP|   Stream 14-AX000nv|Notebook|  14.0|  2|Windows 10|  1.44|      249.0|Standard|   1366|    768|         No|      No|           No|      Intel|     1.6|Celeron Dual Core...|            32|               0|     Flash Storage|                  No|      Intel|HD Graphics 400|\n",
      "+--------+--------------------+--------+------+---+----------+------+-----------+--------+-------+-------+-----------+--------+-------------+-----------+--------+--------------------+--------------+----------------+------------------+--------------------+-----------+---------------+\n",
      "only showing top 20 rows\n",
      "\n"
     ]
    }
   ],
   "source": [
    "\n",
    "df.sort(sf.asc('Price_euros')).show()"
   ]
  },
  {
   "cell_type": "code",
   "execution_count": 150,
   "id": "096140be",
   "metadata": {},
   "outputs": [
    {
     "name": "stdout",
     "output_type": "stream",
     "text": [
      "== Physical Plan ==\n",
      "AdaptiveSparkPlan isFinalPlan=false\n",
      "+- CollectLimit 10\n",
      "   +- InMemoryTableScan [Company#23610, Product#23611, TypeName#23612, Inches#23613, Ram#23614, OS#23615, Weight#23616, Price_euros#23617, Screen#23618, ScreenW#23619, ScreenH#23620, Touchscreen#23621, IPSpanel#23622, RetinaDisplay#23623, CPU_company#23624, CPU_freq#23625, CPU_model#23626, PrimaryStorage#23627, SecondaryStorage#23628, PrimaryStorageType#23629, SecondaryStorageType#23630, GPU_company#23631, GPU_model#23632]\n",
      "         +- InMemoryRelation [Company#23610, Product#23611, TypeName#23612, Inches#23613, Ram#23614, OS#23615, Weight#23616, Price_euros#23617, Screen#23618, ScreenW#23619, ScreenH#23620, Touchscreen#23621, IPSpanel#23622, RetinaDisplay#23623, CPU_company#23624, CPU_freq#23625, CPU_model#23626, PrimaryStorage#23627, SecondaryStorage#23628, PrimaryStorageType#23629, SecondaryStorageType#23630, GPU_company#23631, GPU_model#23632], StorageLevel(disk, memory, deserialized, 1 replicas)\n",
      "               +- FileScan csv [Company#15027,Product#15028,TypeName#15029,Inches#15030,Ram#15031,OS#15032,Weight#15033,Price_euros#15034,Screen#15035,ScreenW#15036,ScreenH#15037,Touchscreen#15038,IPSpanel#15039,RetinaDisplay#15040,CPU_company#15041,CPU_freq#15042,CPU_model#15043,PrimaryStorage#15044,SecondaryStorage#15045,PrimaryStorageType#15046,SecondaryStorageType#15047,GPU_company#15048,GPU_model#15049] Batched: false, DataFilters: [], Format: CSV, Location: InMemoryFileIndex(1 paths)[file:/home/thehn/w05/data/laptop_prices.csv], PartitionFilters: [], PushedFilters: [], ReadSchema: struct<Company:string,Product:string,TypeName:string,Inches:double,Ram:int,OS:string,Weight:doubl...\n",
      "\n",
      "\n"
     ]
    }
   ],
   "source": [
    "df.limit(10).explain()"
   ]
  },
  {
   "cell_type": "code",
   "execution_count": 151,
   "id": "4ab6f00a",
   "metadata": {},
   "outputs": [
    {
     "data": {
      "text/plain": [
       "[Row(Company='Apple', Product='MacBook Pro', TypeName='Ultrabook', Inches=13.3, Ram=8, OS='macOS', Weight=1.37, Price_euros=1339.69, Screen='Standard', ScreenW=2560, ScreenH=1600, Touchscreen='No', IPSpanel='Yes', RetinaDisplay='Yes', CPU_company='Intel', CPU_freq=2.3, CPU_model='Core i5', PrimaryStorage=128, SecondaryStorage=0, PrimaryStorageType='SSD', SecondaryStorageType='No', GPU_company='Intel', GPU_model='Iris Plus Graphics 640'),\n",
       " Row(Company='Apple', Product='Macbook Air', TypeName='Ultrabook', Inches=13.3, Ram=8, OS='macOS', Weight=1.34, Price_euros=898.94, Screen='Standard', ScreenW=1440, ScreenH=900, Touchscreen='No', IPSpanel='No', RetinaDisplay='No', CPU_company='Intel', CPU_freq=1.8, CPU_model='Core i5', PrimaryStorage=128, SecondaryStorage=0, PrimaryStorageType='Flash Storage', SecondaryStorageType='No', GPU_company='Intel', GPU_model='HD Graphics 6000'),\n",
       " Row(Company='HP', Product='250 G6', TypeName='Notebook', Inches=15.6, Ram=8, OS='No OS', Weight=1.86, Price_euros=575.0, Screen='Full HD', ScreenW=1920, ScreenH=1080, Touchscreen='No', IPSpanel='No', RetinaDisplay='No', CPU_company='Intel', CPU_freq=2.5, CPU_model='Core i5 7200U', PrimaryStorage=256, SecondaryStorage=0, PrimaryStorageType='SSD', SecondaryStorageType='No', GPU_company='Intel', GPU_model='HD Graphics 620'),\n",
       " Row(Company='Apple', Product='MacBook Pro', TypeName='Ultrabook', Inches=15.4, Ram=16, OS='macOS', Weight=1.83, Price_euros=2537.45, Screen='Standard', ScreenW=2880, ScreenH=1800, Touchscreen='No', IPSpanel='Yes', RetinaDisplay='Yes', CPU_company='Intel', CPU_freq=2.7, CPU_model='Core i7', PrimaryStorage=512, SecondaryStorage=0, PrimaryStorageType='SSD', SecondaryStorageType='No', GPU_company='AMD', GPU_model='Radeon Pro 455'),\n",
       " Row(Company='Apple', Product='MacBook Pro', TypeName='Ultrabook', Inches=13.3, Ram=8, OS='macOS', Weight=1.37, Price_euros=1803.6, Screen='Standard', ScreenW=2560, ScreenH=1600, Touchscreen='No', IPSpanel='Yes', RetinaDisplay='Yes', CPU_company='Intel', CPU_freq=3.1, CPU_model='Core i5', PrimaryStorage=256, SecondaryStorage=0, PrimaryStorageType='SSD', SecondaryStorageType='No', GPU_company='Intel', GPU_model='Iris Plus Graphics 650'),\n",
       " Row(Company='Acer', Product='Aspire 3', TypeName='Notebook', Inches=15.6, Ram=4, OS='Windows 10', Weight=2.1, Price_euros=400.0, Screen='Standard', ScreenW=1366, ScreenH=768, Touchscreen='No', IPSpanel='No', RetinaDisplay='No', CPU_company='AMD', CPU_freq=3.0, CPU_model='A9-Series 9420', PrimaryStorage=500, SecondaryStorage=0, PrimaryStorageType='HDD', SecondaryStorageType='No', GPU_company='AMD', GPU_model='Radeon R5'),\n",
       " Row(Company='Apple', Product='MacBook Pro', TypeName='Ultrabook', Inches=15.4, Ram=16, OS='Mac OS X', Weight=2.04, Price_euros=2139.97, Screen='Standard', ScreenW=2880, ScreenH=1800, Touchscreen='No', IPSpanel='Yes', RetinaDisplay='Yes', CPU_company='Intel', CPU_freq=2.2, CPU_model='Core i7', PrimaryStorage=256, SecondaryStorage=0, PrimaryStorageType='Flash Storage', SecondaryStorageType='No', GPU_company='Intel', GPU_model='Iris Pro Graphics'),\n",
       " Row(Company='Apple', Product='Macbook Air', TypeName='Ultrabook', Inches=13.3, Ram=8, OS='macOS', Weight=1.34, Price_euros=1158.7, Screen='Standard', ScreenW=1440, ScreenH=900, Touchscreen='No', IPSpanel='No', RetinaDisplay='No', CPU_company='Intel', CPU_freq=1.8, CPU_model='Core i5', PrimaryStorage=256, SecondaryStorage=0, PrimaryStorageType='Flash Storage', SecondaryStorageType='No', GPU_company='Intel', GPU_model='HD Graphics 6000'),\n",
       " Row(Company='Asus', Product='ZenBook UX430UN', TypeName='Ultrabook', Inches=14.0, Ram=16, OS='Windows 10', Weight=1.3, Price_euros=1495.0, Screen='Full HD', ScreenW=1920, ScreenH=1080, Touchscreen='No', IPSpanel='No', RetinaDisplay='No', CPU_company='Intel', CPU_freq=1.8, CPU_model='Core i7 8550U', PrimaryStorage=512, SecondaryStorage=0, PrimaryStorageType='SSD', SecondaryStorageType='No', GPU_company='Nvidia', GPU_model='GeForce MX150'),\n",
       " Row(Company='Acer', Product='Swift 3', TypeName='Ultrabook', Inches=14.0, Ram=8, OS='Windows 10', Weight=1.6, Price_euros=770.0, Screen='Full HD', ScreenW=1920, ScreenH=1080, Touchscreen='No', IPSpanel='Yes', RetinaDisplay='No', CPU_company='Intel', CPU_freq=1.6, CPU_model='Core i5 8250U', PrimaryStorage=256, SecondaryStorage=0, PrimaryStorageType='SSD', SecondaryStorageType='No', GPU_company='Intel', GPU_model='UHD Graphics 620')]"
      ]
     },
     "execution_count": 151,
     "metadata": {},
     "output_type": "execute_result"
    }
   ],
   "source": [
    "df.limit(10).collect()"
   ]
  },
  {
   "cell_type": "code",
   "execution_count": 154,
   "id": "de627dd1",
   "metadata": {},
   "outputs": [],
   "source": [
    "res = df.head(10)"
   ]
  },
  {
   "cell_type": "code",
   "execution_count": 155,
   "id": "d109543a",
   "metadata": {},
   "outputs": [
    {
     "data": {
      "text/plain": [
       "list"
      ]
     },
     "execution_count": 155,
     "metadata": {},
     "output_type": "execute_result"
    }
   ],
   "source": [
    "type(res)"
   ]
  },
  {
   "cell_type": "code",
   "execution_count": 156,
   "id": "c6f6a72f",
   "metadata": {},
   "outputs": [
    {
     "data": {
      "text/plain": [
       "[Row(Company='Apple', Product='MacBook Pro', TypeName='Ultrabook', Inches=13.3, Ram=8, OS='macOS', Weight=1.37, Price_euros=1339.69, Screen='Standard', ScreenW=2560, ScreenH=1600, Touchscreen='No', IPSpanel='Yes', RetinaDisplay='Yes', CPU_company='Intel', CPU_freq=2.3, CPU_model='Core i5', PrimaryStorage=128, SecondaryStorage=0, PrimaryStorageType='SSD', SecondaryStorageType='No', GPU_company='Intel', GPU_model='Iris Plus Graphics 640'),\n",
       " Row(Company='Apple', Product='Macbook Air', TypeName='Ultrabook', Inches=13.3, Ram=8, OS='macOS', Weight=1.34, Price_euros=898.94, Screen='Standard', ScreenW=1440, ScreenH=900, Touchscreen='No', IPSpanel='No', RetinaDisplay='No', CPU_company='Intel', CPU_freq=1.8, CPU_model='Core i5', PrimaryStorage=128, SecondaryStorage=0, PrimaryStorageType='Flash Storage', SecondaryStorageType='No', GPU_company='Intel', GPU_model='HD Graphics 6000'),\n",
       " Row(Company='HP', Product='250 G6', TypeName='Notebook', Inches=15.6, Ram=8, OS='No OS', Weight=1.86, Price_euros=575.0, Screen='Full HD', ScreenW=1920, ScreenH=1080, Touchscreen='No', IPSpanel='No', RetinaDisplay='No', CPU_company='Intel', CPU_freq=2.5, CPU_model='Core i5 7200U', PrimaryStorage=256, SecondaryStorage=0, PrimaryStorageType='SSD', SecondaryStorageType='No', GPU_company='Intel', GPU_model='HD Graphics 620'),\n",
       " Row(Company='Apple', Product='MacBook Pro', TypeName='Ultrabook', Inches=15.4, Ram=16, OS='macOS', Weight=1.83, Price_euros=2537.45, Screen='Standard', ScreenW=2880, ScreenH=1800, Touchscreen='No', IPSpanel='Yes', RetinaDisplay='Yes', CPU_company='Intel', CPU_freq=2.7, CPU_model='Core i7', PrimaryStorage=512, SecondaryStorage=0, PrimaryStorageType='SSD', SecondaryStorageType='No', GPU_company='AMD', GPU_model='Radeon Pro 455'),\n",
       " Row(Company='Apple', Product='MacBook Pro', TypeName='Ultrabook', Inches=13.3, Ram=8, OS='macOS', Weight=1.37, Price_euros=1803.6, Screen='Standard', ScreenW=2560, ScreenH=1600, Touchscreen='No', IPSpanel='Yes', RetinaDisplay='Yes', CPU_company='Intel', CPU_freq=3.1, CPU_model='Core i5', PrimaryStorage=256, SecondaryStorage=0, PrimaryStorageType='SSD', SecondaryStorageType='No', GPU_company='Intel', GPU_model='Iris Plus Graphics 650'),\n",
       " Row(Company='Acer', Product='Aspire 3', TypeName='Notebook', Inches=15.6, Ram=4, OS='Windows 10', Weight=2.1, Price_euros=400.0, Screen='Standard', ScreenW=1366, ScreenH=768, Touchscreen='No', IPSpanel='No', RetinaDisplay='No', CPU_company='AMD', CPU_freq=3.0, CPU_model='A9-Series 9420', PrimaryStorage=500, SecondaryStorage=0, PrimaryStorageType='HDD', SecondaryStorageType='No', GPU_company='AMD', GPU_model='Radeon R5'),\n",
       " Row(Company='Apple', Product='MacBook Pro', TypeName='Ultrabook', Inches=15.4, Ram=16, OS='Mac OS X', Weight=2.04, Price_euros=2139.97, Screen='Standard', ScreenW=2880, ScreenH=1800, Touchscreen='No', IPSpanel='Yes', RetinaDisplay='Yes', CPU_company='Intel', CPU_freq=2.2, CPU_model='Core i7', PrimaryStorage=256, SecondaryStorage=0, PrimaryStorageType='Flash Storage', SecondaryStorageType='No', GPU_company='Intel', GPU_model='Iris Pro Graphics'),\n",
       " Row(Company='Apple', Product='Macbook Air', TypeName='Ultrabook', Inches=13.3, Ram=8, OS='macOS', Weight=1.34, Price_euros=1158.7, Screen='Standard', ScreenW=1440, ScreenH=900, Touchscreen='No', IPSpanel='No', RetinaDisplay='No', CPU_company='Intel', CPU_freq=1.8, CPU_model='Core i5', PrimaryStorage=256, SecondaryStorage=0, PrimaryStorageType='Flash Storage', SecondaryStorageType='No', GPU_company='Intel', GPU_model='HD Graphics 6000'),\n",
       " Row(Company='Asus', Product='ZenBook UX430UN', TypeName='Ultrabook', Inches=14.0, Ram=16, OS='Windows 10', Weight=1.3, Price_euros=1495.0, Screen='Full HD', ScreenW=1920, ScreenH=1080, Touchscreen='No', IPSpanel='No', RetinaDisplay='No', CPU_company='Intel', CPU_freq=1.8, CPU_model='Core i7 8550U', PrimaryStorage=512, SecondaryStorage=0, PrimaryStorageType='SSD', SecondaryStorageType='No', GPU_company='Nvidia', GPU_model='GeForce MX150'),\n",
       " Row(Company='Acer', Product='Swift 3', TypeName='Ultrabook', Inches=14.0, Ram=8, OS='Windows 10', Weight=1.6, Price_euros=770.0, Screen='Full HD', ScreenW=1920, ScreenH=1080, Touchscreen='No', IPSpanel='Yes', RetinaDisplay='No', CPU_company='Intel', CPU_freq=1.6, CPU_model='Core i5 8250U', PrimaryStorage=256, SecondaryStorage=0, PrimaryStorageType='SSD', SecondaryStorageType='No', GPU_company='Intel', GPU_model='UHD Graphics 620')]"
      ]
     },
     "execution_count": 156,
     "metadata": {},
     "output_type": "execute_result"
    }
   ],
   "source": [
    "res"
   ]
  },
  {
   "cell_type": "code",
   "execution_count": 157,
   "id": "755abf61",
   "metadata": {},
   "outputs": [
    {
     "data": {
      "text/plain": [
       "Row(Company='Apple', Product='MacBook Pro', TypeName='Ultrabook', Inches=13.3, Ram=8, OS='macOS', Weight=1.37, Price_euros=1339.69, Screen='Standard', ScreenW=2560, ScreenH=1600, Touchscreen='No', IPSpanel='Yes', RetinaDisplay='Yes', CPU_company='Intel', CPU_freq=2.3, CPU_model='Core i5', PrimaryStorage=128, SecondaryStorage=0, PrimaryStorageType='SSD', SecondaryStorageType='No', GPU_company='Intel', GPU_model='Iris Plus Graphics 640')"
      ]
     },
     "execution_count": 157,
     "metadata": {},
     "output_type": "execute_result"
    }
   ],
   "source": [
    "df.first()"
   ]
  },
  {
   "cell_type": "code",
   "execution_count": 158,
   "id": "7b9ebb18",
   "metadata": {},
   "outputs": [
    {
     "data": {
      "text/plain": [
       "[609.0, 979.0, 1479.0]"
      ]
     },
     "execution_count": 158,
     "metadata": {},
     "output_type": "execute_result"
    }
   ],
   "source": [
    "# Calculate approximate quantiles (percentiles).\n",
    "\n",
    "df.approxQuantile('Price_euros', [0.25, 0.5, 0.75], 0.01)"
   ]
  },
  {
   "cell_type": "code",
   "execution_count": 164,
   "id": "f3084394",
   "metadata": {},
   "outputs": [
    {
     "data": {
      "text/plain": [
       "19"
      ]
     },
     "execution_count": 164,
     "metadata": {},
     "output_type": "execute_result"
    }
   ],
   "source": [
    "# Drop duplicate rows based on specific columns.\n",
    "\n",
    "df.dropDuplicates(['Company']).count()"
   ]
  },
  {
   "cell_type": "code",
   "execution_count": 167,
   "id": "74d1f458",
   "metadata": {},
   "outputs": [],
   "source": [
    "sc.setCheckpointDir('checkpoints/dataframes')"
   ]
  },
  {
   "cell_type": "code",
   "execution_count": 168,
   "id": "55b519fb",
   "metadata": {},
   "outputs": [
    {
     "data": {
      "text/plain": [
       "DataFrame[Company: string, Product: string, TypeName: string, Inches: double, Ram: int, OS: string, Weight: double, Price_euros: double, Screen: string, ScreenW: int, ScreenH: int, Touchscreen: string, IPSpanel: string, RetinaDisplay: string, CPU_company: string, CPU_freq: double, CPU_model: string, PrimaryStorage: int, SecondaryStorage: int, PrimaryStorageType: string, SecondaryStorageType: string, GPU_company: string, GPU_model: string]"
      ]
     },
     "execution_count": 168,
     "metadata": {},
     "output_type": "execute_result"
    }
   ],
   "source": [
    "df.checkpoint()"
   ]
  },
  {
   "cell_type": "code",
   "execution_count": 172,
   "id": "7c4c79ac",
   "metadata": {},
   "outputs": [
    {
     "name": "stdout",
     "output_type": "stream",
     "text": [
      "== Physical Plan ==\n",
      "AdaptiveSparkPlan isFinalPlan=true\n",
      "+- == Final Plan ==\n",
      "   TableCacheQueryStage 0\n",
      "   +- InMemoryTableScan [Company#23610, Product#23611, TypeName#23612, Inches#23613, Ram#23614, OS#23615, Weight#23616, Price_euros#23617, Screen#23618, ScreenW#23619, ScreenH#23620, Touchscreen#23621, IPSpanel#23622, RetinaDisplay#23623, CPU_company#23624, CPU_freq#23625, CPU_model#23626, PrimaryStorage#23627, SecondaryStorage#23628, PrimaryStorageType#23629, SecondaryStorageType#23630, GPU_company#23631, GPU_model#23632]\n",
      "         +- InMemoryRelation [Company#23610, Product#23611, TypeName#23612, Inches#23613, Ram#23614, OS#23615, Weight#23616, Price_euros#23617, Screen#23618, ScreenW#23619, ScreenH#23620, Touchscreen#23621, IPSpanel#23622, RetinaDisplay#23623, CPU_company#23624, CPU_freq#23625, CPU_model#23626, PrimaryStorage#23627, SecondaryStorage#23628, PrimaryStorageType#23629, SecondaryStorageType#23630, GPU_company#23631, GPU_model#23632], StorageLevel(disk, memory, deserialized, 1 replicas)\n",
      "               +- FileScan csv [Company#15027,Product#15028,TypeName#15029,Inches#15030,Ram#15031,OS#15032,Weight#15033,Price_euros#15034,Screen#15035,ScreenW#15036,ScreenH#15037,Touchscreen#15038,IPSpanel#15039,RetinaDisplay#15040,CPU_company#15041,CPU_freq#15042,CPU_model#15043,PrimaryStorage#15044,SecondaryStorage#15045,PrimaryStorageType#15046,SecondaryStorageType#15047,GPU_company#15048,GPU_model#15049] Batched: false, DataFilters: [], Format: CSV, Location: InMemoryFileIndex(1 paths)[file:/home/thehn/w05/data/laptop_prices.csv], PartitionFilters: [], PushedFilters: [], ReadSchema: struct<Company:string,Product:string,TypeName:string,Inches:double,Ram:int,OS:string,Weight:doubl...\n",
      "+- == Initial Plan ==\n",
      "   InMemoryTableScan [Company#23610, Product#23611, TypeName#23612, Inches#23613, Ram#23614, OS#23615, Weight#23616, Price_euros#23617, Screen#23618, ScreenW#23619, ScreenH#23620, Touchscreen#23621, IPSpanel#23622, RetinaDisplay#23623, CPU_company#23624, CPU_freq#23625, CPU_model#23626, PrimaryStorage#23627, SecondaryStorage#23628, PrimaryStorageType#23629, SecondaryStorageType#23630, GPU_company#23631, GPU_model#23632]\n",
      "      +- InMemoryRelation [Company#23610, Product#23611, TypeName#23612, Inches#23613, Ram#23614, OS#23615, Weight#23616, Price_euros#23617, Screen#23618, ScreenW#23619, ScreenH#23620, Touchscreen#23621, IPSpanel#23622, RetinaDisplay#23623, CPU_company#23624, CPU_freq#23625, CPU_model#23626, PrimaryStorage#23627, SecondaryStorage#23628, PrimaryStorageType#23629, SecondaryStorageType#23630, GPU_company#23631, GPU_model#23632], StorageLevel(disk, memory, deserialized, 1 replicas)\n",
      "            +- FileScan csv [Company#15027,Product#15028,TypeName#15029,Inches#15030,Ram#15031,OS#15032,Weight#15033,Price_euros#15034,Screen#15035,ScreenW#15036,ScreenH#15037,Touchscreen#15038,IPSpanel#15039,RetinaDisplay#15040,CPU_company#15041,CPU_freq#15042,CPU_model#15043,PrimaryStorage#15044,SecondaryStorage#15045,PrimaryStorageType#15046,SecondaryStorageType#15047,GPU_company#15048,GPU_model#15049] Batched: false, DataFilters: [], Format: CSV, Location: InMemoryFileIndex(1 paths)[file:/home/thehn/w05/data/laptop_prices.csv], PartitionFilters: [], PushedFilters: [], ReadSchema: struct<Company:string,Product:string,TypeName:string,Inches:double,Ram:int,OS:string,Weight:doubl...\n",
      "\n",
      "\n"
     ]
    }
   ],
   "source": [
    "df.explain()"
   ]
  },
  {
   "cell_type": "code",
   "execution_count": 159,
   "id": "c06b39b3",
   "metadata": {},
   "outputs": [
    {
     "data": {
      "text/plain": [
       "DataFrame[Company: string, Product: string, TypeName: string, Inches: double, Ram: int, OS: string, Weight: double, Price_euros: double, Screen: string, ScreenW: int, ScreenH: int, Touchscreen: string, IPSpanel: string, RetinaDisplay: string, CPU_company: string, CPU_freq: double, CPU_model: string, PrimaryStorage: int, SecondaryStorage: int, PrimaryStorageType: string, SecondaryStorageType: string, GPU_company: string, GPU_model: string]"
      ]
     },
     "execution_count": 159,
     "metadata": {},
     "output_type": "execute_result"
    }
   ],
   "source": [
    "# Remove the DataFrame from memory/disk.\n",
    "\n",
    "df.unpersist()"
   ]
  },
  {
   "cell_type": "code",
   "execution_count": 160,
   "id": "1c0e28c3",
   "metadata": {},
   "outputs": [
    {
     "data": {
      "text/plain": [
       "False"
      ]
     },
     "execution_count": 160,
     "metadata": {},
     "output_type": "execute_result"
    }
   ],
   "source": [
    "# Check if the dataframe is still cached?\n",
    "\n",
    "df.is_cached"
   ]
  }
 ],
 "metadata": {
  "kernelspec": {
   "display_name": "Python 3 (ipykernel)",
   "language": "python",
   "name": "python3"
  },
  "language_info": {
   "codemirror_mode": {
    "name": "ipython",
    "version": 3
   },
   "file_extension": ".py",
   "mimetype": "text/x-python",
   "name": "python",
   "nbconvert_exporter": "python",
   "pygments_lexer": "ipython3",
   "version": "3.11.6"
  }
 },
 "nbformat": 4,
 "nbformat_minor": 5
}

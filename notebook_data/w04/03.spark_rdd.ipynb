{
 "cells": [
  {
   "cell_type": "code",
   "execution_count": 6,
   "id": "53462ff3-6e7f-4223-ad20-701adb2dc485",
   "metadata": {},
   "outputs": [
    {
     "name": "stdout",
     "output_type": "stream",
     "text": [
      "Initializing Spark session ...\n",
      "Initialized\n"
     ]
    }
   ],
   "source": [
    "from notebook_data.common import init_spark\n",
    "spark, sc = init_spark.create()"
   ]
  },
  {
   "cell_type": "code",
   "execution_count": 7,
   "id": "ed72535e-8385-4ce7-b650-a86f037dc8db",
   "metadata": {},
   "outputs": [],
   "source": [
    "arr = [i for i in range(100)]"
   ]
  },
  {
   "cell_type": "code",
   "execution_count": 8,
   "id": "08c71eec-4b20-4b72-9012-670b0d8f081f",
   "metadata": {},
   "outputs": [],
   "source": [
    "arr_rdd = sc.parallelize(arr)"
   ]
  },
  {
   "cell_type": "code",
   "execution_count": 9,
   "id": "05159860-7a32-4e05-933b-575c9b06cf1b",
   "metadata": {},
   "outputs": [
    {
     "data": {
      "text/plain": [
       "[0, 1, 2, 3, 4, 5, 6, 7, 8, 9]"
      ]
     },
     "execution_count": 9,
     "metadata": {},
     "output_type": "execute_result"
    }
   ],
   "source": [
    "arr_rdd.take(10)"
   ]
  },
  {
   "cell_type": "code",
   "execution_count": 10,
   "id": "a035021e-5d32-4aee-97da-599b122a6554",
   "metadata": {},
   "outputs": [
    {
     "data": {
      "text/plain": [
       "100"
      ]
     },
     "execution_count": 10,
     "metadata": {},
     "output_type": "execute_result"
    }
   ],
   "source": [
    "arr_rdd.count()"
   ]
  },
  {
   "cell_type": "code",
   "execution_count": 13,
   "id": "a748f915-8d6a-4960-b4da-d76fca8a9a07",
   "metadata": {},
   "outputs": [],
   "source": [
    "# reading data from a text file (a book)\n",
    "rdd = sc.textFile('w04/data/Complete Works of William Shakespeare.txt')"
   ]
  },
  {
   "cell_type": "code",
   "execution_count": 14,
   "id": "3ffe01b9-bf22-4c8a-ac9a-3b6a60a70218",
   "metadata": {},
   "outputs": [
    {
     "data": {
      "text/plain": [
       "196390"
      ]
     },
     "execution_count": 14,
     "metadata": {},
     "output_type": "execute_result"
    }
   ],
   "source": [
    "# number of lines in the book\n",
    "rdd.count()"
   ]
  },
  {
   "cell_type": "code",
   "execution_count": 15,
   "id": "63d12aec-c261-4a22-b103-4643be6b817b",
   "metadata": {},
   "outputs": [
    {
     "data": {
      "text/plain": [
       "['The Project Gutenberg eBook of The Complete Works of William Shakespeare',\n",
       " '    ',\n",
       " 'This ebook is for the use of anyone anywhere in the United States and',\n",
       " 'most other parts of the world at no cost and with almost no restrictions',\n",
       " 'whatsoever. You may copy it, give it away or re-use it under the terms',\n",
       " 'of the Project Gutenberg License included with this ebook or online',\n",
       " 'at www.gutenberg.org. If you are not located in the United States,',\n",
       " 'you will have to check the laws of the country where you are located',\n",
       " 'before using this eBook.',\n",
       " '']"
      ]
     },
     "execution_count": 15,
     "metadata": {},
     "output_type": "execute_result"
    }
   ],
   "source": [
    "# taking top ten lines of the rdd for previewing\n",
    "rdd.take(10)"
   ]
  },
  {
   "cell_type": "code",
   "execution_count": 16,
   "id": "d6e548d3-9dd4-4238-b17d-332ec5194990",
   "metadata": {},
   "outputs": [],
   "source": [
    "# create a new rdd from the origin rdd - which created by reading the text file\n",
    "words_rdd = rdd.flatMap(lambda line: line.split())"
   ]
  },
  {
   "cell_type": "code",
   "execution_count": 17,
   "id": "96fe2be1-8019-451d-9fa5-72fc9c4b2f2e",
   "metadata": {},
   "outputs": [
    {
     "data": {
      "text/plain": [
       "PythonRDD[10] at RDD at PythonRDD.scala:53"
      ]
     },
     "execution_count": 17,
     "metadata": {},
     "output_type": "execute_result"
    }
   ],
   "source": [
    "words_rdd"
   ]
  },
  {
   "cell_type": "code",
   "execution_count": 18,
   "id": "85173cb8-19a4-46e8-87ad-8497e5317859",
   "metadata": {},
   "outputs": [
    {
     "data": {
      "text/plain": [
       "['The',\n",
       " 'Project',\n",
       " 'Gutenberg',\n",
       " 'eBook',\n",
       " 'of',\n",
       " 'The',\n",
       " 'Complete',\n",
       " 'Works',\n",
       " 'of',\n",
       " 'William']"
      ]
     },
     "execution_count": 18,
     "metadata": {},
     "output_type": "execute_result"
    }
   ],
   "source": [
    "# Get 10 words for previewing\n",
    "words_rdd.take(10)"
   ]
  },
  {
   "cell_type": "code",
   "execution_count": 19,
   "id": "b4469519-fe89-4e2f-af4e-0404bbc8e02f",
   "metadata": {},
   "outputs": [],
   "source": [
    "word_map_rdd = words_rdd.map(lambda word: (word, 1))"
   ]
  },
  {
   "cell_type": "code",
   "execution_count": 20,
   "id": "207ec2ec-dead-4e6e-9f5e-745bee38a1be",
   "metadata": {},
   "outputs": [
    {
     "data": {
      "text/plain": [
       "[('The', 1),\n",
       " ('Project', 1),\n",
       " ('Gutenberg', 1),\n",
       " ('eBook', 1),\n",
       " ('of', 1),\n",
       " ('The', 1),\n",
       " ('Complete', 1),\n",
       " ('Works', 1),\n",
       " ('of', 1),\n",
       " ('William', 1)]"
      ]
     },
     "execution_count": 20,
     "metadata": {},
     "output_type": "execute_result"
    }
   ],
   "source": [
    "word_map_rdd.take(10)"
   ]
  },
  {
   "cell_type": "code",
   "execution_count": 21,
   "id": "a03d36b2-473a-4876-b354-6fce62d2e5a2",
   "metadata": {},
   "outputs": [],
   "source": [
    "word_count_rdd = word_map_rdd.reduceByKey(lambda a, b: a + b)"
   ]
  },
  {
   "cell_type": "code",
   "execution_count": 22,
   "id": "b76eab05-236e-4fc8-a487-7cd2e513b7ff",
   "metadata": {},
   "outputs": [
    {
     "data": {
      "text/plain": [
       "[('The', 4630),\n",
       " ('Project', 79),\n",
       " ('Gutenberg', 22),\n",
       " ('eBook', 4),\n",
       " ('of', 17111),\n",
       " ('Complete', 3),\n",
       " ('Works', 4),\n",
       " ('William', 35),\n",
       " ('Shakespeare', 5),\n",
       " ('This', 1218)]"
      ]
     },
     "execution_count": 22,
     "metadata": {},
     "output_type": "execute_result"
    }
   ],
   "source": [
    "word_count_rdd.take(10)"
   ]
  },
  {
   "cell_type": "code",
   "execution_count": 23,
   "id": "41ca3ed1-4b57-47ba-abf9-ae6799a5d414",
   "metadata": {},
   "outputs": [],
   "source": [
    "swap_word_count_rdd = word_count_rdd.map(lambda x: (x[1], x[0]))"
   ]
  },
  {
   "cell_type": "code",
   "execution_count": 24,
   "id": "cb7e1fcc-eacd-4a6a-acf2-7ca7ca38cffb",
   "metadata": {},
   "outputs": [
    {
     "data": {
      "text/plain": [
       "[(4630, 'The'),\n",
       " (79, 'Project'),\n",
       " (22, 'Gutenberg'),\n",
       " (4, 'eBook'),\n",
       " (17111, 'of'),\n",
       " (3, 'Complete'),\n",
       " (4, 'Works'),\n",
       " (35, 'William'),\n",
       " (5, 'Shakespeare'),\n",
       " (1218, 'This')]"
      ]
     },
     "execution_count": 24,
     "metadata": {},
     "output_type": "execute_result"
    }
   ],
   "source": [
    "swap_word_count_rdd.take(10)"
   ]
  },
  {
   "cell_type": "code",
   "execution_count": 25,
   "id": "54c15db7-a950-4879-9967-73031f2458f4",
   "metadata": {},
   "outputs": [
    {
     "data": {
      "text/plain": [
       "[(25689, 'the'),\n",
       " (20717, 'I'),\n",
       " (19849, 'and'),\n",
       " (17111, 'of'),\n",
       " (17075, 'to'),\n",
       " (13730, 'a'),\n",
       " (11397, 'my'),\n",
       " (10943, 'in'),\n",
       " (9527, 'you'),\n",
       " (8361, 'is')]"
      ]
     },
     "execution_count": 25,
     "metadata": {},
     "output_type": "execute_result"
    }
   ],
   "source": [
    "swap_word_count_rdd.sortByKey(ascending=False).take(10)"
   ]
  },
  {
   "cell_type": "code",
   "execution_count": 26,
   "id": "aa9211ee-1dc7-4287-addf-a225fa6c3ea5",
   "metadata": {},
   "outputs": [],
   "source": [
    "# collect everything - be CAUTIOUS !!\n",
    "# word_count_rdd.collect()"
   ]
  },
  {
   "cell_type": "code",
   "execution_count": 27,
   "id": "135f3603-4117-4f86-a517-1f1eacbc18fc",
   "metadata": {},
   "outputs": [],
   "source": [
    "# filter words by conditions: get all words which have length longer than 5 chars\n",
    "long_words_rdd = words_rdd.filter(lambda x: len(x) > 5)"
   ]
  },
  {
   "cell_type": "code",
   "execution_count": 28,
   "id": "dc304994-069b-4eda-9858-4c93d7ddc531",
   "metadata": {},
   "outputs": [
    {
     "data": {
      "text/plain": [
       "['Project',\n",
       " 'Gutenberg',\n",
       " 'Complete',\n",
       " 'William',\n",
       " 'Shakespeare',\n",
       " 'anyone',\n",
       " 'anywhere',\n",
       " 'United',\n",
       " 'States',\n",
       " 'almost']"
      ]
     },
     "execution_count": 28,
     "metadata": {},
     "output_type": "execute_result"
    }
   ],
   "source": [
    "long_words_rdd.take(10)"
   ]
  },
  {
   "cell_type": "code",
   "execution_count": 31,
   "id": "28b7cf68",
   "metadata": {},
   "outputs": [],
   "source": [
    "sc.setCheckpointDir('checkpoints/w04/rdd')"
   ]
  },
  {
   "cell_type": "code",
   "execution_count": 32,
   "id": "8608133f",
   "metadata": {},
   "outputs": [],
   "source": [
    "long_words_rdd.checkpoint()"
   ]
  }
 ],
 "metadata": {
  "kernelspec": {
   "display_name": "Python 3 (ipykernel)",
   "language": "python",
   "name": "python3"
  },
  "language_info": {
   "codemirror_mode": {
    "name": "ipython",
    "version": 3
   },
   "file_extension": ".py",
   "mimetype": "text/x-python",
   "name": "python",
   "nbconvert_exporter": "python",
   "pygments_lexer": "ipython3",
   "version": "3.11.9"
  }
 },
 "nbformat": 4,
 "nbformat_minor": 5
}

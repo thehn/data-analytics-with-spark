{
 "cells": [
  {
   "cell_type": "code",
   "execution_count": null,
   "id": "09ccb68a",
   "metadata": {},
   "outputs": [],
   "source": [
    "from notebook_data.common import init_spark"
   ]
  },
  {
   "cell_type": "code",
   "execution_count": null,
   "id": "e9e3e7c2-6603-4519-bbcd-88d68ad4cda8",
   "metadata": {},
   "outputs": [],
   "source": [
    "spark, sc = init_spark.create()"
   ]
  },
  {
   "cell_type": "code",
   "execution_count": null,
   "id": "480dbdfa",
   "metadata": {},
   "outputs": [],
   "source": [
    "spark"
   ]
  },
  {
   "cell_type": "code",
   "execution_count": null,
   "id": "4dac9a31",
   "metadata": {},
   "outputs": [],
   "source": [
    "sc"
   ]
  }
 ],
 "metadata": {
  "kernelspec": {
   "display_name": "Python 3 (ipykernel)",
   "language": "python",
   "name": "python3"
  },
  "language_info": {
   "codemirror_mode": {
    "name": "ipython",
    "version": 3
   },
   "file_extension": ".py",
   "mimetype": "text/x-python",
   "name": "python",
   "nbconvert_exporter": "python",
   "pygments_lexer": "ipython3",
   "version": "3.11.9"
  }
 },
 "nbformat": 4,
 "nbformat_minor": 5
}

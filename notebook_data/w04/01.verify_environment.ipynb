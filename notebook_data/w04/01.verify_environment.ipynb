{
 "cells": [
  {
   "cell_type": "code",
   "execution_count": null,
   "id": "4d8129cb-2706-4809-ba52-fc324b4eb384",
   "metadata": {},
   "outputs": [],
   "source": [
    "print(\"hello world!!\")"
   ]
  },
  {
   "cell_type": "code",
   "execution_count": null,
   "id": "65e219c3-d5a3-49c8-9360-6b94cdd64294",
   "metadata": {},
   "outputs": [],
   "source": [
    "from pyspark.sql import SparkSession"
   ]
  },
  {
   "cell_type": "code",
   "execution_count": null,
   "id": "9874c816-e49c-4094-a6e0-0c6bd9acf352",
   "metadata": {},
   "outputs": [],
   "source": [
    "spark = SparkSession.builder.appName(\"Data Analytics with Apache Spark\").master(\"local\").getOrCreate()"
   ]
  },
  {
   "cell_type": "code",
   "execution_count": null,
   "id": "4a1a672a-93fd-4ee1-9705-59ad90f90c31",
   "metadata": {},
   "outputs": [],
   "source": [
    "spark"
   ]
  },
  {
   "cell_type": "code",
   "execution_count": null,
   "id": "a66609e5-5891-4f21-a8e4-4e9169930ba2",
   "metadata": {},
   "outputs": [],
   "source": [
    "sc = spark.sparkContext"
   ]
  },
  {
   "cell_type": "code",
   "execution_count": null,
   "id": "0cd6e06f-8a27-43c8-9c46-754f8a668a3a",
   "metadata": {},
   "outputs": [],
   "source": [
    "sc"
   ]
  }
 ],
 "metadata": {
  "kernelspec": {
   "display_name": "Python 3 (ipykernel)",
   "language": "python",
   "name": "python3"
  },
  "language_info": {
   "codemirror_mode": {
    "name": "ipython",
    "version": 3
   },
   "file_extension": ".py",
   "mimetype": "text/x-python",
   "name": "python",
   "nbconvert_exporter": "python",
   "pygments_lexer": "ipython3",
   "version": "3.11.9"
  }
 },
 "nbformat": 4,
 "nbformat_minor": 5
}

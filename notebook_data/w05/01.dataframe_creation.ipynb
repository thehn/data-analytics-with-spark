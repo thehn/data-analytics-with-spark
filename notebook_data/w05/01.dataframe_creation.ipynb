{
 "cells": [
  {
   "cell_type": "markdown",
   "id": "c5454bc7",
   "metadata": {},
   "source": [
    "# This notebook explains how to create DataFrames using Pyspark"
   ]
  },
  {
   "cell_type": "markdown",
   "id": "7aa67d02",
   "metadata": {},
   "source": [
    "### Init Spark session"
   ]
  },
  {
   "cell_type": "code",
   "execution_count": null,
   "id": "5b24ad6b-5ae5-4b4c-ac17-e81342493633",
   "metadata": {},
   "outputs": [],
   "source": [
    "from notebook_data.common import init_spark\n",
    "\n",
    "spark, sc = init_spark.create()"
   ]
  },
  {
   "cell_type": "markdown",
   "id": "64f87394",
   "metadata": {},
   "source": [
    "### Verify the spark session"
   ]
  },
  {
   "cell_type": "code",
   "execution_count": null,
   "id": "7368470e-9026-43a9-a730-3d91979b4a6d",
   "metadata": {},
   "outputs": [],
   "source": [
    "spark"
   ]
  },
  {
   "cell_type": "code",
   "execution_count": null,
   "id": "15c7f202",
   "metadata": {},
   "outputs": [],
   "source": [
    "df = spark.read.option(\"header\", True).csv(\"w05/data/laptop_prices.csv\")"
   ]
  },
  {
   "cell_type": "markdown",
   "id": "c3676a2d",
   "metadata": {},
   "source": [
    "## Create a Spark DataFrames from CSV file\n",
    "1. Option: enable header\n",
    "2. Cache before use"
   ]
  },
  {
   "cell_type": "code",
   "execution_count": null,
   "id": "9c2218fc-904f-4c6b-b69b-5424a53b462c",
   "metadata": {},
   "outputs": [],
   "source": [
    "df = spark.read.option(\"header\", True).csv(\"w05/data/laptop_prices.csv\").cache()"
   ]
  },
  {
   "cell_type": "markdown",
   "id": "4029704b",
   "metadata": {},
   "source": [
    "### Show top 10 lines of the DataFrames"
   ]
  },
  {
   "cell_type": "code",
   "execution_count": null,
   "id": "fc6c390a-a7d1-4798-b6d2-61d79bbf47f1",
   "metadata": {},
   "outputs": [],
   "source": [
    "df.show(10)"
   ]
  },
  {
   "cell_type": "markdown",
   "id": "d2cb5732",
   "metadata": {},
   "source": [
    "### Count number of lines in the DataFrames"
   ]
  },
  {
   "cell_type": "code",
   "execution_count": null,
   "id": "34cf0894",
   "metadata": {},
   "outputs": [],
   "source": [
    "df.count()"
   ]
  },
  {
   "cell_type": "markdown",
   "id": "617b75f5",
   "metadata": {},
   "source": [
    "### Check if the DataFrames is cached?"
   ]
  },
  {
   "cell_type": "code",
   "execution_count": null,
   "id": "598a047c",
   "metadata": {},
   "outputs": [],
   "source": [
    "df.is_cached"
   ]
  },
  {
   "cell_type": "markdown",
   "id": "616a4816",
   "metadata": {},
   "source": [
    "### Explore the schema"
   ]
  },
  {
   "cell_type": "code",
   "execution_count": null,
   "id": "b9257c9a",
   "metadata": {},
   "outputs": [],
   "source": [
    "df.printSchema()"
   ]
  },
  {
   "cell_type": "markdown",
   "id": "af3d350c",
   "metadata": {},
   "source": [
    "## Create a new DataFrames from an existing one"
   ]
  },
  {
   "cell_type": "code",
   "execution_count": null,
   "id": "ab0a3986",
   "metadata": {},
   "outputs": [],
   "source": [
    "df_apple = df.filter(\"Company = 'Apple'\")"
   ]
  },
  {
   "cell_type": "markdown",
   "id": "4f0e83a0",
   "metadata": {},
   "source": [
    "### Explain the DataFrames to see how it is executed"
   ]
  },
  {
   "cell_type": "code",
   "execution_count": null,
   "id": "85e7b7e7",
   "metadata": {},
   "outputs": [],
   "source": [
    "df_apple.explain(extended=False)"
   ]
  },
  {
   "cell_type": "code",
   "execution_count": null,
   "id": "4eb49fa9",
   "metadata": {},
   "outputs": [],
   "source": [
    "df_apple.show(10)"
   ]
  },
  {
   "cell_type": "code",
   "execution_count": null,
   "id": "a463965c",
   "metadata": {},
   "outputs": [],
   "source": [
    "df_apple.count()"
   ]
  },
  {
   "cell_type": "code",
   "execution_count": null,
   "id": "1e9e972f",
   "metadata": {},
   "outputs": [],
   "source": [
    "df_apple.is_cached"
   ]
  },
  {
   "cell_type": "markdown",
   "id": "bcbe0c51",
   "metadata": {},
   "source": [
    "## Create a DataFrames from a sequence / list\n",
    "We need to prepare:\n",
    "1. A list of items\n",
    "2. A schema for the dataframe"
   ]
  },
  {
   "cell_type": "code",
   "execution_count": null,
   "id": "18602f46",
   "metadata": {},
   "outputs": [],
   "source": [
    "l = [(i,) for i in range(1000)]"
   ]
  },
  {
   "cell_type": "markdown",
   "id": "c54ea1ec",
   "metadata": {},
   "source": [
    "The schema is defined with the following format:\n",
    "`<column name> <data type>`\n",
    "<br />\n",
    "For example:\n",
    "- `id int, name string, phone_numbers array<int>`"
   ]
  },
  {
   "cell_type": "code",
   "execution_count": null,
   "id": "78571fe3",
   "metadata": {},
   "outputs": [],
   "source": [
    "df_l = spark.createDataFrame(l, 'id int')"
   ]
  },
  {
   "cell_type": "code",
   "execution_count": null,
   "id": "df6f6678",
   "metadata": {},
   "outputs": [],
   "source": [
    "df_l.explain(extended=True)"
   ]
  },
  {
   "cell_type": "code",
   "execution_count": null,
   "id": "26afca48",
   "metadata": {},
   "outputs": [],
   "source": [
    "df_l.show(10)"
   ]
  },
  {
   "cell_type": "code",
   "execution_count": null,
   "id": "a9ca77c3",
   "metadata": {},
   "outputs": [],
   "source": [
    "df_l.is_cached"
   ]
  },
  {
   "cell_type": "markdown",
   "id": "38e3e77f",
   "metadata": {},
   "source": [
    "### Another example with different style of schema definition"
   ]
  },
  {
   "cell_type": "code",
   "execution_count": null,
   "id": "a1b0936d",
   "metadata": {},
   "outputs": [],
   "source": [
    "from pyspark.sql.types import StructType, StructField, IntegerType, StringType, ArrayType, LongType\n",
    "import random"
   ]
  },
  {
   "cell_type": "code",
   "execution_count": null,
   "id": "a46cf3cb",
   "metadata": {},
   "outputs": [],
   "source": [
    "# Define the schema\n",
    "schema = StructType([\n",
    "    StructField(\"id\", IntegerType(), True),\n",
    "    StructField(\"name\", StringType(), True),\n",
    "    StructField(\"phone_number\", ArrayType(LongType()), True),\n",
    "    StructField(\"age\", IntegerType(), True),\n",
    "    StructField(\"country\", StringType(), True)\n",
    "])"
   ]
  },
  {
   "cell_type": "code",
   "execution_count": null,
   "id": "ffcd4623",
   "metadata": {},
   "outputs": [],
   "source": [
    "schema.json()"
   ]
  },
  {
   "cell_type": "code",
   "execution_count": null,
   "id": "0bd81de6",
   "metadata": {},
   "outputs": [],
   "source": [
    "schema.simpleString()"
   ]
  },
  {
   "cell_type": "code",
   "execution_count": null,
   "id": "5937d234",
   "metadata": {},
   "outputs": [],
   "source": [
    "# Generate random data\n",
    "data = []\n",
    "names = [\"Alice\", \"Bob\", \"Charlie\", \"David\", \"Eva\", \"Frank\", \"Grace\", \"Hannah\", \"Ian\", \"Jack\"]\n",
    "\n",
    "for i in range(1000):\n",
    "    id = i + 1  # id starts from 1 to 1000\n",
    "    name = random.choice(names)\n",
    "    phone_number = [random.randint(1000000000, 9999999999) for _ in range(random.randint(1, 3))]  # 1 to 3 phone numbers\n",
    "    age = random.randint(18, 70)  # age between 18 and 70\n",
    "    country = random.choice([\"USA\", \"Canada\", \"UK\", \"Germany\", \"France\"])  # random country\n",
    "    data.append((id, name, phone_number, age, country))"
   ]
  },
  {
   "cell_type": "code",
   "execution_count": null,
   "id": "718060f2",
   "metadata": {},
   "outputs": [],
   "source": [
    "data"
   ]
  },
  {
   "cell_type": "code",
   "execution_count": null,
   "id": "b6105dd2",
   "metadata": {},
   "outputs": [],
   "source": [
    "df_people = spark.createDataFrame(data, schema)"
   ]
  },
  {
   "cell_type": "code",
   "execution_count": null,
   "id": "09f48d69",
   "metadata": {},
   "outputs": [],
   "source": [
    "df_people.show(10)"
   ]
  },
  {
   "cell_type": "code",
   "execution_count": null,
   "id": "3e632da8",
   "metadata": {},
   "outputs": [],
   "source": [
    "df_people.printSchema()"
   ]
  },
  {
   "cell_type": "code",
   "execution_count": null,
   "id": "b252019b",
   "metadata": {},
   "outputs": [],
   "source": [
    "df_people.explain(extended=True)"
   ]
  },
  {
   "cell_type": "code",
   "execution_count": null,
   "id": "3305050d",
   "metadata": {},
   "outputs": [],
   "source": [
    "df_people.is_cached"
   ]
  }
 ],
 "metadata": {
  "kernelspec": {
   "display_name": "Python 3 (ipykernel)",
   "language": "python",
   "name": "python3"
  }
 },
 "nbformat": 4,
 "nbformat_minor": 5
}

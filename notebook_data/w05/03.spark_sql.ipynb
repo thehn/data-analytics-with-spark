{
 "cells": [
  {
   "cell_type": "code",
   "execution_count": null,
   "id": "88f13a82-7213-4ab0-b38b-936f57ee09c8",
   "metadata": {},
   "outputs": [],
   "source": [
    "from notebook_data.common import init_spark\n",
    "\n",
    "spark, sc = init_spark.create()"
   ]
  },
  {
   "cell_type": "code",
   "execution_count": null,
   "id": "df884c82",
   "metadata": {},
   "outputs": [],
   "source": [
    "df = spark.read.option('header', True).option('inferSchema', True).csv('notebook_data/w05/data/laptop_prices.csv').cache()"
   ]
  },
  {
   "cell_type": "code",
   "execution_count": null,
   "id": "e86ef1b8",
   "metadata": {},
   "outputs": [],
   "source": [
    "df.createOrReplaceTempView('table')"
   ]
  },
  {
   "cell_type": "code",
   "execution_count": null,
   "id": "cbc0d157",
   "metadata": {},
   "outputs": [],
   "source": [
    "spark.sql('show databases').show()"
   ]
  },
  {
   "cell_type": "code",
   "execution_count": null,
   "id": "8b0ab6e1",
   "metadata": {},
   "outputs": [],
   "source": [
    "spark.sql('show tables').show()"
   ]
  },
  {
   "cell_type": "code",
   "execution_count": null,
   "id": "24f17bda",
   "metadata": {},
   "outputs": [],
   "source": [
    "spark.sql('select * from table').show()"
   ]
  },
  {
   "cell_type": "code",
   "execution_count": null,
   "id": "e3409687",
   "metadata": {},
   "outputs": [],
   "source": [
    "spark.sql('select * from table where Company=\"Apple\"').show()"
   ]
  },
  {
   "cell_type": "code",
   "execution_count": null,
   "id": "fb786d6a",
   "metadata": {},
   "outputs": [],
   "source": [
    "df.write.mode('overwrite').saveAsTable('tbl_laptop_prices')"
   ]
  },
  {
   "cell_type": "code",
   "execution_count": null,
   "id": "f7e7fd77",
   "metadata": {},
   "outputs": [],
   "source": [
    "spark.sql('select * from tbl_laptop_prices').show()"
   ]
  },
  {
   "cell_type": "code",
   "execution_count": null,
   "id": "4c9f19f8",
   "metadata": {},
   "outputs": [],
   "source": [
    "df_tbl = spark.table('tbl_laptop_prices')"
   ]
  },
  {
   "cell_type": "code",
   "execution_count": null,
   "id": "caab30a0",
   "metadata": {},
   "outputs": [],
   "source": [
    "df_tbl.show()"
   ]
  },
  {
   "cell_type": "code",
   "execution_count": null,
   "id": "5cec0a05",
   "metadata": {},
   "outputs": [],
   "source": [
    "spark.catalog.currentCatalog()"
   ]
  },
  {
   "cell_type": "code",
   "execution_count": null,
   "id": "a670d14f",
   "metadata": {},
   "outputs": [],
   "source": [
    "spark.catalog.currentDatabase()"
   ]
  },
  {
   "cell_type": "code",
   "execution_count": null,
   "id": "03342eed",
   "metadata": {},
   "outputs": [],
   "source": [
    "spark.catalog.listDatabases()"
   ]
  },
  {
   "cell_type": "code",
   "execution_count": null,
   "id": "8e43aac6",
   "metadata": {},
   "outputs": [],
   "source": [
    "spark.catalog.listTables()"
   ]
  },
  {
   "cell_type": "code",
   "execution_count": null,
   "id": "46efcb78",
   "metadata": {},
   "outputs": [],
   "source": [
    "spark.catalog.listFunctions()"
   ]
  },
  {
   "cell_type": "code",
   "execution_count": null,
   "id": "2e7586e3",
   "metadata": {},
   "outputs": [],
   "source": [
    "%%markdown\n",
    "# The following introduces about how to execute Spark SQL using magic command"
   ]
  },
  {
   "cell_type": "code",
   "execution_count": null,
   "id": "5a38680e",
   "metadata": {},
   "outputs": [],
   "source": [
    "%%markdown\n",
    "### Step 1: Install the Required Package\n",
    "First, ensure that you have the sparksql-magic package installed. You can install it using pip:"
   ]
  },
  {
   "cell_type": "code",
   "execution_count": null,
   "id": "db211205",
   "metadata": {},
   "outputs": [],
   "source": [
    "%pip install sparksql-magic"
   ]
  },
  {
   "cell_type": "code",
   "execution_count": null,
   "id": "3422ad9f",
   "metadata": {},
   "outputs": [],
   "source": [
    "%%markdown\n",
    "### Step 2: Load the Extension\n",
    "After installing the package, you need to load the sparksql_magic extension in your Jupyter notebook. You can do this by running the following command in a separate cell:"
   ]
  },
  {
   "cell_type": "code",
   "execution_count": null,
   "id": "2f779c53",
   "metadata": {},
   "outputs": [],
   "source": [
    "%load_ext sparksql_magic"
   ]
  },
  {
   "cell_type": "code",
   "execution_count": null,
   "id": "e5642c63",
   "metadata": {},
   "outputs": [],
   "source": [
    "%%markdown\n",
    "### Step 3: Configure Spark SQL\n",
    "You can set various configurations for Spark SQL if needed. For example, to set the maximum number of rows to display, you can use:"
   ]
  },
  {
   "cell_type": "code",
   "execution_count": null,
   "id": "76b5cf44",
   "metadata": {},
   "outputs": [],
   "source": [
    "%config SparkSql.limit=10"
   ]
  },
  {
   "cell_type": "code",
   "execution_count": null,
   "id": "efc263a2",
   "metadata": {},
   "outputs": [],
   "source": [
    "%%markdown\n",
    "### Step 4: Use the %sparksql Magic Command\n",
    "Now you can execute Spark SQL queries directly in your notebook using the %%sparksql cell magic command. Here’s an example:\n",
    "\n"
   ]
  },
  {
   "cell_type": "code",
   "execution_count": null,
   "id": "334799d0",
   "metadata": {},
   "outputs": [],
   "source": [
    "%%sparksql\n",
    "show namespaces;"
   ]
  },
  {
   "cell_type": "code",
   "execution_count": null,
   "id": "88d69991",
   "metadata": {},
   "outputs": [],
   "source": [
    "%%sparksql\n",
    "select current_schema();"
   ]
  },
  {
   "cell_type": "code",
   "execution_count": null,
   "id": "c81cc61a",
   "metadata": {},
   "outputs": [],
   "source": [
    "%%sparksql\n",
    "show tables;"
   ]
  },
  {
   "cell_type": "code",
   "execution_count": null,
   "id": "d1cab507",
   "metadata": {},
   "outputs": [],
   "source": [
    "%%sparksql\n",
    "select * from tbl_laptop_prices;"
   ]
  },
  {
   "cell_type": "code",
   "execution_count": null,
   "id": "6deddeb4",
   "metadata": {},
   "outputs": [],
   "source": [
    "%%sparksql\n",
    "select Product, count(1) as cnt from tbl_laptop_prices\n",
    "group by Product\n",
    "order by cnt desc"
   ]
  }
 ],
 "metadata": {
  "kernelspec": {
   "display_name": "Python 3 (ipykernel)",
   "language": "python",
   "name": "python3"
  }
 },
 "nbformat": 4,
 "nbformat_minor": 5
}

{
 "cells": [
  {
   "cell_type": "markdown",
   "id": "b06d7bb0",
   "metadata": {},
   "source": [
    "# This Lab introduces the DataFrames APIs"
   ]
  },
  {
   "cell_type": "markdown",
   "id": "a1353411",
   "metadata": {
    "vscode": {
     "languageId": "plaintext"
    }
   },
   "source": [
    "## Preparation\n",
    "1. Spark Session\n",
    "2. DataFrames loaded from file\n",
    "3. The DataFrames should be cached for multiple uses"
   ]
  },
  {
   "cell_type": "code",
   "execution_count": null,
   "id": "e27c0422",
   "metadata": {},
   "outputs": [],
   "source": [
    "from notebook_data.common import init_spark\n",
    "\n",
    "spark, sc = init_spark.create()"
   ]
  },
  {
   "cell_type": "code",
   "execution_count": null,
   "id": "f1cd6361",
   "metadata": {},
   "outputs": [],
   "source": [
    "spark"
   ]
  },
  {
   "cell_type": "code",
   "execution_count": null,
   "id": "58f8b428",
   "metadata": {},
   "outputs": [],
   "source": [
    "df = spark.read.option('header', True).option('inferSchema', True).csv('w05/data/laptop_prices.csv').cache()"
   ]
  },
  {
   "cell_type": "code",
   "execution_count": null,
   "id": "5203c8f7",
   "metadata": {},
   "outputs": [],
   "source": [
    "df.explain()"
   ]
  },
  {
   "cell_type": "code",
   "execution_count": null,
   "id": "1b1e9a75",
   "metadata": {},
   "outputs": [],
   "source": [
    "df.is_cached"
   ]
  },
  {
   "cell_type": "code",
   "execution_count": null,
   "id": "0c13634a",
   "metadata": {},
   "outputs": [],
   "source": [
    "df.show()"
   ]
  },
  {
   "cell_type": "code",
   "execution_count": null,
   "id": "ea51a7e3",
   "metadata": {},
   "outputs": [],
   "source": [
    "df.printSchema()"
   ]
  },
  {
   "cell_type": "code",
   "execution_count": null,
   "id": "fee796cf",
   "metadata": {},
   "outputs": [],
   "source": [
    "df.schema.simpleString()"
   ]
  },
  {
   "cell_type": "code",
   "execution_count": null,
   "id": "bdddc4d2",
   "metadata": {},
   "outputs": [],
   "source": [
    "df.select('Company').show()"
   ]
  },
  {
   "cell_type": "code",
   "execution_count": null,
   "id": "49ee5838",
   "metadata": {},
   "outputs": [],
   "source": [
    "df.filter('Price_euros > 1000').show()"
   ]
  },
  {
   "cell_type": "code",
   "execution_count": null,
   "id": "3e6e9296",
   "metadata": {},
   "outputs": [],
   "source": [
    "df.where('Price_euros < 1000').show()"
   ]
  },
  {
   "cell_type": "code",
   "execution_count": null,
   "id": "72a57003",
   "metadata": {},
   "outputs": [],
   "source": [
    "df.groupBy('Company').count().show()"
   ]
  },
  {
   "cell_type": "code",
   "execution_count": null,
   "id": "2ee13166",
   "metadata": {},
   "outputs": [],
   "source": [
    "df.groupBy('Company').count().orderBy('count').show()"
   ]
  },
  {
   "cell_type": "code",
   "execution_count": null,
   "id": "a1b9a0ff",
   "metadata": {},
   "outputs": [],
   "source": [
    "from pyspark.sql.functions import desc\n",
    "df.groupBy('Company').count().orderBy(desc('count')).show()"
   ]
  },
  {
   "cell_type": "code",
   "execution_count": null,
   "id": "ab40d992",
   "metadata": {},
   "outputs": [],
   "source": [
    "df.agg({'Price_euros': 'avg'}).show()"
   ]
  },
  {
   "cell_type": "code",
   "execution_count": null,
   "id": "e11b5a4b",
   "metadata": {},
   "outputs": [],
   "source": [
    "from pyspark.sql import functions as sf"
   ]
  },
  {
   "cell_type": "code",
   "execution_count": null,
   "id": "c2b6a89b",
   "metadata": {},
   "outputs": [],
   "source": [
    "df.withColumn('discount_rate', sf.lit(0.5)).withColumn('discounted_price', sf.col('Price_euros') * sf.col('discount_rate')).show()"
   ]
  },
  {
   "cell_type": "code",
   "execution_count": null,
   "id": "d17db339",
   "metadata": {},
   "outputs": [],
   "source": [
    "df.withColumnRenamed('Company', 'Brand').show()"
   ]
  },
  {
   "cell_type": "code",
   "execution_count": null,
   "id": "f39da578",
   "metadata": {},
   "outputs": [],
   "source": [
    "df.drop('TypeName').show()"
   ]
  },
  {
   "cell_type": "code",
   "execution_count": null,
   "id": "2a59e268",
   "metadata": {},
   "outputs": [],
   "source": [
    "df.count()"
   ]
  },
  {
   "cell_type": "code",
   "execution_count": null,
   "id": "470ec091",
   "metadata": {},
   "outputs": [],
   "source": [
    "df.distinct().count()"
   ]
  },
  {
   "cell_type": "code",
   "execution_count": null,
   "id": "a3b45ad8",
   "metadata": {},
   "outputs": [],
   "source": [
    "df.sort(sf.desc('Price_euros')).show()"
   ]
  },
  {
   "cell_type": "code",
   "execution_count": null,
   "id": "83813704",
   "metadata": {},
   "outputs": [],
   "source": [
    "\n",
    "df.sort(sf.asc('Price_euros')).show()"
   ]
  },
  {
   "cell_type": "code",
   "execution_count": null,
   "id": "096140be",
   "metadata": {},
   "outputs": [],
   "source": [
    "df.limit(10).explain()"
   ]
  },
  {
   "cell_type": "code",
   "execution_count": null,
   "id": "4ab6f00a",
   "metadata": {},
   "outputs": [],
   "source": [
    "df.limit(10).collect()"
   ]
  },
  {
   "cell_type": "code",
   "execution_count": null,
   "id": "de627dd1",
   "metadata": {},
   "outputs": [],
   "source": [
    "res = df.head(10)"
   ]
  },
  {
   "cell_type": "code",
   "execution_count": null,
   "id": "d109543a",
   "metadata": {},
   "outputs": [],
   "source": [
    "type(res)"
   ]
  },
  {
   "cell_type": "code",
   "execution_count": null,
   "id": "c6f6a72f",
   "metadata": {},
   "outputs": [],
   "source": [
    "res"
   ]
  },
  {
   "cell_type": "code",
   "execution_count": null,
   "id": "755abf61",
   "metadata": {},
   "outputs": [],
   "source": [
    "df.first()"
   ]
  },
  {
   "cell_type": "code",
   "execution_count": null,
   "id": "7b9ebb18",
   "metadata": {},
   "outputs": [],
   "source": [
    "# Calculate approximate quantiles (percentiles).\n",
    "\n",
    "df.approxQuantile('Price_euros', [0.25, 0.5, 0.75], 0.01)"
   ]
  },
  {
   "cell_type": "code",
   "execution_count": null,
   "id": "f3084394",
   "metadata": {},
   "outputs": [],
   "source": [
    "# Drop duplicate rows based on specific columns.\n",
    "\n",
    "df.dropDuplicates(['Company']).count()"
   ]
  },
  {
   "cell_type": "code",
   "execution_count": null,
   "id": "74d1f458",
   "metadata": {},
   "outputs": [],
   "source": [
    "sc.setCheckpointDir('checkpoints/dataframes')"
   ]
  },
  {
   "cell_type": "code",
   "execution_count": null,
   "id": "55b519fb",
   "metadata": {},
   "outputs": [],
   "source": [
    "df.checkpoint()"
   ]
  },
  {
   "cell_type": "code",
   "execution_count": null,
   "id": "7c4c79ac",
   "metadata": {},
   "outputs": [],
   "source": [
    "df.explain()"
   ]
  },
  {
   "cell_type": "code",
   "execution_count": null,
   "id": "c06b39b3",
   "metadata": {},
   "outputs": [],
   "source": [
    "# Remove the DataFrame from memory/disk.\n",
    "\n",
    "df.unpersist()"
   ]
  },
  {
   "cell_type": "code",
   "execution_count": null,
   "id": "1c0e28c3",
   "metadata": {},
   "outputs": [],
   "source": [
    "# Check if the dataframe is still cached?\n",
    "\n",
    "df.is_cached"
   ]
  }
 ],
 "metadata": {
  "kernelspec": {
   "display_name": "Python 3 (ipykernel)",
   "language": "python",
   "name": "python3"
  },
  "language_info": {
   "codemirror_mode": {
    "name": "ipython",
    "version": 3
   },
   "file_extension": ".py",
   "mimetype": "text/x-python",
   "name": "python",
   "nbconvert_exporter": "python",
   "pygments_lexer": "ipython3",
   "version": "3.11.9"
  }
 },
 "nbformat": 4,
 "nbformat_minor": 5
}

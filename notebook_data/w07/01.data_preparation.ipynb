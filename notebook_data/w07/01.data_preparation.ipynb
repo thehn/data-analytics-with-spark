{
 "cells": [
  {
   "cell_type": "markdown",
   "metadata": {},
   "source": [
    "# Lab: Preprocessing & Cleansing Data"
   ]
  },
  {
   "cell_type": "markdown",
   "metadata": {
    "vscode": {
     "languageId": "plaintext"
    }
   },
   "source": [
    "Handling Missing Values in a Customer Database\n",
    "- Dataset: `notebook_data/w07/data/Telco-Customer-Churn.csv`\n",
    "- Description: A telecom company has a customer database with missing values in columns such as age, income, and occupation. Use Spark to detect and handle missing values using techniques such as mean/median imputation, interpolation, or regression imputation.\n"
   ]
  },
  {
   "cell_type": "markdown",
   "metadata": {},
   "source": [
    "## Initialization"
   ]
  },
  {
   "cell_type": "code",
   "execution_count": 1,
   "metadata": {},
   "outputs": [],
   "source": [
    "data_prefix = 'notebook_data/w07/data'\n",
    "customer_churn = f'{data_prefix}/Telco-Customer-Churn.csv'"
   ]
  },
  {
   "cell_type": "code",
   "execution_count": 2,
   "metadata": {},
   "outputs": [],
   "source": [
    "from pyspark.sql import SparkSession\n",
    "spark = SparkSession.builder.getOrCreate()"
   ]
  },
  {
   "cell_type": "code",
   "execution_count": 3,
   "metadata": {},
   "outputs": [],
   "source": [
    "df = spark.read.csv(path=customer_churn, inferSchema=True, header=True).cache()"
   ]
  },
  {
   "cell_type": "markdown",
   "metadata": {},
   "source": [
    "## Understanding data"
   ]
  },
  {
   "cell_type": "code",
   "execution_count": 4,
   "metadata": {},
   "outputs": [
    {
     "name": "stdout",
     "output_type": "stream",
     "text": [
      "root\n",
      " |-- customerID: string (nullable = true)\n",
      " |-- gender: string (nullable = true)\n",
      " |-- SeniorCitizen: integer (nullable = true)\n",
      " |-- Partner: string (nullable = true)\n",
      " |-- Dependents: string (nullable = true)\n",
      " |-- tenure: integer (nullable = true)\n",
      " |-- PhoneService: string (nullable = true)\n",
      " |-- MultipleLines: string (nullable = true)\n",
      " |-- InternetService: string (nullable = true)\n",
      " |-- OnlineSecurity: string (nullable = true)\n",
      " |-- OnlineBackup: string (nullable = true)\n",
      " |-- DeviceProtection: string (nullable = true)\n",
      " |-- TechSupport: string (nullable = true)\n",
      " |-- StreamingTV: string (nullable = true)\n",
      " |-- StreamingMovies: string (nullable = true)\n",
      " |-- Contract: string (nullable = true)\n",
      " |-- PaperlessBilling: string (nullable = true)\n",
      " |-- PaymentMethod: string (nullable = true)\n",
      " |-- MonthlyCharges: double (nullable = true)\n",
      " |-- TotalCharges: string (nullable = true)\n",
      " |-- Churn: string (nullable = true)\n",
      "\n"
     ]
    }
   ],
   "source": [
    "df.printSchema()"
   ]
  },
  {
   "cell_type": "code",
   "execution_count": 5,
   "metadata": {},
   "outputs": [
    {
     "name": "stdout",
     "output_type": "stream",
     "text": [
      "+----------+------+-------------+-------+----------+------+------------+----------------+---------------+--------------+------------+----------------+-----------+-----------+---------------+--------------+----------------+--------------------+--------------+------------+-----+\n",
      "|customerID|gender|SeniorCitizen|Partner|Dependents|tenure|PhoneService|   MultipleLines|InternetService|OnlineSecurity|OnlineBackup|DeviceProtection|TechSupport|StreamingTV|StreamingMovies|      Contract|PaperlessBilling|       PaymentMethod|MonthlyCharges|TotalCharges|Churn|\n",
      "+----------+------+-------------+-------+----------+------+------------+----------------+---------------+--------------+------------+----------------+-----------+-----------+---------------+--------------+----------------+--------------------+--------------+------------+-----+\n",
      "|7590-VHVEG|Female|            0|    Yes|        No|     1|          No|No phone service|            DSL|            No|         Yes|              No|         No|         No|             No|Month-to-month|             Yes|    Electronic check|         29.85|       29.85|   No|\n",
      "|5575-GNVDE|  Male|            0|     No|        No|    34|         Yes|              No|            DSL|           Yes|          No|             Yes|         No|         No|             No|      One year|              No|        Mailed check|         56.95|      1889.5|   No|\n",
      "|3668-QPYBK|  Male|            0|     No|        No|     2|         Yes|              No|            DSL|           Yes|         Yes|              No|         No|         No|             No|Month-to-month|             Yes|        Mailed check|         53.85|      108.15|  Yes|\n",
      "|7795-CFOCW|  Male|            0|     No|        No|    45|          No|No phone service|            DSL|           Yes|          No|             Yes|        Yes|         No|             No|      One year|              No|Bank transfer (au...|          42.3|     1840.75|   No|\n",
      "|9237-HQITU|Female|            0|     No|        No|     2|         Yes|              No|    Fiber optic|            No|          No|              No|         No|         No|             No|Month-to-month|             Yes|    Electronic check|          70.7|      151.65|  Yes|\n",
      "|9305-CDSKC|Female|            0|     No|        No|     8|         Yes|             Yes|    Fiber optic|            No|          No|             Yes|         No|        Yes|            Yes|Month-to-month|             Yes|    Electronic check|         99.65|       820.5|  Yes|\n",
      "|1452-KIOVK|  Male|            0|     No|       Yes|    22|         Yes|             Yes|    Fiber optic|            No|         Yes|              No|         No|        Yes|             No|Month-to-month|             Yes|Credit card (auto...|          89.1|      1949.4|   No|\n",
      "|6713-OKOMC|Female|            0|     No|        No|    10|          No|No phone service|            DSL|           Yes|          No|              No|         No|         No|             No|Month-to-month|              No|        Mailed check|         29.75|       301.9|   No|\n",
      "|7892-POOKP|Female|            0|    Yes|        No|    28|         Yes|             Yes|    Fiber optic|            No|          No|             Yes|        Yes|        Yes|            Yes|Month-to-month|             Yes|    Electronic check|         104.8|     3046.05|  Yes|\n",
      "|6388-TABGU|  Male|            0|     No|       Yes|    62|         Yes|              No|            DSL|           Yes|         Yes|              No|         No|         No|             No|      One year|              No|Bank transfer (au...|         56.15|     3487.95|   No|\n",
      "+----------+------+-------------+-------+----------+------+------------+----------------+---------------+--------------+------------+----------------+-----------+-----------+---------------+--------------+----------------+--------------------+--------------+------------+-----+\n",
      "only showing top 10 rows\n",
      "\n"
     ]
    }
   ],
   "source": [
    "df.show(10)"
   ]
  },
  {
   "cell_type": "code",
   "execution_count": 6,
   "metadata": {},
   "outputs": [
    {
     "data": {
      "text/plain": [
       "7043"
      ]
     },
     "execution_count": 6,
     "metadata": {},
     "output_type": "execute_result"
    }
   ],
   "source": [
    "df.count()"
   ]
  },
  {
   "cell_type": "markdown",
   "metadata": {},
   "source": [
    "### Getting statistical information from the DataFrames `df`\n",
    "Get statistical metrics such as minimum, maximum, standard deviation, mean, mode, and median.\n",
    "\n",
    "In data science, statistical measures are essential for analyzing and interpreting data. Here are some of the most commonly used statistical metrics:\n",
    "\n",
    "1. Mean\n",
    "- Definition: The mean, often referred to as the average, is calculated by summing all values in a dataset and dividing by the number of values. It provides a measure of central tendency, indicating where the data is concentrated.\n",
    "- Formula: Mean = (Sum of all values) / (Number of values)\n",
    "- Interpretation: The mean represents the \"typical\" value in the dataset but is sensitive to outliers, which can skew the result significantly\n",
    "\n",
    "2. Median\n",
    "- Definition: The median is the middle value in a dataset when the values are arranged in ascending order. If there is an even number of observations, the median is the average of the two middle values.\n",
    "- Steps to Find:\n",
    "Arrange the data in ascending order.\n",
    "If the number of data points is odd, the median is the middle value.\n",
    "If even, it is the average of the two middle values.\n",
    "- Interpretation: The median is robust to outliers, making it a better measure of central tendency in skewed distributions \n",
    "\n",
    "3. Mode\n",
    "- Definition: The mode is the value that appears most frequently in a dataset. A dataset can have one mode (unimodal), more than one mode (multimodal), or no mode at all if all values occur with the same frequency.\n",
    "- Interpretation: The mode is particularly useful for categorical data or to identify the most common value in a dataset. It can reveal insights about the distribution of data that the mean and median might not show\n",
    "\n",
    "4. Standard Deviation\n",
    "- Definition: Standard deviation measures the amount of variation or dispersion in a set of values. A low standard deviation indicates that the values tend to be close to the mean, while a high standard deviation indicates that the values are spread out over a wider range.\n",
    "- Formula: Standard Deviation = √[(Σ(value - mean)²) / (number of values)]\n",
    "- Interpretation: It quantifies the variability within a dataset, which is crucial for understanding data consistency and reliability\n",
    "\n",
    "5. Variance\n",
    "- Definition: Variance is the square of the standard deviation and provides a measure of how much the values in a dataset differ from the mean.\n",
    "- Interpretation: Variance is often used in statistical analyses and machine learning to understand the spread of data points\n",
    "\n",
    "6. Range\n",
    "- Definition: The range is the difference between the maximum and minimum values in a dataset.\n",
    "- Interpretation: It provides a simple measure of variability but does not give information about the distribution of values within that range\n",
    "\n",
    "7. Interquartile Range (IQR)\n",
    "- Definition: The IQR measures the range of the middle 50% of the data, calculated as the difference between the first quartile (Q1) and the third quartile (Q3).\n",
    "- Interpretation: It is a robust measure of variability that is less affected by outliers and provides insights into the spread of the central portion of the data\n",
    "\n",
    "8. Skewness\n",
    "- Definition: Skewness measures the asymmetry of the distribution of values in a dataset. A skewness of zero indicates a symmetric distribution, while positive or negative values indicate right or left skew, respectively.\n",
    "- Interpretation: Understanding skewness helps in assessing the normality of the data, which is important for many statistical analyses.\n",
    "\n",
    "9. Kurtosis\n",
    "- Definition: Kurtosis measures the \"tailedness\" of the distribution. High kurtosis indicates heavy tails and a sharp peak, while low kurtosis indicates light tails and a flatter peak.\n",
    "- Interpretation: It provides insights into the likelihood of extreme values in the dataset.\n",
    "\n",
    "10. Percentiles\n",
    "- Definition: Percentiles indicate the relative standing of a value within a dataset. For example, the 25th percentile (Q1) is the value below which 25% of the data falls.\n",
    "- Interpretation: Percentiles are useful for understanding the distribution of data and identifying outliers.\n"
   ]
  },
  {
   "cell_type": "markdown",
   "metadata": {},
   "source": [
    "#### Using Pandas\n",
    "Pandas provides a straightforward way to calculate these metrics using built-in functions."
   ]
  },
  {
   "cell_type": "code",
   "execution_count": 8,
   "metadata": {},
   "outputs": [],
   "source": [
    "pd_df = df.toPandas()"
   ]
  },
  {
   "cell_type": "code",
   "execution_count": 9,
   "metadata": {},
   "outputs": [
    {
     "data": {
      "text/html": [
       "<div>\n",
       "<style scoped>\n",
       "    .dataframe tbody tr th:only-of-type {\n",
       "        vertical-align: middle;\n",
       "    }\n",
       "\n",
       "    .dataframe tbody tr th {\n",
       "        vertical-align: top;\n",
       "    }\n",
       "\n",
       "    .dataframe thead th {\n",
       "        text-align: right;\n",
       "    }\n",
       "</style>\n",
       "<table border=\"1\" class=\"dataframe\">\n",
       "  <thead>\n",
       "    <tr style=\"text-align: right;\">\n",
       "      <th></th>\n",
       "      <th>SeniorCitizen</th>\n",
       "      <th>tenure</th>\n",
       "      <th>MonthlyCharges</th>\n",
       "    </tr>\n",
       "  </thead>\n",
       "  <tbody>\n",
       "    <tr>\n",
       "      <th>count</th>\n",
       "      <td>7043.000000</td>\n",
       "      <td>7043.000000</td>\n",
       "      <td>7043.000000</td>\n",
       "    </tr>\n",
       "    <tr>\n",
       "      <th>mean</th>\n",
       "      <td>0.162147</td>\n",
       "      <td>32.371149</td>\n",
       "      <td>64.761692</td>\n",
       "    </tr>\n",
       "    <tr>\n",
       "      <th>std</th>\n",
       "      <td>0.368612</td>\n",
       "      <td>24.559481</td>\n",
       "      <td>30.090047</td>\n",
       "    </tr>\n",
       "    <tr>\n",
       "      <th>min</th>\n",
       "      <td>0.000000</td>\n",
       "      <td>0.000000</td>\n",
       "      <td>18.250000</td>\n",
       "    </tr>\n",
       "    <tr>\n",
       "      <th>25%</th>\n",
       "      <td>0.000000</td>\n",
       "      <td>9.000000</td>\n",
       "      <td>35.500000</td>\n",
       "    </tr>\n",
       "    <tr>\n",
       "      <th>50%</th>\n",
       "      <td>0.000000</td>\n",
       "      <td>29.000000</td>\n",
       "      <td>70.350000</td>\n",
       "    </tr>\n",
       "    <tr>\n",
       "      <th>75%</th>\n",
       "      <td>0.000000</td>\n",
       "      <td>55.000000</td>\n",
       "      <td>89.850000</td>\n",
       "    </tr>\n",
       "    <tr>\n",
       "      <th>max</th>\n",
       "      <td>1.000000</td>\n",
       "      <td>72.000000</td>\n",
       "      <td>118.750000</td>\n",
       "    </tr>\n",
       "  </tbody>\n",
       "</table>\n",
       "</div>"
      ],
      "text/plain": [
       "       SeniorCitizen       tenure  MonthlyCharges\n",
       "count    7043.000000  7043.000000     7043.000000\n",
       "mean        0.162147    32.371149       64.761692\n",
       "std         0.368612    24.559481       30.090047\n",
       "min         0.000000     0.000000       18.250000\n",
       "25%         0.000000     9.000000       35.500000\n",
       "50%         0.000000    29.000000       70.350000\n",
       "75%         0.000000    55.000000       89.850000\n",
       "max         1.000000    72.000000      118.750000"
      ]
     },
     "execution_count": 9,
     "metadata": {},
     "output_type": "execute_result"
    }
   ],
   "source": [
    "pd_df.describe()"
   ]
  },
  {
   "cell_type": "code",
   "execution_count": 12,
   "metadata": {},
   "outputs": [],
   "source": [
    "# Mean\n",
    "mean_value = pd_df['MonthlyCharges'].mean()\n",
    "\n",
    "# Median\n",
    "median_value = pd_df['MonthlyCharges'].median()\n",
    "\n",
    "# Mode\n",
    "mode_value = pd_df['MonthlyCharges'].mode()  # mode() returns a Series\n",
    "\n",
    "# Standard Deviation\n",
    "std_dev = pd_df['MonthlyCharges'].std()\n",
    "\n",
    "# Variance\n",
    "variance = pd_df['MonthlyCharges'].var()\n",
    "\n",
    "# Range\n",
    "data_range = pd_df['MonthlyCharges'].max() - pd_df['MonthlyCharges'].min()\n",
    "\n",
    "# Interquartile Range (IQR)\n",
    "Q1 = pd_df['MonthlyCharges'].quantile(0.25)\n",
    "Q3 = pd_df['MonthlyCharges'].quantile(0.75)\n",
    "IQR = Q3 - Q1\n",
    "\n",
    "# Skewness\n",
    "skewness = pd_df['MonthlyCharges'].skew()\n",
    "\n",
    "# Kurtosis\n",
    "kurtosis = pd_df['MonthlyCharges'].kurtosis()\n",
    "\n",
    "# Percentiles\n",
    "percentiles = pd_df['MonthlyCharges'].quantile([0.25, 0.5, 0.75])"
   ]
  },
  {
   "cell_type": "code",
   "execution_count": 15,
   "metadata": {},
   "outputs": [
    {
     "data": {
      "text/plain": [
       "np.float64(64.76169246059918)"
      ]
     },
     "execution_count": 15,
     "metadata": {},
     "output_type": "execute_result"
    }
   ],
   "source": [
    "mean_value"
   ]
  },
  {
   "cell_type": "code",
   "execution_count": 16,
   "metadata": {},
   "outputs": [
    {
     "data": {
      "text/plain": [
       "np.float64(70.35)"
      ]
     },
     "execution_count": 16,
     "metadata": {},
     "output_type": "execute_result"
    }
   ],
   "source": [
    "median_value"
   ]
  },
  {
   "cell_type": "code",
   "execution_count": 17,
   "metadata": {},
   "outputs": [
    {
     "data": {
      "text/plain": [
       "0    20.05\n",
       "Name: MonthlyCharges, dtype: float64"
      ]
     },
     "execution_count": 17,
     "metadata": {},
     "output_type": "execute_result"
    }
   ],
   "source": [
    "mode_value"
   ]
  },
  {
   "cell_type": "code",
   "execution_count": 18,
   "metadata": {},
   "outputs": [
    {
     "data": {
      "text/plain": [
       "np.float64(30.090047097678493)"
      ]
     },
     "execution_count": 18,
     "metadata": {},
     "output_type": "execute_result"
    }
   ],
   "source": [
    "std_dev"
   ]
  },
  {
   "cell_type": "code",
   "execution_count": 19,
   "metadata": {},
   "outputs": [
    {
     "data": {
      "text/plain": [
       "np.float64(905.4109343405098)"
      ]
     },
     "execution_count": 19,
     "metadata": {},
     "output_type": "execute_result"
    }
   ],
   "source": [
    "variance"
   ]
  },
  {
   "cell_type": "code",
   "execution_count": 20,
   "metadata": {},
   "outputs": [
    {
     "data": {
      "text/plain": [
       "np.float64(100.5)"
      ]
     },
     "execution_count": 20,
     "metadata": {},
     "output_type": "execute_result"
    }
   ],
   "source": [
    "data_range"
   ]
  },
  {
   "cell_type": "code",
   "execution_count": 21,
   "metadata": {},
   "outputs": [
    {
     "data": {
      "text/plain": [
       "np.float64(35.5)"
      ]
     },
     "execution_count": 21,
     "metadata": {},
     "output_type": "execute_result"
    }
   ],
   "source": [
    "Q1"
   ]
  },
  {
   "cell_type": "code",
   "execution_count": 23,
   "metadata": {},
   "outputs": [
    {
     "data": {
      "text/plain": [
       "np.float64(89.85)"
      ]
     },
     "execution_count": 23,
     "metadata": {},
     "output_type": "execute_result"
    }
   ],
   "source": [
    "Q3"
   ]
  },
  {
   "cell_type": "code",
   "execution_count": 24,
   "metadata": {},
   "outputs": [
    {
     "data": {
      "text/plain": [
       "np.float64(54.349999999999994)"
      ]
     },
     "execution_count": 24,
     "metadata": {},
     "output_type": "execute_result"
    }
   ],
   "source": [
    "IQR"
   ]
  },
  {
   "cell_type": "code",
   "execution_count": 25,
   "metadata": {},
   "outputs": [
    {
     "data": {
      "text/plain": [
       "np.float64(-0.22052443394398033)"
      ]
     },
     "execution_count": 25,
     "metadata": {},
     "output_type": "execute_result"
    }
   ],
   "source": [
    "skewness"
   ]
  },
  {
   "cell_type": "code",
   "execution_count": 26,
   "metadata": {},
   "outputs": [
    {
     "data": {
      "text/plain": [
       "np.float64(-1.2572596945495056)"
      ]
     },
     "execution_count": 26,
     "metadata": {},
     "output_type": "execute_result"
    }
   ],
   "source": [
    "kurtosis"
   ]
  },
  {
   "cell_type": "code",
   "execution_count": 27,
   "metadata": {},
   "outputs": [
    {
     "data": {
      "text/plain": [
       "0.25    35.50\n",
       "0.50    70.35\n",
       "0.75    89.85\n",
       "Name: MonthlyCharges, dtype: float64"
      ]
     },
     "execution_count": 27,
     "metadata": {},
     "output_type": "execute_result"
    }
   ],
   "source": [
    "percentiles"
   ]
  },
  {
   "cell_type": "markdown",
   "metadata": {},
   "source": [
    "#### Using PySpark\n",
    "In PySpark, you can calculate these metrics using the DataFrame API"
   ]
  },
  {
   "cell_type": "code",
   "execution_count": 7,
   "metadata": {},
   "outputs": [
    {
     "name": "stdout",
     "output_type": "stream",
     "text": [
      "+-------+----------+------+------------------+-------+----------+------------------+------------+-------------+---------------+--------------+------------+----------------+-----------+-----------+---------------+--------------+----------------+--------------------+------------------+------------------+-----+\n",
      "|summary|customerID|gender|     SeniorCitizen|Partner|Dependents|            tenure|PhoneService|MultipleLines|InternetService|OnlineSecurity|OnlineBackup|DeviceProtection|TechSupport|StreamingTV|StreamingMovies|      Contract|PaperlessBilling|       PaymentMethod|    MonthlyCharges|      TotalCharges|Churn|\n",
      "+-------+----------+------+------------------+-------+----------+------------------+------------+-------------+---------------+--------------+------------+----------------+-----------+-----------+---------------+--------------+----------------+--------------------+------------------+------------------+-----+\n",
      "|  count|      7043|  7043|              7043|   7043|      7043|              7043|        7043|         7043|           7043|          7043|        7043|            7043|       7043|       7043|           7043|          7043|            7043|                7043|              7043|              7043| 7043|\n",
      "|   mean|      NULL|  NULL|0.1621468124378816|   NULL|      NULL| 32.37114865824223|        NULL|         NULL|           NULL|          NULL|        NULL|            NULL|       NULL|       NULL|           NULL|          NULL|            NULL|                NULL| 64.76169246059922|2283.3004408418697| NULL|\n",
      "| stddev|      NULL|  NULL|0.3686116056100135|   NULL|      NULL|24.559481023094442|        NULL|         NULL|           NULL|          NULL|        NULL|            NULL|       NULL|       NULL|           NULL|          NULL|            NULL|                NULL|30.090047097678482| 2266.771361883145| NULL|\n",
      "|    min|0002-ORFBO|Female|                 0|     No|        No|                 0|          No|           No|            DSL|            No|          No|              No|         No|         No|             No|Month-to-month|              No|Bank transfer (au...|             18.25|                  |   No|\n",
      "|    max|9995-HOTOH|  Male|                 1|    Yes|       Yes|                72|         Yes|          Yes|             No|           Yes|         Yes|             Yes|        Yes|        Yes|            Yes|      Two year|             Yes|        Mailed check|            118.75|             999.9|  Yes|\n",
      "+-------+----------+------+------------------+-------+----------+------------------+------------+-------------+---------------+--------------+------------+----------------+-----------+-----------+---------------+--------------+----------------+--------------------+------------------+------------------+-----+\n",
      "\n"
     ]
    }
   ],
   "source": [
    "df.describe().show()"
   ]
  },
  {
   "cell_type": "code",
   "execution_count": 28,
   "metadata": {},
   "outputs": [],
   "source": [
    "from pyspark.sql.functions import col, mean, stddev, variance, skewness, kurtosis"
   ]
  },
  {
   "cell_type": "code",
   "execution_count": 41,
   "metadata": {},
   "outputs": [
    {
     "name": "stdout",
     "output_type": "stream",
     "text": [
      "+-------------------+\n",
      "|avg(MonthlyCharges)|\n",
      "+-------------------+\n",
      "|  64.76169246059922|\n",
      "+-------------------+\n",
      "\n"
     ]
    }
   ],
   "source": [
    "# Mean\n",
    "df.select(mean(col(\"MonthlyCharges\"))).show()"
   ]
  },
  {
   "cell_type": "code",
   "execution_count": 44,
   "metadata": {},
   "outputs": [
    {
     "data": {
      "text/plain": [
       "[70.35]"
      ]
     },
     "execution_count": 44,
     "metadata": {},
     "output_type": "execute_result"
    }
   ],
   "source": [
    "# Median\n",
    "df.approxQuantile(\"MonthlyCharges\", [0.5], 0)"
   ]
  },
  {
   "cell_type": "code",
   "execution_count": 48,
   "metadata": {},
   "outputs": [
    {
     "name": "stdout",
     "output_type": "stream",
     "text": [
      "+--------------+-----+\n",
      "|MonthlyCharges|count|\n",
      "+--------------+-----+\n",
      "|         20.05|   61|\n",
      "|         19.85|   45|\n",
      "|         19.95|   44|\n",
      "|          19.9|   44|\n",
      "|         19.65|   43|\n",
      "|          19.7|   43|\n",
      "|          20.0|   43|\n",
      "|         19.55|   40|\n",
      "|         20.15|   40|\n",
      "|         19.75|   39|\n",
      "|         20.25|   39|\n",
      "|          19.8|   38|\n",
      "|         20.35|   38|\n",
      "|          19.6|   37|\n",
      "|          20.1|   37|\n",
      "|          20.2|   35|\n",
      "|          19.5|   32|\n",
      "|         20.45|   31|\n",
      "|          19.4|   31|\n",
      "|          20.4|   30|\n",
      "+--------------+-----+\n",
      "only showing top 20 rows\n",
      "\n"
     ]
    }
   ],
   "source": [
    "# Mode (using groupBy and count)\n",
    "df.groupBy(\"MonthlyCharges\").count().orderBy(\"count\", ascending=False).show()"
   ]
  },
  {
   "cell_type": "code",
   "execution_count": 51,
   "metadata": {},
   "outputs": [
    {
     "name": "stdout",
     "output_type": "stream",
     "text": [
      "+----------------------+\n",
      "|stddev(MonthlyCharges)|\n",
      "+----------------------+\n",
      "|    30.090047097678482|\n",
      "+----------------------+\n",
      "\n"
     ]
    }
   ],
   "source": [
    "# Standard Deviation\n",
    "df.select(stddev(col(\"MonthlyCharges\"))).show()"
   ]
  },
  {
   "cell_type": "code",
   "execution_count": 58,
   "metadata": {},
   "outputs": [
    {
     "name": "stdout",
     "output_type": "stream",
     "text": [
      "+------------------------+\n",
      "|variance(MonthlyCharges)|\n",
      "+------------------------+\n",
      "|       905.4109343405092|\n",
      "+------------------------+\n",
      "\n"
     ]
    }
   ],
   "source": [
    "# Variance\n",
    "df.selectExpr('variance(MonthlyCharges)').show()"
   ]
  },
  {
   "cell_type": "code",
   "execution_count": 60,
   "metadata": {},
   "outputs": [
    {
     "data": {
      "text/plain": [
       "100.5"
      ]
     },
     "execution_count": 60,
     "metadata": {},
     "output_type": "execute_result"
    }
   ],
   "source": [
    "\n",
    "# Range\n",
    "df.agg({\"MonthlyCharges\": \"max\"}).collect()[0][0] - df.agg({\"MonthlyCharges\": \"min\"}).collect()[0][0]"
   ]
  },
  {
   "cell_type": "code",
   "execution_count": 61,
   "metadata": {},
   "outputs": [],
   "source": [
    "# Interquartile Range (IQR)\n",
    "Q1 = df.approxQuantile(\"MonthlyCharges\", [0.25], 0)[0]\n",
    "Q3 = df.approxQuantile(\"MonthlyCharges\", [0.75], 0)[0]\n",
    "IQR = Q3 - Q1"
   ]
  },
  {
   "cell_type": "code",
   "execution_count": 62,
   "metadata": {},
   "outputs": [
    {
     "data": {
      "text/plain": [
       "35.5"
      ]
     },
     "execution_count": 62,
     "metadata": {},
     "output_type": "execute_result"
    }
   ],
   "source": [
    "Q1"
   ]
  },
  {
   "cell_type": "code",
   "execution_count": 63,
   "metadata": {},
   "outputs": [
    {
     "data": {
      "text/plain": [
       "89.85"
      ]
     },
     "execution_count": 63,
     "metadata": {},
     "output_type": "execute_result"
    }
   ],
   "source": [
    "Q3"
   ]
  },
  {
   "cell_type": "code",
   "execution_count": 64,
   "metadata": {},
   "outputs": [
    {
     "data": {
      "text/plain": [
       "54.349999999999994"
      ]
     },
     "execution_count": 64,
     "metadata": {},
     "output_type": "execute_result"
    }
   ],
   "source": [
    "IQR"
   ]
  },
  {
   "cell_type": "code",
   "execution_count": 65,
   "metadata": {},
   "outputs": [
    {
     "name": "stdout",
     "output_type": "stream",
     "text": [
      "+------------------------+\n",
      "|skewness(MonthlyCharges)|\n",
      "+------------------------+\n",
      "|    -0.22047746443917748|\n",
      "+------------------------+\n",
      "\n"
     ]
    }
   ],
   "source": [
    "# Skewness\n",
    "df.select(skewness(col(\"MonthlyCharges\"))).show()"
   ]
  },
  {
   "cell_type": "code",
   "execution_count": 66,
   "metadata": {},
   "outputs": [
    {
     "name": "stdout",
     "output_type": "stream",
     "text": [
      "+------------------------+\n",
      "|kurtosis(MonthlyCharges)|\n",
      "+------------------------+\n",
      "|       -1.25721910093818|\n",
      "+------------------------+\n",
      "\n"
     ]
    }
   ],
   "source": [
    "# Kurtosis\n",
    "df.select(kurtosis(col(\"MonthlyCharges\"))).show()"
   ]
  },
  {
   "cell_type": "code",
   "execution_count": 67,
   "metadata": {},
   "outputs": [
    {
     "data": {
      "text/plain": [
       "[35.5, 70.35, 89.85]"
      ]
     },
     "execution_count": 67,
     "metadata": {},
     "output_type": "execute_result"
    }
   ],
   "source": [
    "# Percentiles\n",
    "df.approxQuantile(\"MonthlyCharges\", [0.25, 0.5, 0.75], 0)"
   ]
  },
  {
   "cell_type": "markdown",
   "metadata": {},
   "source": [
    "### Visualization the statistical metrics"
   ]
  },
  {
   "cell_type": "code",
   "execution_count": 69,
   "metadata": {},
   "outputs": [],
   "source": [
    "modes = df.groupBy(\"MonthlyCharges\").count().orderBy(\"count\", ascending=False).toPandas()"
   ]
  },
  {
   "cell_type": "code",
   "execution_count": 70,
   "metadata": {},
   "outputs": [
    {
     "data": {
      "text/html": [
       "<div>\n",
       "<style scoped>\n",
       "    .dataframe tbody tr th:only-of-type {\n",
       "        vertical-align: middle;\n",
       "    }\n",
       "\n",
       "    .dataframe tbody tr th {\n",
       "        vertical-align: top;\n",
       "    }\n",
       "\n",
       "    .dataframe thead th {\n",
       "        text-align: right;\n",
       "    }\n",
       "</style>\n",
       "<table border=\"1\" class=\"dataframe\">\n",
       "  <thead>\n",
       "    <tr style=\"text-align: right;\">\n",
       "      <th></th>\n",
       "      <th>MonthlyCharges</th>\n",
       "      <th>count</th>\n",
       "    </tr>\n",
       "  </thead>\n",
       "  <tbody>\n",
       "    <tr>\n",
       "      <th>0</th>\n",
       "      <td>20.05</td>\n",
       "      <td>61</td>\n",
       "    </tr>\n",
       "    <tr>\n",
       "      <th>1</th>\n",
       "      <td>19.85</td>\n",
       "      <td>45</td>\n",
       "    </tr>\n",
       "    <tr>\n",
       "      <th>2</th>\n",
       "      <td>19.95</td>\n",
       "      <td>44</td>\n",
       "    </tr>\n",
       "    <tr>\n",
       "      <th>3</th>\n",
       "      <td>19.90</td>\n",
       "      <td>44</td>\n",
       "    </tr>\n",
       "    <tr>\n",
       "      <th>4</th>\n",
       "      <td>19.70</td>\n",
       "      <td>43</td>\n",
       "    </tr>\n",
       "    <tr>\n",
       "      <th>...</th>\n",
       "      <td>...</td>\n",
       "      <td>...</td>\n",
       "    </tr>\n",
       "    <tr>\n",
       "      <th>1580</th>\n",
       "      <td>48.45</td>\n",
       "      <td>1</td>\n",
       "    </tr>\n",
       "    <tr>\n",
       "      <th>1581</th>\n",
       "      <td>73.10</td>\n",
       "      <td>1</td>\n",
       "    </tr>\n",
       "    <tr>\n",
       "      <th>1582</th>\n",
       "      <td>58.65</td>\n",
       "      <td>1</td>\n",
       "    </tr>\n",
       "    <tr>\n",
       "      <th>1583</th>\n",
       "      <td>82.70</td>\n",
       "      <td>1</td>\n",
       "    </tr>\n",
       "    <tr>\n",
       "      <th>1584</th>\n",
       "      <td>112.35</td>\n",
       "      <td>1</td>\n",
       "    </tr>\n",
       "  </tbody>\n",
       "</table>\n",
       "<p>1585 rows × 2 columns</p>\n",
       "</div>"
      ],
      "text/plain": [
       "      MonthlyCharges  count\n",
       "0              20.05     61\n",
       "1              19.85     45\n",
       "2              19.95     44\n",
       "3              19.90     44\n",
       "4              19.70     43\n",
       "...              ...    ...\n",
       "1580           48.45      1\n",
       "1581           73.10      1\n",
       "1582           58.65      1\n",
       "1583           82.70      1\n",
       "1584          112.35      1\n",
       "\n",
       "[1585 rows x 2 columns]"
      ]
     },
     "execution_count": 70,
     "metadata": {},
     "output_type": "execute_result"
    }
   ],
   "source": [
    "modes"
   ]
  },
  {
   "cell_type": "code",
   "execution_count": 71,
   "metadata": {},
   "outputs": [],
   "source": [
    "import seaborn as sns"
   ]
  },
  {
   "cell_type": "code",
   "execution_count": 72,
   "metadata": {},
   "outputs": [
    {
     "data": {
      "text/plain": [
       "<Axes: xlabel='MonthlyCharges', ylabel='count'>"
      ]
     },
     "execution_count": 72,
     "metadata": {},
     "output_type": "execute_result"
    },
    {
     "data": {
      "image/png": "[encoded data removed]",
      "text/plain": [
       "<Figure size 640x480 with 1 Axes>"
      ]
     },
     "metadata": {},
     "output_type": "display_data"
    }
   ],
   "source": [
    "sns.lineplot(x=\"MonthlyCharges\", y=\"count\", data=modes)"
   ]
  },
  {
   "cell_type": "code",
   "execution_count": 73,
   "metadata": {},
   "outputs": [],
   "source": [
    "# Others ==> Self practice"
   ]
  },
  {
   "cell_type": "markdown",
   "metadata": {},
   "source": [
    "## Data preprocessing"
   ]
  },
  {
   "cell_type": "markdown",
   "metadata": {},
   "source": [
    "#### Listing columns which contain null values"
   ]
  },
  {
   "cell_type": "code",
   "execution_count": 26,
   "metadata": {},
   "outputs": [],
   "source": [
    "from pyspark.sql import functions as F"
   ]
  },
  {
   "cell_type": "code",
   "execution_count": 27,
   "metadata": {},
   "outputs": [
    {
     "data": {
      "text/plain": [
       "{}"
      ]
     },
     "execution_count": 27,
     "metadata": {},
     "output_type": "execute_result"
    }
   ],
   "source": [
    "column_missing_values = {}\n",
    "for c in df.columns:\n",
    "\tnull_count = df.select(c).filter(F.col(c).isNull()).count()\n",
    "\tif null_count > 0:\n",
    "\t\tcolumn_missing_values[c] = null_count\n",
    "\n",
    "column_missing_values"
   ]
  },
  {
   "cell_type": "markdown",
   "metadata": {},
   "source": [
    "### Data Imputation\n",
    "Data imputation is a data preprocessing technique used to replace missing or null values in a dataset with substituted values. This is an essential step in preparing data for analysis or machine learning, as many algorithms cannot handle missing values directly and may produce biased or inaccurate results if they are present.\n",
    "\n",
    "Importance of Data Imputation\n",
    "\n",
    "- Maintaining Data Integrity: Imputation helps ensure that the dataset remains as complete as possible, which is crucial for accurate analysis.\n",
    "- Improving Model Performance: Many machine learning algorithms perform better when trained on complete datasets, as they can learn patterns more effectively without the noise introduced by missing values.\n",
    "- Reducing Bias: Proper imputation can help minimize the bias that missing values might introduce into the analysis or modeling process.\n",
    "\n",
    "Common Imputation Techniques\n",
    "\n",
    "1. Mean Imputation:\n",
    "- Replace missing values with the mean of the available values in the column.\n",
    "- Suitable for normally distributed data.\n",
    "- Example: If a column has values [1, 2, 3, None, 5], the mean (2.75) can be used to replace None.\n",
    "2. Median Imputation:\n",
    "- Replace missing values with the median of the column, which is more robust to outliers.\n",
    "- Example: For the same column, the median would be 2.5, which can be used for imputation.\n",
    "3. Mode Imputation:\n",
    "- Replace missing values with the most frequent value (mode) in the column.\n",
    "Useful for categorical data.\n",
    "- Example: If a column of colors contains [red, blue, None, red], you could replace None with red.\n",
    "4. Forward Fill and Backward Fill:\n",
    "- Forward fill replaces missing values with the last observed non-null value.\n",
    "- Backward fill replaces missing values with the next observed non-null value.\n",
    "- Commonly used in time series data.\n",
    "5. K-Nearest Neighbors (KNN) Imputation:\n",
    "- Uses the values from the nearest neighbors (based on distance metrics) to impute missing values.\n",
    "- Typically more computationally intensive but can be more accurate.\n",
    "6. Regression Imputation:\n",
    "- Predicts and fills in missing values using a regression model based on other available features in the dataset.\n",
    "7. Multiple Imputation:\n",
    "- Involves creating multiple datasets with different imputed values and averaging the results, providing more robust estimates.\n"
   ]
  },
  {
   "cell_type": "markdown",
   "metadata": {},
   "source": [
    "#### Manual imputation\n",
    "Impute the null or NA vales step by step"
   ]
  },
  {
   "cell_type": "code",
   "execution_count": 76,
   "metadata": {},
   "outputs": [],
   "source": [
    "# Input here\n",
    "# measure mean value\n",
    "# fill the null / NA values with the calculate mean"
   ]
  },
  {
   "cell_type": "markdown",
   "metadata": {},
   "source": [
    "#### Using Imputer\n",
    "\n",
    "In data preprocessing, the Imputer in PySpark provides several strategies for handling missing values. These strategies determine how the missing values in a dataset are filled or replaced. Here are the common imputation strategies available in PySpark's Imputer:\n",
    "\n",
    "1. Mean\n",
    "- Description: Replaces missing values with the mean (average) of the non-missing values in the column.\n",
    "- Use Case: Suitable for numerical features that are normally distributed and do not have significant outliers.\n",
    "2. Median\n",
    "- Description: Replaces missing values with the median of the non-missing values in the column.\n",
    "- Use Case: Useful for numerical features, especially when the data contains outliers, as the median is less affected by extreme values than the mean.\n",
    "3. Mode\n",
    "- Description: Replaces missing values with the mode (most frequent value) of the non-missing values in the column.\n",
    "- Use Case: Typically used for categorical features, but can also be applied to numerical features. It is particularly useful when there are repeated values in the dataset.\n",
    "4. Custom Value\n",
    "- Description: Allows you to specify a constant value to replace missing values.\n",
    "- Use Case: Useful when you have domain knowledge about what value should represent the missing entries or when you want to use a specific placeholder."
   ]
  },
  {
   "cell_type": "code",
   "execution_count": 75,
   "metadata": {},
   "outputs": [],
   "source": [
    "from pyspark.ml.feature import Imputer\n",
    "\n",
    "# Create an Imputer\n",
    "imputer = Imputer(inputCols=[\"MonthlyCharges\"], outputCols=[\"MonthlyCharges_imputed\"]).setStrategy(\"mean\")\n",
    "\n",
    "# Fit and transform the DataFrame\n",
    "imputed_df = imputer.fit(df).transform(df)\n",
    "\n",
    "# View the result\n",
    "# df.select(\"MonthlyCharges\").show()"
   ]
  },
  {
   "cell_type": "code",
   "execution_count": 77,
   "metadata": {},
   "outputs": [],
   "source": [
    "# Create an Imputer for mean imputation\n",
    "imputer_mean = Imputer(inputCols=[\"MonthlyCharges\"], outputCols=[\"MonthlyCharges_imputed_mean\"]).setStrategy(\"mean\")\n",
    "imputed_mean_df = imputer_mean.fit(df).transform(df)\n",
    "\n",
    "# Create an Imputer for median imputation\n",
    "imputer_median = Imputer(inputCols=[\"MonthlyCharges\"], outputCols=[\"MonthlyCharges_imputed_median\"]).setStrategy(\"median\")\n",
    "imputed_median_df = imputer_median.fit(df).transform(df)\n",
    "\n",
    "# Create an Imputer for mode imputation (not directly available, so use groupBy for demonstration)\n",
    "mode_value = df.groupBy(\"MonthlyCharges\").count().orderBy(\"count\", ascending=False).first()[0]\n",
    "df_mode_imputed = df.fillna({\"MonthlyCharges\": mode_value})\n",
    "\n",
    "# Create an Imputer for custom value imputation\n",
    "custom_value = -1.0  # Example of a custom value\n",
    "df_custom_imputed = df.fillna({\"MonthlyCharges\": custom_value})"
   ]
  },
  {
   "cell_type": "markdown",
   "metadata": {},
   "source": [
    "#### Homeworks\n",
    "\n",
    "Below are homeworks"
   ]
  },
  {
   "cell_type": "markdown",
   "metadata": {},
   "source": [
    "#### Standardization and Normalization\n",
    "\n",
    "- StandardScaler: Scales features to have zero mean and unit variance (Z-score normalization)."
   ]
  },
  {
   "cell_type": "code",
   "execution_count": 78,
   "metadata": {},
   "outputs": [],
   "source": [
    "# from pyspark.ml.feature import StandardScaler\n",
    "# scaler = StandardScaler(inputCol=\"features\", outputCol=\"scaledFeatures\", withMean=True, withStd=True)"
   ]
  },
  {
   "cell_type": "markdown",
   "metadata": {},
   "source": [
    "- MinMaxScaler: Scales features to a specific range, typically [0, 1]."
   ]
  },
  {
   "cell_type": "code",
   "execution_count": 79,
   "metadata": {},
   "outputs": [],
   "source": [
    "# from pyspark.ml.feature import MinMaxScaler\n",
    "# scaler = MinMaxScaler(inputCol=\"features\", outputCol=\"scaledFeatures\")"
   ]
  },
  {
   "cell_type": "markdown",
   "metadata": {},
   "source": [
    "#### Handling Categorical Variables"
   ]
  },
  {
   "cell_type": "markdown",
   "metadata": {},
   "source": [
    "- StringIndexer: Converts categorical string values into numerical indices."
   ]
  },
  {
   "cell_type": "code",
   "execution_count": null,
   "metadata": {},
   "outputs": [],
   "source": [
    "# from pyspark.ml.feature import StringIndexer\n",
    "# indexer = StringIndexer(inputCol=\"category\", outputCol=\"categoryIndex\")"
   ]
  },
  {
   "cell_type": "markdown",
   "metadata": {},
   "source": [
    "- OneHotEncoder: Converts categorical indices into a one-hot encoded format.\n"
   ]
  },
  {
   "cell_type": "code",
   "execution_count": 80,
   "metadata": {},
   "outputs": [],
   "source": [
    "# from pyspark.ml.feature import OneHotEncoder\n",
    "# encoder = OneHotEncoder(inputCols=[\"categoryIndex\"], outputCols=[\"categoryVec\"])"
   ]
  },
  {
   "cell_type": "markdown",
   "metadata": {},
   "source": [
    "#### Feature Engineering"
   ]
  },
  {
   "cell_type": "markdown",
   "metadata": {},
   "source": [
    "- VectorAssembler: Combines multiple columns into a single vector column, which is essential for ML algorithms in Spark.\n"
   ]
  },
  {
   "cell_type": "code",
   "execution_count": null,
   "metadata": {},
   "outputs": [],
   "source": [
    "# from pyspark.ml.feature import VectorAssembler\n",
    "# assembler = VectorAssembler(inputCols=[\"col1\", \"col2\", \"col3\"], outputCol=\"features\")"
   ]
  },
  {
   "cell_type": "markdown",
   "metadata": {},
   "source": [
    "- Isolation Forest: Although not directly included in Spark MLlib, you can implement outlier detection using libraries like spark-sklearn or by developing custom algorithms.\n"
   ]
  },
  {
   "cell_type": "markdown",
   "metadata": {},
   "source": [
    "#### Text Processing\n",
    "- Tokenization: Splits text into words.\n",
    "- StopWordsRemover: Removes common stop words from text data.\n",
    "- HashingTF / CountVectorizer: Converts text into numerical feature vectors."
   ]
  },
  {
   "cell_type": "markdown",
   "metadata": {},
   "source": [
    "#### Feature Selection\n",
    "- ChiSqSelector: Selects features based on the Chi-squared statistic for categorical features."
   ]
  },
  {
   "cell_type": "code",
   "execution_count": null,
   "metadata": {},
   "outputs": [],
   "source": [
    "# from pyspark.ml.feature import ChiSqSelector\n",
    "# selector = ChiSqSelector(featuresCol=\"features\", labelCol=\"label\", outputCol=\"selectedFeatures\", numTopFeatures=10)"
   ]
  },
  {
   "cell_type": "markdown",
   "metadata": {},
   "source": [
    "#### Outlier Detection\n",
    "Although not directly included in Spark MLlib, you can implement outlier detection using libraries like spark-sklearn or by developing custom algorithms."
   ]
  }
 ],
 "metadata": {
  "kernelspec": {
   "display_name": "Python 3 (ipykernel)",
   "language": "python",
   "name": "python3"
  },
  "language_info": {
   "codemirror_mode": {
    "name": "ipython",
    "version": 3
   },
   "file_extension": ".py",
   "mimetype": "text/x-python",
   "name": "python",
   "nbconvert_exporter": "python",
   "pygments_lexer": "ipython3",
   "version": "3.11.9"
  }
 },
 "nbformat": 4,
 "nbformat_minor": 2
}

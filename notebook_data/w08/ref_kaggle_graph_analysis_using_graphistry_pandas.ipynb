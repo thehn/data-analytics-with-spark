{
 "cells": [
  {
   "cell_type": "markdown",
   "metadata": {
    "execution": {
     "iopub.execute_input": "2022-06-22T06:58:04.399591Z",
     "iopub.status.busy": "2022-06-22T06:58:04.399249Z",
     "iopub.status.idle": "2022-06-22T06:58:04.40571Z",
     "shell.execute_reply": "2022-06-22T06:58:04.404867Z",
     "shell.execute_reply.started": "2022-06-22T06:58:04.399563Z"
    }
   },
   "source": [
    "<p style=\"text-align:center\"><img src=\"https://www.indiantelevision.com/sites/default/files/styles/amp_metadata_content_image_min_696px_wide/public/images/tv-images/2015/10/06/Untitled-1_7.jpg?itok=NoB3o5FU\"></p>"
   ]
  },
  {
   "cell_type": "markdown",
   "metadata": {},
   "source": [
    "          \n",
    "About Newspaper\n",
    "\n",
    "Newspaper can be defined as a printed means of conveying current information. Today the newspaper in India is a proud institution of our society. While working as a vehicle of persuasion its basic function is to provide info-edu-tainment (information, education and entertainment). It also plays the role of ‘watch dog’ of the society.\n",
    "\n",
    "Man is a social animal and every human being has an unquenchable thirst to communicate. Now a day’s man has evolved various systems and technologies for communication. From the development of language and scripts to printing and finally to the world-wide-web of the internet, we have developed an impressive array of communication systems. With the help of these systems only, we are able to send messages instant across vast distances and arouse similar meanings in millions of people simultaneously.  Be it newspapers, magazines, books, radio, television etc.\n",
    "\n",
    "\n",
    "History of Newspaper in India\n",
    "\n",
    "The first newspaper in India was published on 29 January, 1780 by James Augustus Hicky under the British Raj and its name was ‘The Bengal Gazette’. It was also called as ‘Calcutta General Advertiser’ and people simply remember it as ‘Hicky’s Gazette’\n",
    "\n",
    "It was very small two sheet weekly newspaper. And the paper was filled with lots of advertisements with the name- The Calcutta General Advertiser. In fact, its front page was filled with advertisements only.\n",
    "After few months of Hicky’s paper Messer B Messinck and Peter Read brought out the ‘Indian Gazette’ in November 1780. Many other newspapers were also started, namely Calcutta Gazette (1784), The Bengal Journal (1785).\n",
    "In 1785, Richard Johnson in Madras brought out ‘Madras Courier’ in English language. R. William’s ‘Madras Gazette’ in 1795 and Humphrey’s ‘India Herald’ in 1796......"
   ]
  },
  {
   "cell_type": "markdown",
   "metadata": {},
   "source": [
    "Objective: Our Main aim is to demonstrate and analyize the dataset with the help of pandas and  Graphistry."
   ]
  },
  {
   "cell_type": "markdown",
   "metadata": {},
   "source": [
    "About Graphistry\n",
    "\n",
    "Graphistry brings visual graph intelligence to your big or complex data. It automatically transforms your data into interactive, visual maps built for the needs of analysts. Quickly surface relationships between events and entities with less time writing queries or wrangling data.\n",
    "\n",
    "What's the hype about it\n",
    "\n",
    "Connect and automatically query across Splunk, Elasticsearch, Spark, CSVs, and more… and use them all together!\n",
    "Visually pivot through multiple data sources with GPU-accelerated visual graph analytics. Share your auto-tracked workbook when you're done.\n",
    "For recurring or tricky workflows, automate the gathering of data, correlating & analyzing, actions, and then embed it all in your existing dashboards and tools\n",
    "\n",
    "for more information visit the discussion:https://www.kaggle.com/discussions/general/332674\n"
   ]
  },
  {
   "cell_type": "markdown",
   "metadata": {},
   "source": [
    "### Preparation of Dataset & Installation of Packages"
   ]
  },
  {
   "cell_type": "code",
   "execution_count": 25,
   "metadata": {
    "_cell_guid": "b1076dfc-b9ad-4769-8c92-a6c4dae69d19",
    "_uuid": "8f2839f25d086af736a60e9eeb907d3b93b6e0e5",
    "execution": {
     "iopub.execute_input": "2022-07-16T14:35:37.787328Z",
     "iopub.status.busy": "2022-07-16T14:35:37.786670Z",
     "iopub.status.idle": "2022-07-16T14:35:37.799399Z",
     "shell.execute_reply": "2022-07-16T14:35:37.797711Z",
     "shell.execute_reply.started": "2022-07-16T14:35:37.787283Z"
    },
    "trusted": true
   },
   "outputs": [
    {
     "name": "stdout",
     "output_type": "stream",
     "text": [
      "/kaggle/input/indian-newspapers-their-circulation/IndianNewsPaper.csv\n"
     ]
    }
   ],
   "source": [
    "import numpy as np # linear algebra\n",
    "import pandas as pd # data processing, CSV file I/O (e.g. pd.read_csv)\n",
    "\n",
    "import os\n",
    "for dirname, _, filenames in os.walk('/kaggle/input'):\n",
    "    for filename in filenames:\n",
    "        print(os.path.join(dirname, filename))"
   ]
  },
  {
   "cell_type": "markdown",
   "metadata": {},
   "source": [
    "#### Install the Graphistry/Pygraphistry Library to Visualize the database"
   ]
  },
  {
   "cell_type": "code",
   "execution_count": 26,
   "metadata": {
    "execution": {
     "iopub.execute_input": "2022-07-16T14:35:37.803805Z",
     "iopub.status.busy": "2022-07-16T14:35:37.802589Z",
     "iopub.status.idle": "2022-07-16T14:35:50.407906Z",
     "shell.execute_reply": "2022-07-16T14:35:50.406558Z",
     "shell.execute_reply.started": "2022-07-16T14:35:37.803744Z"
    },
    "jupyter": {
     "source_hidden": true
    },
    "trusted": true
   },
   "outputs": [
    {
     "name": "stdout",
     "output_type": "stream",
     "text": [
      "Requirement already satisfied: graphistry in /opt/conda/lib/python3.7/site-packages (0.26.1)\n",
      "Requirement already satisfied: pyarrow>=0.15.0 in /opt/conda/lib/python3.7/site-packages (from graphistry) (5.0.0)\n",
      "Requirement already satisfied: requests in /opt/conda/lib/python3.7/site-packages (from graphistry) (2.27.1)\n",
      "Requirement already satisfied: pandas>=0.17.0 in /opt/conda/lib/python3.7/site-packages (from graphistry) (1.3.5)\n",
      "Requirement already satisfied: numpy in /opt/conda/lib/python3.7/site-packages (from graphistry) (1.21.6)\n",
      "Requirement already satisfied: packaging>=20.1 in /opt/conda/lib/python3.7/site-packages (from graphistry) (21.3)\n",
      "Requirement already satisfied: typing-extensions in /opt/conda/lib/python3.7/site-packages (from graphistry) (4.1.1)\n",
      "Requirement already satisfied: pyparsing!=3.0.5,>=2.0.2 in /opt/conda/lib/python3.7/site-packages (from packaging>=20.1->graphistry) (3.0.9)\n",
      "Requirement already satisfied: python-dateutil>=2.7.3 in /opt/conda/lib/python3.7/site-packages (from pandas>=0.17.0->graphistry) (2.8.2)\n",
      "Requirement already satisfied: pytz>=2017.3 in /opt/conda/lib/python3.7/site-packages (from pandas>=0.17.0->graphistry) (2022.1)\n",
      "Requirement already satisfied: charset-normalizer~=2.0.0 in /opt/conda/lib/python3.7/site-packages (from requests->graphistry) (2.0.12)\n",
      "Requirement already satisfied: certifi>=2017.4.17 in /opt/conda/lib/python3.7/site-packages (from requests->graphistry) (2022.6.15)\n",
      "Requirement already satisfied: urllib3<1.27,>=1.21.1 in /opt/conda/lib/python3.7/site-packages (from requests->graphistry) (1.26.9)\n",
      "Requirement already satisfied: idna<4,>=2.5 in /opt/conda/lib/python3.7/site-packages (from requests->graphistry) (3.3)\n",
      "Requirement already satisfied: six>=1.5 in /opt/conda/lib/python3.7/site-packages (from python-dateutil>=2.7.3->pandas>=0.17.0->graphistry) (1.16.0)\n",
      "\u001b[33mWARNING: Running pip as the 'root' user can result in broken permissions and conflicting behaviour with the system package manager. It is recommended to use a virtual environment instead: https://pip.pypa.io/warnings/venv\u001b[0m\u001b[33m\n",
      "\u001b[0mNote: you may need to restart the kernel to use updated packages.\n"
     ]
    }
   ],
   "source": [
    "pip install graphistry"
   ]
  },
  {
   "cell_type": "markdown",
   "metadata": {},
   "source": [
    "Installing the version of graphistry & Check its edition number"
   ]
  },
  {
   "cell_type": "code",
   "execution_count": 27,
   "metadata": {
    "execution": {
     "iopub.execute_input": "2022-07-16T14:35:50.410989Z",
     "iopub.status.busy": "2022-07-16T14:35:50.410700Z",
     "iopub.status.idle": "2022-07-16T14:35:51.213480Z",
     "shell.execute_reply": "2022-07-16T14:35:51.212059Z",
     "shell.execute_reply.started": "2022-07-16T14:35:50.410957Z"
    },
    "trusted": true
   },
   "outputs": [
    {
     "name": "stdout",
     "output_type": "stream",
     "text": [
      "0.26.1\n"
     ]
    }
   ],
   "source": [
    "import graphistry\n",
    "print(graphistry.__version__)\n",
    "\n",
    "graphistry.register(api=3, protocol=\"https\", server=\"hub.graphistry.com\",username=\"ram\",password=\"81234\") #I encrypted the password and username.make your own."
   ]
  },
  {
   "cell_type": "markdown",
   "metadata": {},
   "source": [
    "Check the Database using Pandas"
   ]
  },
  {
   "cell_type": "code",
   "execution_count": 28,
   "metadata": {
    "execution": {
     "iopub.execute_input": "2022-07-16T14:35:51.215999Z",
     "iopub.status.busy": "2022-07-16T14:35:51.215514Z",
     "iopub.status.idle": "2022-07-16T14:35:51.248816Z",
     "shell.execute_reply": "2022-07-16T14:35:51.247468Z",
     "shell.execute_reply.started": "2022-07-16T14:35:51.215935Z"
    },
    "jupyter": {
     "source_hidden": true
    },
    "trusted": true
   },
   "outputs": [
    {
     "data": {
      "text/html": [
       "<div>\n",
       "<style scoped>\n",
       "    .dataframe tbody tr th:only-of-type {\n",
       "        vertical-align: middle;\n",
       "    }\n",
       "\n",
       "    .dataframe tbody tr th {\n",
       "        vertical-align: top;\n",
       "    }\n",
       "\n",
       "    .dataframe thead th {\n",
       "        text-align: right;\n",
       "    }\n",
       "</style>\n",
       "<table border=\"1\" class=\"dataframe\">\n",
       "  <thead>\n",
       "    <tr style=\"text-align: right;\">\n",
       "      <th></th>\n",
       "      <th>Name</th>\n",
       "      <th>Language of publication</th>\n",
       "      <th>Interval of publication</th>\n",
       "      <th>Format</th>\n",
       "      <th>Location</th>\n",
       "      <th>Founded</th>\n",
       "      <th>Circulation (approx.)</th>\n",
       "    </tr>\n",
       "  </thead>\n",
       "  <tbody>\n",
       "    <tr>\n",
       "      <th>0</th>\n",
       "      <td>Amar Ujala</td>\n",
       "      <td>Hindi</td>\n",
       "      <td>Daily</td>\n",
       "      <td>Broadsheet</td>\n",
       "      <td>New Delhi, Chandigarh, Punjab, Haryana, Himach...</td>\n",
       "      <td>1948.0</td>\n",
       "      <td>2,610,000[7]</td>\n",
       "    </tr>\n",
       "    <tr>\n",
       "      <th>1</th>\n",
       "      <td>Greater Kashmir</td>\n",
       "      <td>English</td>\n",
       "      <td>Daily</td>\n",
       "      <td>NaN</td>\n",
       "      <td>Kashmir , Jammu</td>\n",
       "      <td>1987.0</td>\n",
       "      <td>1,000,000+</td>\n",
       "    </tr>\n",
       "    <tr>\n",
       "      <th>2</th>\n",
       "      <td>Dainik Jagran</td>\n",
       "      <td>Hindi</td>\n",
       "      <td>Daily</td>\n",
       "      <td>Broadsheet</td>\n",
       "      <td>Kanpur, Lucknow, Gorakhpur, Jhansi, Raebareli,...</td>\n",
       "      <td>1942.0</td>\n",
       "      <td>4,140,000[7]</td>\n",
       "    </tr>\n",
       "    <tr>\n",
       "      <th>3</th>\n",
       "      <td>Dainik Navajyoti</td>\n",
       "      <td>Hindi</td>\n",
       "      <td>Daily</td>\n",
       "      <td>Broadsheet</td>\n",
       "      <td>Jaipur, Ajmer, Jodhpur, Kota, Udaipur</td>\n",
       "      <td>1936.0</td>\n",
       "      <td>NaN</td>\n",
       "    </tr>\n",
       "    <tr>\n",
       "      <th>4</th>\n",
       "      <td>Hari Bhoomi</td>\n",
       "      <td>Hindi</td>\n",
       "      <td>Daily</td>\n",
       "      <td>Broadsheet</td>\n",
       "      <td>Rohtak, Bilaspur, Raipur, Raigarh, Jabalpur, D...</td>\n",
       "      <td>1996.0</td>\n",
       "      <td>380,000</td>\n",
       "    </tr>\n",
       "    <tr>\n",
       "      <th>...</th>\n",
       "      <td>...</td>\n",
       "      <td>...</td>\n",
       "      <td>...</td>\n",
       "      <td>...</td>\n",
       "      <td>...</td>\n",
       "      <td>...</td>\n",
       "      <td>...</td>\n",
       "    </tr>\n",
       "    <tr>\n",
       "      <th>186</th>\n",
       "      <td>Sanmarg</td>\n",
       "      <td>Hindi</td>\n",
       "      <td>Daily</td>\n",
       "      <td>NaN</td>\n",
       "      <td>Calcutta, Burdwan, Ranchi, and Bhubaneshwar</td>\n",
       "      <td>NaN</td>\n",
       "      <td>NaN</td>\n",
       "    </tr>\n",
       "    <tr>\n",
       "      <th>187</th>\n",
       "      <td>Organiser</td>\n",
       "      <td>English</td>\n",
       "      <td>Weekly</td>\n",
       "      <td>NaN</td>\n",
       "      <td>New Delhi</td>\n",
       "      <td>1951.0</td>\n",
       "      <td>NaN</td>\n",
       "    </tr>\n",
       "    <tr>\n",
       "      <th>188</th>\n",
       "      <td>Panchjanya</td>\n",
       "      <td>Hindi</td>\n",
       "      <td>Weekly</td>\n",
       "      <td>NaN</td>\n",
       "      <td>New Delhi</td>\n",
       "      <td>1948.0</td>\n",
       "      <td>NaN</td>\n",
       "    </tr>\n",
       "    <tr>\n",
       "      <th>189</th>\n",
       "      <td>Rising Kashmir</td>\n",
       "      <td>English</td>\n",
       "      <td>Daily</td>\n",
       "      <td>NaN</td>\n",
       "      <td>Srinagar, Jammu and Kashmir</td>\n",
       "      <td>2008.0</td>\n",
       "      <td>NaN</td>\n",
       "    </tr>\n",
       "    <tr>\n",
       "      <th>190</th>\n",
       "      <td>Himachal Crime News</td>\n",
       "      <td>Hindi</td>\n",
       "      <td>Weekly</td>\n",
       "      <td>Tabloid cum Broadsheet</td>\n",
       "      <td>Himachal Pradesh (Nadaun, Hamirpur, Shimla, Dh...</td>\n",
       "      <td>2.0</td>\n",
       "      <td>7,500 copies per week</td>\n",
       "    </tr>\n",
       "  </tbody>\n",
       "</table>\n",
       "<p>191 rows × 7 columns</p>\n",
       "</div>"
      ],
      "text/plain": [
       "                    Name Language of publication Interval of publication  \\\n",
       "0             Amar Ujala                   Hindi                   Daily   \n",
       "1        Greater Kashmir                 English                   Daily   \n",
       "2          Dainik Jagran                   Hindi                   Daily   \n",
       "3       Dainik Navajyoti                   Hindi                   Daily   \n",
       "4            Hari Bhoomi                   Hindi                   Daily   \n",
       "..                   ...                     ...                     ...   \n",
       "186              Sanmarg                   Hindi                   Daily   \n",
       "187            Organiser                 English                  Weekly   \n",
       "188           Panchjanya                   Hindi                  Weekly   \n",
       "189       Rising Kashmir                 English                   Daily   \n",
       "190  Himachal Crime News                   Hindi                  Weekly   \n",
       "\n",
       "                     Format  \\\n",
       "0                Broadsheet   \n",
       "1                       NaN   \n",
       "2                Broadsheet   \n",
       "3                Broadsheet   \n",
       "4                Broadsheet   \n",
       "..                      ...   \n",
       "186                     NaN   \n",
       "187                     NaN   \n",
       "188                     NaN   \n",
       "189                     NaN   \n",
       "190  Tabloid cum Broadsheet   \n",
       "\n",
       "                                              Location  Founded  \\\n",
       "0    New Delhi, Chandigarh, Punjab, Haryana, Himach...   1948.0   \n",
       "1                                      Kashmir , Jammu   1987.0   \n",
       "2    Kanpur, Lucknow, Gorakhpur, Jhansi, Raebareli,...   1942.0   \n",
       "3                Jaipur, Ajmer, Jodhpur, Kota, Udaipur   1936.0   \n",
       "4    Rohtak, Bilaspur, Raipur, Raigarh, Jabalpur, D...   1996.0   \n",
       "..                                                 ...      ...   \n",
       "186        Calcutta, Burdwan, Ranchi, and Bhubaneshwar      NaN   \n",
       "187                                          New Delhi   1951.0   \n",
       "188                                          New Delhi   1948.0   \n",
       "189                        Srinagar, Jammu and Kashmir   2008.0   \n",
       "190  Himachal Pradesh (Nadaun, Hamirpur, Shimla, Dh...      2.0   \n",
       "\n",
       "     Circulation (approx.)  \n",
       "0             2,610,000[7]  \n",
       "1               1,000,000+  \n",
       "2             4,140,000[7]  \n",
       "3                      NaN  \n",
       "4                  380,000  \n",
       "..                     ...  \n",
       "186                    NaN  \n",
       "187                    NaN  \n",
       "188                    NaN  \n",
       "189                    NaN  \n",
       "190  7,500 copies per week  \n",
       "\n",
       "[191 rows x 7 columns]"
      ]
     },
     "execution_count": 28,
     "metadata": {},
     "output_type": "execute_result"
    }
   ],
   "source": [
    "import pandas as pd\n",
    "df = pd.read_csv(\"../input/indian-newspapers-their-circulation/IndianNewsPaper.csv\")\n",
    "df"
   ]
  },
  {
   "cell_type": "markdown",
   "metadata": {},
   "source": [
    "### Let do some Data cleaning & Data wrangling"
   ]
  },
  {
   "cell_type": "code",
   "execution_count": 29,
   "metadata": {
    "execution": {
     "iopub.execute_input": "2022-07-16T14:35:51.253018Z",
     "iopub.status.busy": "2022-07-16T14:35:51.252464Z",
     "iopub.status.idle": "2022-07-16T14:35:51.262035Z",
     "shell.execute_reply": "2022-07-16T14:35:51.260367Z",
     "shell.execute_reply.started": "2022-07-16T14:35:51.252976Z"
    },
    "jupyter": {
     "source_hidden": true
    },
    "trusted": true
   },
   "outputs": [
    {
     "data": {
      "text/plain": [
       "array(['2,610,000[7]', '1,000,000+', '4,140,000[7]', nan, '380,000',\n",
       "       '1,830,000', '1,46,264', '103,000', '1,170,000[7]', '1,010,000[7]',\n",
       "       '43,000', '185,000', '150,000[8]', '724,598', '1,400,000[7]',\n",
       "       '1,000,000[7]', '309,252', '167800', '230,000', '750,000+',\n",
       "       '2,830,000[7]', '94,000', '195,678', '80,000', '1,600,000+[7]',\n",
       "       '622,907 (as of Jul - Dec 2015)', '4,320,000[7]', '729,000',\n",
       "       'Now disbanded', '529,000', '820,000', '625,000', '12,000',\n",
       "       '760,000[7]', '45,000 (as of 2013[update])', '950,000', '850,000',\n",
       "       '800,000', '15,000', '920,000', '2,370,000[7]', '1,360,000[7]',\n",
       "       '780,000', '1,300,000', '250,422 (Dec 2009)', '850,000[7]',\n",
       "       '1,530,000[7]', '664,352[9]', '1,614,105[10]', '1,064,661[11]',\n",
       "       '2,000', '7,500 copies per week'], dtype=object)"
      ]
     },
     "execution_count": 29,
     "metadata": {},
     "output_type": "execute_result"
    }
   ],
   "source": [
    "df['Circulation (approx.)'].unique()"
   ]
  },
  {
   "cell_type": "code",
   "execution_count": 30,
   "metadata": {
    "execution": {
     "iopub.execute_input": "2022-07-16T14:35:51.265580Z",
     "iopub.status.busy": "2022-07-16T14:35:51.264532Z",
     "iopub.status.idle": "2022-07-16T14:35:51.282953Z",
     "shell.execute_reply": "2022-07-16T14:35:51.281328Z",
     "shell.execute_reply.started": "2022-07-16T14:35:51.265437Z"
    },
    "jupyter": {
     "source_hidden": true
    },
    "trusted": true
   },
   "outputs": [],
   "source": [
    "a_list=list(df['Circulation (approx.)'])\n",
    "def replace_values(list_to_replace, item_to_replace, item_to_replace_with):\n",
    "    return [item_to_replace_with if item == item_to_replace else item for item in list_to_replace]\n",
    "replaced_list = replace_values(a_list, '2,610,000[7]', '2,610,000')\n",
    "replaced_list = replace_values(replaced_list, '1,000,000+', '1,000,000')\n",
    "replaced_list = replace_values(replaced_list, '1,170,000[7]', '1,170,000')\n",
    "replaced_list = replace_values(replaced_list, '4,140,000[7]', '4,140,000')\n",
    "replaced_list = replace_values(replaced_list, '1,010,000[7]', '1,010,000')\n",
    "replaced_list = replace_values(replaced_list, '150,000[8]' , '150,000')\n",
    "replaced_list = replace_values(replaced_list, '1,400,000[7]', '1,400,000')\n",
    "replaced_list = replace_values(replaced_list, '1,000,000[7]', \"1,000,000\")\n",
    "replaced_list = replace_values(replaced_list, \"750,000+\", '750,000')\n",
    "replaced_list = replace_values(replaced_list, '2,830,000[7]', '2,830,000')\n",
    "replaced_list = replace_values(replaced_list, '1,600,000+[7]', '1,600,000')\n",
    "replaced_list = replace_values(replaced_list, '622,907 (as of Jul - Dec 2015)', eval('622907 * 2'))\n",
    "replaced_list = replace_values(replaced_list, '4,320,000[7]', \"4,320,000\")\n",
    "replaced_list = replace_values(replaced_list, 'Now disbanded', \"0\")\n",
    "replaced_list = replace_values(replaced_list, '760,000[7]', '760,000')\n",
    "replaced_list = replace_values(replaced_list, '45,000 (as of 2013[update])', \"45,000\")\n",
    "replaced_list = replace_values(replaced_list, '2,370,000[7]', \"2,370,000\")\n",
    "replaced_list = replace_values(replaced_list, '1,360,000[7]', '1,360,000')\n",
    "replaced_list = replace_values(replaced_list, '250,422 (Dec 2009)', '250,422' )\n",
    "replaced_list = replace_values(replaced_list, '850,000[7]', '850,000')\n",
    "replaced_list = replace_values(replaced_list, '1,530,000[7]', '1,530,000')\n",
    "replaced_list = replace_values(replaced_list, '664,352[9]', '664,352')\n",
    "replaced_list = replace_values(replaced_list, '1,614,105[10]', '1,614,105')\n",
    "replaced_list = replace_values(replaced_list, '1,064,661[11]', '1,064,661')\n",
    "replaced_list = replace_values(replaced_list, '7,500 copies per week', eval('7500*53'))"
   ]
  },
  {
   "cell_type": "code",
   "execution_count": 31,
   "metadata": {
    "execution": {
     "iopub.execute_input": "2022-07-16T14:35:51.285868Z",
     "iopub.status.busy": "2022-07-16T14:35:51.284579Z",
     "iopub.status.idle": "2022-07-16T14:35:51.301819Z",
     "shell.execute_reply": "2022-07-16T14:35:51.300425Z",
     "shell.execute_reply.started": "2022-07-16T14:35:51.285825Z"
    },
    "trusted": true
   },
   "outputs": [],
   "source": [
    "df['Circulation (approx.)']=replaced_list\n",
    "df['Circulation (approx.)'] = df['Circulation (approx.)'].replace(np.nan, 0)\n",
    "df[\"Circulation (approx.)\"]=df[\"Circulation (approx.)\"].astype('string')\n",
    "df[\"Circulation (approx.)\"]=[int(i.replace(\",\",\"\")) for i in df[\"Circulation (approx.)\"]]"
   ]
  },
  {
   "cell_type": "markdown",
   "metadata": {},
   "source": [
    "Check the shape of dataframe and datatype of each column"
   ]
  },
  {
   "cell_type": "code",
   "execution_count": 32,
   "metadata": {
    "execution": {
     "iopub.execute_input": "2022-07-16T14:35:51.305294Z",
     "iopub.status.busy": "2022-07-16T14:35:51.303482Z",
     "iopub.status.idle": "2022-07-16T14:35:51.317014Z",
     "shell.execute_reply": "2022-07-16T14:35:51.315494Z",
     "shell.execute_reply.started": "2022-07-16T14:35:51.305246Z"
    },
    "jupyter": {
     "source_hidden": true
    },
    "trusted": true
   },
   "outputs": [
    {
     "name": "stdout",
     "output_type": "stream",
     "text": [
      "the shape of database is : (191, 7)\n",
      "the shape of database is : Name                        object\n",
      "Language of publication     object\n",
      "Interval of publication     object\n",
      "Format                      object\n",
      "Location                    object\n",
      "Founded                    float64\n",
      "Circulation (approx.)        int64\n",
      "dtype: object\n"
     ]
    }
   ],
   "source": [
    "print(\"the shape of database is :\",df.shape)\n",
    "print(\"the shape of database is :\",df.dtypes)"
   ]
  },
  {
   "cell_type": "code",
   "execution_count": 33,
   "metadata": {
    "execution": {
     "iopub.execute_input": "2022-07-16T14:35:51.320370Z",
     "iopub.status.busy": "2022-07-16T14:35:51.319316Z",
     "iopub.status.idle": "2022-07-16T14:35:51.352624Z",
     "shell.execute_reply": "2022-07-16T14:35:51.351414Z",
     "shell.execute_reply.started": "2022-07-16T14:35:51.320324Z"
    },
    "trusted": true
   },
   "outputs": [
    {
     "data": {
      "text/html": [
       "<div>\n",
       "<style scoped>\n",
       "    .dataframe tbody tr th:only-of-type {\n",
       "        vertical-align: middle;\n",
       "    }\n",
       "\n",
       "    .dataframe tbody tr th {\n",
       "        vertical-align: top;\n",
       "    }\n",
       "\n",
       "    .dataframe thead th {\n",
       "        text-align: right;\n",
       "    }\n",
       "</style>\n",
       "<table border=\"1\" class=\"dataframe\">\n",
       "  <thead>\n",
       "    <tr style=\"text-align: right;\">\n",
       "      <th></th>\n",
       "      <th>Name</th>\n",
       "      <th>Language of publication</th>\n",
       "      <th>Interval of publication</th>\n",
       "      <th>Format</th>\n",
       "      <th>Location</th>\n",
       "      <th>Founded</th>\n",
       "      <th>Circulation (approx.)</th>\n",
       "      <th>names</th>\n",
       "    </tr>\n",
       "  </thead>\n",
       "  <tbody>\n",
       "    <tr>\n",
       "      <th>0</th>\n",
       "      <td>Amar Ujala</td>\n",
       "      <td>Hindi</td>\n",
       "      <td>Daily</td>\n",
       "      <td>Broadsheet</td>\n",
       "      <td>New Delhi, Chandigarh, Punjab, Haryana, Himach...</td>\n",
       "      <td>1948.0</td>\n",
       "      <td>2610000</td>\n",
       "      <td>[New Delhi,  Chandigarh,  Punjab,  Haryana,  H...</td>\n",
       "    </tr>\n",
       "    <tr>\n",
       "      <th>1</th>\n",
       "      <td>Greater Kashmir</td>\n",
       "      <td>English</td>\n",
       "      <td>Daily</td>\n",
       "      <td>NaN</td>\n",
       "      <td>Kashmir , Jammu</td>\n",
       "      <td>1987.0</td>\n",
       "      <td>1000000</td>\n",
       "      <td>[Kashmir ,  Jammu]</td>\n",
       "    </tr>\n",
       "    <tr>\n",
       "      <th>2</th>\n",
       "      <td>Dainik Jagran</td>\n",
       "      <td>Hindi</td>\n",
       "      <td>Daily</td>\n",
       "      <td>Broadsheet</td>\n",
       "      <td>Kanpur, Lucknow, Gorakhpur, Jhansi, Raebareli,...</td>\n",
       "      <td>1942.0</td>\n",
       "      <td>4140000</td>\n",
       "      <td>[Kanpur,  Lucknow,  Gorakhpur,  Jhansi,  Raeba...</td>\n",
       "    </tr>\n",
       "    <tr>\n",
       "      <th>3</th>\n",
       "      <td>Dainik Navajyoti</td>\n",
       "      <td>Hindi</td>\n",
       "      <td>Daily</td>\n",
       "      <td>Broadsheet</td>\n",
       "      <td>Jaipur, Ajmer, Jodhpur, Kota, Udaipur</td>\n",
       "      <td>1936.0</td>\n",
       "      <td>0</td>\n",
       "      <td>[Jaipur,  Ajmer,  Jodhpur,  Kota,  Udaipur]</td>\n",
       "    </tr>\n",
       "    <tr>\n",
       "      <th>4</th>\n",
       "      <td>Hari Bhoomi</td>\n",
       "      <td>Hindi</td>\n",
       "      <td>Daily</td>\n",
       "      <td>Broadsheet</td>\n",
       "      <td>Rohtak, Bilaspur, Raipur, Raigarh, Jabalpur, D...</td>\n",
       "      <td>1996.0</td>\n",
       "      <td>380000</td>\n",
       "      <td>[Rohtak,  Bilaspur,  Raipur,  Raigarh,  Jabalp...</td>\n",
       "    </tr>\n",
       "    <tr>\n",
       "      <th>...</th>\n",
       "      <td>...</td>\n",
       "      <td>...</td>\n",
       "      <td>...</td>\n",
       "      <td>...</td>\n",
       "      <td>...</td>\n",
       "      <td>...</td>\n",
       "      <td>...</td>\n",
       "      <td>...</td>\n",
       "    </tr>\n",
       "    <tr>\n",
       "      <th>186</th>\n",
       "      <td>Sanmarg</td>\n",
       "      <td>Hindi</td>\n",
       "      <td>Daily</td>\n",
       "      <td>NaN</td>\n",
       "      <td>Calcutta, Burdwan, Ranchi, and Bhubaneshwar</td>\n",
       "      <td>NaN</td>\n",
       "      <td>0</td>\n",
       "      <td>[Calcutta,  Burdwan,  Ranchi,  and Bhubaneshwar]</td>\n",
       "    </tr>\n",
       "    <tr>\n",
       "      <th>187</th>\n",
       "      <td>Organiser</td>\n",
       "      <td>English</td>\n",
       "      <td>Weekly</td>\n",
       "      <td>NaN</td>\n",
       "      <td>New Delhi</td>\n",
       "      <td>1951.0</td>\n",
       "      <td>0</td>\n",
       "      <td>[New Delhi]</td>\n",
       "    </tr>\n",
       "    <tr>\n",
       "      <th>188</th>\n",
       "      <td>Panchjanya</td>\n",
       "      <td>Hindi</td>\n",
       "      <td>Weekly</td>\n",
       "      <td>NaN</td>\n",
       "      <td>New Delhi</td>\n",
       "      <td>1948.0</td>\n",
       "      <td>0</td>\n",
       "      <td>[New Delhi]</td>\n",
       "    </tr>\n",
       "    <tr>\n",
       "      <th>189</th>\n",
       "      <td>Rising Kashmir</td>\n",
       "      <td>English</td>\n",
       "      <td>Daily</td>\n",
       "      <td>NaN</td>\n",
       "      <td>Srinagar, Jammu and Kashmir</td>\n",
       "      <td>2008.0</td>\n",
       "      <td>0</td>\n",
       "      <td>[Srinagar,  Jammu and Kashmir]</td>\n",
       "    </tr>\n",
       "    <tr>\n",
       "      <th>190</th>\n",
       "      <td>Himachal Crime News</td>\n",
       "      <td>Hindi</td>\n",
       "      <td>Weekly</td>\n",
       "      <td>Tabloid cum Broadsheet</td>\n",
       "      <td>Himachal Pradesh (Nadaun, Hamirpur, Shimla, Dh...</td>\n",
       "      <td>2.0</td>\n",
       "      <td>397500</td>\n",
       "      <td>[Himachal Pradesh (Nadaun,  Hamirpur,  Shimla,...</td>\n",
       "    </tr>\n",
       "  </tbody>\n",
       "</table>\n",
       "<p>191 rows × 8 columns</p>\n",
       "</div>"
      ],
      "text/plain": [
       "                    Name Language of publication Interval of publication  \\\n",
       "0             Amar Ujala                   Hindi                   Daily   \n",
       "1        Greater Kashmir                 English                   Daily   \n",
       "2          Dainik Jagran                   Hindi                   Daily   \n",
       "3       Dainik Navajyoti                   Hindi                   Daily   \n",
       "4            Hari Bhoomi                   Hindi                   Daily   \n",
       "..                   ...                     ...                     ...   \n",
       "186              Sanmarg                   Hindi                   Daily   \n",
       "187            Organiser                 English                  Weekly   \n",
       "188           Panchjanya                   Hindi                  Weekly   \n",
       "189       Rising Kashmir                 English                   Daily   \n",
       "190  Himachal Crime News                   Hindi                  Weekly   \n",
       "\n",
       "                     Format  \\\n",
       "0                Broadsheet   \n",
       "1                       NaN   \n",
       "2                Broadsheet   \n",
       "3                Broadsheet   \n",
       "4                Broadsheet   \n",
       "..                      ...   \n",
       "186                     NaN   \n",
       "187                     NaN   \n",
       "188                     NaN   \n",
       "189                     NaN   \n",
       "190  Tabloid cum Broadsheet   \n",
       "\n",
       "                                              Location  Founded  \\\n",
       "0    New Delhi, Chandigarh, Punjab, Haryana, Himach...   1948.0   \n",
       "1                                      Kashmir , Jammu   1987.0   \n",
       "2    Kanpur, Lucknow, Gorakhpur, Jhansi, Raebareli,...   1942.0   \n",
       "3                Jaipur, Ajmer, Jodhpur, Kota, Udaipur   1936.0   \n",
       "4    Rohtak, Bilaspur, Raipur, Raigarh, Jabalpur, D...   1996.0   \n",
       "..                                                 ...      ...   \n",
       "186        Calcutta, Burdwan, Ranchi, and Bhubaneshwar      NaN   \n",
       "187                                          New Delhi   1951.0   \n",
       "188                                          New Delhi   1948.0   \n",
       "189                        Srinagar, Jammu and Kashmir   2008.0   \n",
       "190  Himachal Pradesh (Nadaun, Hamirpur, Shimla, Dh...      2.0   \n",
       "\n",
       "     Circulation (approx.)                                              names  \n",
       "0                  2610000  [New Delhi,  Chandigarh,  Punjab,  Haryana,  H...  \n",
       "1                  1000000                                 [Kashmir ,  Jammu]  \n",
       "2                  4140000  [Kanpur,  Lucknow,  Gorakhpur,  Jhansi,  Raeba...  \n",
       "3                        0        [Jaipur,  Ajmer,  Jodhpur,  Kota,  Udaipur]  \n",
       "4                   380000  [Rohtak,  Bilaspur,  Raipur,  Raigarh,  Jabalp...  \n",
       "..                     ...                                                ...  \n",
       "186                      0   [Calcutta,  Burdwan,  Ranchi,  and Bhubaneshwar]  \n",
       "187                      0                                        [New Delhi]  \n",
       "188                      0                                        [New Delhi]  \n",
       "189                      0                     [Srinagar,  Jammu and Kashmir]  \n",
       "190                 397500  [Himachal Pradesh (Nadaun,  Hamirpur,  Shimla,...  \n",
       "\n",
       "[191 rows x 8 columns]"
      ]
     },
     "execution_count": 33,
     "metadata": {},
     "output_type": "execute_result"
    }
   ],
   "source": [
    "df_melt = df.assign(names=df.Location.str.split(\",\"));df_melt"
   ]
  },
  {
   "cell_type": "markdown",
   "metadata": {},
   "source": [
    "Final preparation of Dataset"
   ]
  },
  {
   "cell_type": "code",
   "execution_count": 34,
   "metadata": {
    "execution": {
     "iopub.execute_input": "2022-07-16T14:35:51.355277Z",
     "iopub.status.busy": "2022-07-16T14:35:51.354356Z",
     "iopub.status.idle": "2022-07-16T14:35:51.388843Z",
     "shell.execute_reply": "2022-07-16T14:35:51.387510Z",
     "shell.execute_reply.started": "2022-07-16T14:35:51.355234Z"
    },
    "trusted": true
   },
   "outputs": [
    {
     "data": {
      "text/html": [
       "<div>\n",
       "<style scoped>\n",
       "    .dataframe tbody tr th:only-of-type {\n",
       "        vertical-align: middle;\n",
       "    }\n",
       "\n",
       "    .dataframe tbody tr th {\n",
       "        vertical-align: top;\n",
       "    }\n",
       "\n",
       "    .dataframe thead th {\n",
       "        text-align: right;\n",
       "    }\n",
       "</style>\n",
       "<table border=\"1\" class=\"dataframe\">\n",
       "  <thead>\n",
       "    <tr style=\"text-align: right;\">\n",
       "      <th></th>\n",
       "      <th>Name</th>\n",
       "      <th>Language of publication</th>\n",
       "      <th>Interval of publication</th>\n",
       "      <th>Format</th>\n",
       "      <th>Founded</th>\n",
       "      <th>Circulation (approx.)</th>\n",
       "      <th>location</th>\n",
       "    </tr>\n",
       "  </thead>\n",
       "  <tbody>\n",
       "    <tr>\n",
       "      <th>0</th>\n",
       "      <td>Amar Ujala</td>\n",
       "      <td>Hindi</td>\n",
       "      <td>Daily</td>\n",
       "      <td>Broadsheet</td>\n",
       "      <td>1948.0</td>\n",
       "      <td>2610000</td>\n",
       "      <td>New Delhi</td>\n",
       "    </tr>\n",
       "    <tr>\n",
       "      <th>1</th>\n",
       "      <td>Amar Ujala</td>\n",
       "      <td>Hindi</td>\n",
       "      <td>Daily</td>\n",
       "      <td>Broadsheet</td>\n",
       "      <td>1948.0</td>\n",
       "      <td>2610000</td>\n",
       "      <td>Chandigarh</td>\n",
       "    </tr>\n",
       "    <tr>\n",
       "      <th>2</th>\n",
       "      <td>Amar Ujala</td>\n",
       "      <td>Hindi</td>\n",
       "      <td>Daily</td>\n",
       "      <td>Broadsheet</td>\n",
       "      <td>1948.0</td>\n",
       "      <td>2610000</td>\n",
       "      <td>Punjab</td>\n",
       "    </tr>\n",
       "    <tr>\n",
       "      <th>3</th>\n",
       "      <td>Amar Ujala</td>\n",
       "      <td>Hindi</td>\n",
       "      <td>Daily</td>\n",
       "      <td>Broadsheet</td>\n",
       "      <td>1948.0</td>\n",
       "      <td>2610000</td>\n",
       "      <td>Haryana</td>\n",
       "    </tr>\n",
       "    <tr>\n",
       "      <th>4</th>\n",
       "      <td>Amar Ujala</td>\n",
       "      <td>Hindi</td>\n",
       "      <td>Daily</td>\n",
       "      <td>Broadsheet</td>\n",
       "      <td>1948.0</td>\n",
       "      <td>2610000</td>\n",
       "      <td>Himachal Pradesh</td>\n",
       "    </tr>\n",
       "    <tr>\n",
       "      <th>...</th>\n",
       "      <td>...</td>\n",
       "      <td>...</td>\n",
       "      <td>...</td>\n",
       "      <td>...</td>\n",
       "      <td>...</td>\n",
       "      <td>...</td>\n",
       "      <td>...</td>\n",
       "    </tr>\n",
       "    <tr>\n",
       "      <th>783</th>\n",
       "      <td>Himachal Crime News</td>\n",
       "      <td>Hindi</td>\n",
       "      <td>Weekly</td>\n",
       "      <td>Tabloid cum Broadsheet</td>\n",
       "      <td>2.0</td>\n",
       "      <td>397500</td>\n",
       "      <td>Shimla</td>\n",
       "    </tr>\n",
       "    <tr>\n",
       "      <th>784</th>\n",
       "      <td>Himachal Crime News</td>\n",
       "      <td>Hindi</td>\n",
       "      <td>Weekly</td>\n",
       "      <td>Tabloid cum Broadsheet</td>\n",
       "      <td>2.0</td>\n",
       "      <td>397500</td>\n",
       "      <td>Dharamshala</td>\n",
       "    </tr>\n",
       "    <tr>\n",
       "      <th>785</th>\n",
       "      <td>Himachal Crime News</td>\n",
       "      <td>Hindi</td>\n",
       "      <td>Weekly</td>\n",
       "      <td>Tabloid cum Broadsheet</td>\n",
       "      <td>2.0</td>\n",
       "      <td>397500</td>\n",
       "      <td>Chamba</td>\n",
       "    </tr>\n",
       "    <tr>\n",
       "      <th>786</th>\n",
       "      <td>Himachal Crime News</td>\n",
       "      <td>Hindi</td>\n",
       "      <td>Weekly</td>\n",
       "      <td>Tabloid cum Broadsheet</td>\n",
       "      <td>2.0</td>\n",
       "      <td>397500</td>\n",
       "      <td>Mandi</td>\n",
       "    </tr>\n",
       "    <tr>\n",
       "      <th>787</th>\n",
       "      <td>Himachal Crime News</td>\n",
       "      <td>Hindi</td>\n",
       "      <td>Weekly</td>\n",
       "      <td>Tabloid cum Broadsheet</td>\n",
       "      <td>2.0</td>\n",
       "      <td>397500</td>\n",
       "      <td>Karsog)</td>\n",
       "    </tr>\n",
       "  </tbody>\n",
       "</table>\n",
       "<p>788 rows × 7 columns</p>\n",
       "</div>"
      ],
      "text/plain": [
       "                    Name Language of publication Interval of publication  \\\n",
       "0             Amar Ujala                   Hindi                   Daily   \n",
       "1             Amar Ujala                   Hindi                   Daily   \n",
       "2             Amar Ujala                   Hindi                   Daily   \n",
       "3             Amar Ujala                   Hindi                   Daily   \n",
       "4             Amar Ujala                   Hindi                   Daily   \n",
       "..                   ...                     ...                     ...   \n",
       "783  Himachal Crime News                   Hindi                  Weekly   \n",
       "784  Himachal Crime News                   Hindi                  Weekly   \n",
       "785  Himachal Crime News                   Hindi                  Weekly   \n",
       "786  Himachal Crime News                   Hindi                  Weekly   \n",
       "787  Himachal Crime News                   Hindi                  Weekly   \n",
       "\n",
       "                     Format  Founded  Circulation (approx.)           location  \n",
       "0                Broadsheet   1948.0                2610000          New Delhi  \n",
       "1                Broadsheet   1948.0                2610000         Chandigarh  \n",
       "2                Broadsheet   1948.0                2610000             Punjab  \n",
       "3                Broadsheet   1948.0                2610000            Haryana  \n",
       "4                Broadsheet   1948.0                2610000   Himachal Pradesh  \n",
       "..                      ...      ...                    ...                ...  \n",
       "783  Tabloid cum Broadsheet      2.0                 397500             Shimla  \n",
       "784  Tabloid cum Broadsheet      2.0                 397500        Dharamshala  \n",
       "785  Tabloid cum Broadsheet      2.0                 397500             Chamba  \n",
       "786  Tabloid cum Broadsheet      2.0                 397500              Mandi  \n",
       "787  Tabloid cum Broadsheet      2.0                 397500            Karsog)  \n",
       "\n",
       "[788 rows x 7 columns]"
      ]
     },
     "execution_count": 34,
     "metadata": {},
     "output_type": "execute_result"
    }
   ],
   "source": [
    "df=df_melt.explode('names').reset_index(drop=True)\n",
    "df=df.drop(['Location'], axis = 1);\n",
    "df.rename(columns = {\"names\":\"location\"}, inplace = True)\n",
    "df"
   ]
  },
  {
   "cell_type": "code",
   "execution_count": 35,
   "metadata": {
    "execution": {
     "iopub.execute_input": "2022-07-16T14:35:51.394891Z",
     "iopub.status.busy": "2022-07-16T14:35:51.394044Z",
     "iopub.status.idle": "2022-07-16T14:35:51.434472Z",
     "shell.execute_reply": "2022-07-16T14:35:51.433182Z",
     "shell.execute_reply.started": "2022-07-16T14:35:51.394846Z"
    },
    "trusted": true
   },
   "outputs": [
    {
     "data": {
      "text/html": [
       "<div>\n",
       "<style scoped>\n",
       "    .dataframe tbody tr th:only-of-type {\n",
       "        vertical-align: middle;\n",
       "    }\n",
       "\n",
       "    .dataframe tbody tr th {\n",
       "        vertical-align: top;\n",
       "    }\n",
       "\n",
       "    .dataframe thead th {\n",
       "        text-align: right;\n",
       "    }\n",
       "</style>\n",
       "<table border=\"1\" class=\"dataframe\">\n",
       "  <thead>\n",
       "    <tr style=\"text-align: right;\">\n",
       "      <th></th>\n",
       "      <th>Name</th>\n",
       "      <th>Interval of publication</th>\n",
       "      <th>Format</th>\n",
       "      <th>Founded</th>\n",
       "      <th>Circulation (approx.)</th>\n",
       "      <th>location</th>\n",
       "      <th>Language</th>\n",
       "    </tr>\n",
       "  </thead>\n",
       "  <tbody>\n",
       "    <tr>\n",
       "      <th>0</th>\n",
       "      <td>Amar Ujala</td>\n",
       "      <td>Daily</td>\n",
       "      <td>Broadsheet</td>\n",
       "      <td>1948.0</td>\n",
       "      <td>2610000</td>\n",
       "      <td>New Delhi</td>\n",
       "      <td>Hindi</td>\n",
       "    </tr>\n",
       "    <tr>\n",
       "      <th>1</th>\n",
       "      <td>Amar Ujala</td>\n",
       "      <td>Daily</td>\n",
       "      <td>Broadsheet</td>\n",
       "      <td>1948.0</td>\n",
       "      <td>2610000</td>\n",
       "      <td>Chandigarh</td>\n",
       "      <td>Hindi</td>\n",
       "    </tr>\n",
       "    <tr>\n",
       "      <th>2</th>\n",
       "      <td>Amar Ujala</td>\n",
       "      <td>Daily</td>\n",
       "      <td>Broadsheet</td>\n",
       "      <td>1948.0</td>\n",
       "      <td>2610000</td>\n",
       "      <td>Punjab</td>\n",
       "      <td>Hindi</td>\n",
       "    </tr>\n",
       "    <tr>\n",
       "      <th>3</th>\n",
       "      <td>Amar Ujala</td>\n",
       "      <td>Daily</td>\n",
       "      <td>Broadsheet</td>\n",
       "      <td>1948.0</td>\n",
       "      <td>2610000</td>\n",
       "      <td>Haryana</td>\n",
       "      <td>Hindi</td>\n",
       "    </tr>\n",
       "    <tr>\n",
       "      <th>4</th>\n",
       "      <td>Amar Ujala</td>\n",
       "      <td>Daily</td>\n",
       "      <td>Broadsheet</td>\n",
       "      <td>1948.0</td>\n",
       "      <td>2610000</td>\n",
       "      <td>Himachal Pradesh</td>\n",
       "      <td>Hindi</td>\n",
       "    </tr>\n",
       "    <tr>\n",
       "      <th>...</th>\n",
       "      <td>...</td>\n",
       "      <td>...</td>\n",
       "      <td>...</td>\n",
       "      <td>...</td>\n",
       "      <td>...</td>\n",
       "      <td>...</td>\n",
       "      <td>...</td>\n",
       "    </tr>\n",
       "    <tr>\n",
       "      <th>794</th>\n",
       "      <td>Himachal Crime News</td>\n",
       "      <td>Weekly</td>\n",
       "      <td>Tabloid cum Broadsheet</td>\n",
       "      <td>2.0</td>\n",
       "      <td>397500</td>\n",
       "      <td>Shimla</td>\n",
       "      <td>Hindi</td>\n",
       "    </tr>\n",
       "    <tr>\n",
       "      <th>795</th>\n",
       "      <td>Himachal Crime News</td>\n",
       "      <td>Weekly</td>\n",
       "      <td>Tabloid cum Broadsheet</td>\n",
       "      <td>2.0</td>\n",
       "      <td>397500</td>\n",
       "      <td>Dharamshala</td>\n",
       "      <td>Hindi</td>\n",
       "    </tr>\n",
       "    <tr>\n",
       "      <th>796</th>\n",
       "      <td>Himachal Crime News</td>\n",
       "      <td>Weekly</td>\n",
       "      <td>Tabloid cum Broadsheet</td>\n",
       "      <td>2.0</td>\n",
       "      <td>397500</td>\n",
       "      <td>Chamba</td>\n",
       "      <td>Hindi</td>\n",
       "    </tr>\n",
       "    <tr>\n",
       "      <th>797</th>\n",
       "      <td>Himachal Crime News</td>\n",
       "      <td>Weekly</td>\n",
       "      <td>Tabloid cum Broadsheet</td>\n",
       "      <td>2.0</td>\n",
       "      <td>397500</td>\n",
       "      <td>Mandi</td>\n",
       "      <td>Hindi</td>\n",
       "    </tr>\n",
       "    <tr>\n",
       "      <th>798</th>\n",
       "      <td>Himachal Crime News</td>\n",
       "      <td>Weekly</td>\n",
       "      <td>Tabloid cum Broadsheet</td>\n",
       "      <td>2.0</td>\n",
       "      <td>397500</td>\n",
       "      <td>Karsog)</td>\n",
       "      <td>Hindi</td>\n",
       "    </tr>\n",
       "  </tbody>\n",
       "</table>\n",
       "<p>799 rows × 7 columns</p>\n",
       "</div>"
      ],
      "text/plain": [
       "                    Name Interval of publication                  Format  \\\n",
       "0             Amar Ujala                   Daily              Broadsheet   \n",
       "1             Amar Ujala                   Daily              Broadsheet   \n",
       "2             Amar Ujala                   Daily              Broadsheet   \n",
       "3             Amar Ujala                   Daily              Broadsheet   \n",
       "4             Amar Ujala                   Daily              Broadsheet   \n",
       "..                   ...                     ...                     ...   \n",
       "794  Himachal Crime News                  Weekly  Tabloid cum Broadsheet   \n",
       "795  Himachal Crime News                  Weekly  Tabloid cum Broadsheet   \n",
       "796  Himachal Crime News                  Weekly  Tabloid cum Broadsheet   \n",
       "797  Himachal Crime News                  Weekly  Tabloid cum Broadsheet   \n",
       "798  Himachal Crime News                  Weekly  Tabloid cum Broadsheet   \n",
       "\n",
       "     Founded  Circulation (approx.)           location Language  \n",
       "0     1948.0                2610000          New Delhi    Hindi  \n",
       "1     1948.0                2610000         Chandigarh    Hindi  \n",
       "2     1948.0                2610000             Punjab    Hindi  \n",
       "3     1948.0                2610000            Haryana    Hindi  \n",
       "4     1948.0                2610000   Himachal Pradesh    Hindi  \n",
       "..       ...                    ...                ...      ...  \n",
       "794      2.0                 397500             Shimla    Hindi  \n",
       "795      2.0                 397500        Dharamshala    Hindi  \n",
       "796      2.0                 397500             Chamba    Hindi  \n",
       "797      2.0                 397500              Mandi    Hindi  \n",
       "798      2.0                 397500            Karsog)    Hindi  \n",
       "\n",
       "[799 rows x 7 columns]"
      ]
     },
     "execution_count": 35,
     "metadata": {},
     "output_type": "execute_result"
    }
   ],
   "source": [
    "df_melt = df.assign(names=df[\"Language of publication\"].str.split(\",\"))\n",
    "df=df_melt.explode('names').reset_index(drop=True)\n",
    "df=df.drop(['Language of publication'], axis = 1);\n",
    "df.rename(columns = {\"names\":\"Language\"}, inplace = True)\n",
    "df"
   ]
  },
  {
   "cell_type": "markdown",
   "metadata": {},
   "source": [
    "Let plot the demo graph to see its working. Zoom the Graph is see the relationship between the nodes and see the relation between them."
   ]
  },
  {
   "cell_type": "code",
   "execution_count": 36,
   "metadata": {
    "execution": {
     "iopub.execute_input": "2022-07-16T14:35:51.438635Z",
     "iopub.status.busy": "2022-07-16T14:35:51.438254Z",
     "iopub.status.idle": "2022-07-16T14:35:51.451838Z",
     "shell.execute_reply": "2022-07-16T14:35:51.450233Z",
     "shell.execute_reply.started": "2022-07-16T14:35:51.438604Z"
    },
    "trusted": true
   },
   "outputs": [],
   "source": [
    "df2= df.loc[:, [\"Name\",\"Language\"]].drop_duplicates().reset_index().drop([\"index\"],axis=1)"
   ]
  },
  {
   "cell_type": "code",
   "execution_count": 37,
   "metadata": {
    "execution": {
     "iopub.execute_input": "2022-07-16T14:35:51.455941Z",
     "iopub.status.busy": "2022-07-16T14:35:51.454361Z",
     "iopub.status.idle": "2022-07-16T14:35:52.928423Z",
     "shell.execute_reply": "2022-07-16T14:35:52.927188Z",
     "shell.execute_reply.started": "2022-07-16T14:35:51.455897Z"
    },
    "trusted": true
   },
   "outputs": [
    {
     "data": {
      "text/html": [
       "\n",
       "            <iframe id=\"22e9fa32-1c84-4ff0-baa3-b6692c0870a5\" src=\"https://hub.graphistry.com/graph/graph.html?dataset=5f661ca9b53943e2b7ef814a603fc6c2&type=arrow&viztoken=7e36ea96-be6c-4fa4-b44b-099eb8c8d5eb&usertag=577ad083-pygraphistry-0.26.1&splashAfter=1657982167&info=true\"\n",
       "                    allowfullscreen=\"true\" webkitallowfullscreen=\"true\" mozallowfullscreen=\"true\"\n",
       "                    oallowfullscreen=\"true\" msallowfullscreen=\"true\"\n",
       "                    style=\"width:100%; height:500px; border: 1px solid #DDD; overflow: hidden\"\n",
       "                    \n",
       "            >\n",
       "            </iframe>\n",
       "        \n",
       "            <script>\n",
       "                try {\n",
       "                  $(\"#22e9fa32-1c84-4ff0-baa3-b6692c0870a5\").bind('mousewheel', function(e) { e.preventDefault(); });\n",
       "                } catch (e) { console.error('exn catching scroll', e); }\n",
       "            </script>\n",
       "        "
      ],
      "text/plain": [
       "<IPython.core.display.HTML object>"
      ]
     },
     "execution_count": 37,
     "metadata": {},
     "output_type": "execute_result"
    }
   ],
   "source": [
    "import graphistry\n",
    "from graphistry import *\n",
    "g=graphistry.bind(source='Name', destination='Language').edges(df2)\n",
    "g.plot()"
   ]
  },
  {
   "cell_type": "code",
   "execution_count": 38,
   "metadata": {
    "execution": {
     "iopub.execute_input": "2022-07-16T14:35:52.931105Z",
     "iopub.status.busy": "2022-07-16T14:35:52.930255Z",
     "iopub.status.idle": "2022-07-16T14:35:52.939905Z",
     "shell.execute_reply": "2022-07-16T14:35:52.938552Z",
     "shell.execute_reply.started": "2022-07-16T14:35:52.931023Z"
    },
    "trusted": true
   },
   "outputs": [
    {
     "name": "stdout",
     "output_type": "stream",
     "text": [
      "['ArrowFileUploader', 'ArrowUploader', 'Engine', 'Plottable', 'PlotterBase', 'PyGraphistry', '__builtins__', '__cached__', '__doc__', '__file__', '__loader__', '__name__', '__package__', '__path__', '__spec__', '__version__', '_version', 'addStyle', 'api_token', 'arrow_uploader', 'bind', 'bolt', 'bolt_util', 'client_protocol_hostname', 'compute', 'constants', 'cosmos', 'cypher', 'description', 'dgl_utils', 'drop_graph', 'e_forward', 'e_reverse', 'e_undirected', 'edges', 'encode_edge_badge', 'encode_edge_color', 'encode_edge_icon', 'encode_point_badge', 'encode_point_color', 'encode_point_icon', 'encode_point_size', 'feature_utils', 'from_cugraph', 'from_igraph', 'graph', 'gremlin', 'gremlin_client', 'gsql', 'gsql_endpoint', 'hyper', 'hyper_dask', 'hypergraph', 'layout', 'layout_settings', 'layouts', 'login', 'n', 'name', 'neptune', 'nodes', 'nodexl', 'nodexlistry', 'org_name', 'plotter', 'plugins', 'plugins_types', 'privacy', 'protocol', 'pygraphistry', 'refresh', 'register', 'scene_settings', 'server', 'settings', 'store_token_creds_in_memory', 'style', 'tigergraph', 'tigeristry', 'umap_utils', 'util', 'verify_token']\n"
     ]
    }
   ],
   "source": [
    "print(dir(graphistry)) #modules in library"
   ]
  },
  {
   "cell_type": "markdown",
   "metadata": {},
   "source": [
    "Shows the Relationship between the Name of Newspaper and the Language in which newspaper was published.Zoom the Node to get more clearer picture."
   ]
  },
  {
   "cell_type": "markdown",
   "metadata": {},
   "source": [
    "Shows nodes ,degrees and materialize the Nam of Newspapers"
   ]
  },
  {
   "cell_type": "code",
   "execution_count": 39,
   "metadata": {
    "execution": {
     "iopub.execute_input": "2022-07-16T14:35:52.942845Z",
     "iopub.status.busy": "2022-07-16T14:35:52.941603Z",
     "iopub.status.idle": "2022-07-16T14:35:52.982101Z",
     "shell.execute_reply": "2022-07-16T14:35:52.980695Z",
     "shell.execute_reply.started": "2022-07-16T14:35:52.942798Z"
    },
    "trusted": true
   },
   "outputs": [
    {
     "name": "stdout",
     "output_type": "stream",
     "text": [
      "None\n",
      "                   id  degree_in  degree_out  degree\n",
      "0          Amar Ujala          0           8       8\n",
      "1     Greater Kashmir          0           2       2\n",
      "2       Dainik Jagran          0          32      32\n",
      "3    Dainik Navajyoti          0           5       5\n",
      "4         Hari Bhoomi          0           6       6\n",
      "..                ...        ...         ...     ...\n",
      "203              Odia         29           0      29\n",
      "204           Punjabi          6           0       6\n",
      "205             Tamil         15           0      15\n",
      "206            Telugu         28           0      28\n",
      "207          Sanskrit          1           0       1\n",
      "\n",
      "[208 rows x 4 columns]\n",
      "                   id\n",
      "0          Amar Ujala\n",
      "1     Greater Kashmir\n",
      "2       Dainik Jagran\n",
      "3    Dainik Navajyoti\n",
      "4         Hari Bhoomi\n",
      "..                ...\n",
      "203              Odia\n",
      "204           Punjabi\n",
      "205             Tamil\n",
      "206            Telugu\n",
      "207          Sanskrit\n",
      "\n",
      "[208 rows x 1 columns]\n"
     ]
    }
   ],
   "source": [
    "edges = pd.DataFrame({'s': df[\"Name\"], 'd': df[\"Language\"]})\n",
    "g = graphistry.edges(edges, 's', 'd')\n",
    "print(g._nodes)  # None\n",
    "g2 = g.get_degrees()#Check the degrees of each node\n",
    "print(g2._nodes)\n",
    "g2 = g.materialize_nodes()#materalize the Name and Language of publication\n",
    "print(g2._nodes)  "
   ]
  },
  {
   "cell_type": "markdown",
   "metadata": {},
   "source": [
    "Directories in Graphistry"
   ]
  },
  {
   "cell_type": "markdown",
   "metadata": {
    "execution": {
     "iopub.execute_input": "2022-06-23T08:03:56.67517Z",
     "iopub.status.busy": "2022-06-23T08:03:56.674752Z",
     "iopub.status.idle": "2022-06-23T08:03:56.694439Z",
     "shell.execute_reply": "2022-06-23T08:03:56.693528Z",
     "shell.execute_reply.started": "2022-06-23T08:03:56.675137Z"
    }
   },
   "source": [
    "Hypergraphs\n",
    "\n",
    "Plot arbitrary tables.\n",
    "The hypergraph transform is a convenient method to transform tables into graphs:\n",
    "\n",
    "It extracts entities from the table and links them together\n",
    "Entities get linked together when they are from the same row"
   ]
  },
  {
   "cell_type": "code",
   "execution_count": 40,
   "metadata": {
    "execution": {
     "iopub.execute_input": "2022-07-16T14:35:52.985531Z",
     "iopub.status.busy": "2022-07-16T14:35:52.984347Z",
     "iopub.status.idle": "2022-07-16T14:35:55.847914Z",
     "shell.execute_reply": "2022-07-16T14:35:55.846536Z",
     "shell.execute_reply.started": "2022-07-16T14:35:52.985440Z"
    },
    "trusted": true
   },
   "outputs": [
    {
     "name": "stdout",
     "output_type": "stream",
     "text": [
      "# links 1539\n",
      "# events 799\n",
      "# attrib entities 193\n"
     ]
    },
    {
     "data": {
      "text/html": [
       "\n",
       "            <iframe id=\"901c8bdd-05bc-4697-acea-15e07eddb26b\" src=\"https://hub.graphistry.com/graph/graph.html?dataset=09eefd75cb184a328d3ec092e5e4fd36&type=arrow&viztoken=970f0b4c-f5fe-4737-bbf1-02d0096ff551&usertag=577ad083-pygraphistry-0.26.1&splashAfter=1657982170&info=true\"\n",
       "                    allowfullscreen=\"true\" webkitallowfullscreen=\"true\" mozallowfullscreen=\"true\"\n",
       "                    oallowfullscreen=\"true\" msallowfullscreen=\"true\"\n",
       "                    style=\"width:100%; height:500px; border: 1px solid #DDD; overflow: hidden\"\n",
       "                    \n",
       "            >\n",
       "            </iframe>\n",
       "        \n",
       "            <script>\n",
       "                try {\n",
       "                  $(\"#901c8bdd-05bc-4697-acea-15e07eddb26b\").bind('mousewheel', function(e) { e.preventDefault(); });\n",
       "                } catch (e) { console.error('exn catching scroll', e); }\n",
       "            </script>\n",
       "        "
      ],
      "text/plain": [
       "<IPython.core.display.HTML object>"
      ]
     },
     "execution_count": 40,
     "metadata": {},
     "output_type": "execute_result"
    }
   ],
   "source": [
    "# Adds another node which is called Event in between the two columns namely {\"Name\",\"Interval\"}\n",
    "graphistry.addStyle(bg={'color': 'grey'}).hypergraph(df[[\"Name\",\"Interval of publication\"]])['graph'].plot()"
   ]
  },
  {
   "cell_type": "code",
   "execution_count": 41,
   "metadata": {
    "execution": {
     "iopub.execute_input": "2022-07-16T14:35:55.850404Z",
     "iopub.status.busy": "2022-07-16T14:35:55.849947Z",
     "iopub.status.idle": "2022-07-16T14:35:58.975783Z",
     "shell.execute_reply": "2022-07-16T14:35:58.974503Z",
     "shell.execute_reply.started": "2022-07-16T14:35:55.850343Z"
    },
    "trusted": true
   },
   "outputs": [
    {
     "name": "stdout",
     "output_type": "stream",
     "text": [
      "# links 2911\n",
      "# events 799\n",
      "# attrib entities 79\n"
     ]
    },
    {
     "data": {
      "text/html": [
       "\n",
       "            <iframe id=\"53860532-17cf-4095-90e2-a54ae1804ba8\" src=\"https://hub.graphistry.com/graph/graph.html?dataset=c85f6dd239774fa998822b87ed1097db&type=arrow&viztoken=edc3e419-22b6-4809-b02f-71a27048c5f1&usertag=577ad083-pygraphistry-0.26.1&splashAfter=1657982173&info=true\"\n",
       "                    allowfullscreen=\"true\" webkitallowfullscreen=\"true\" mozallowfullscreen=\"true\"\n",
       "                    oallowfullscreen=\"true\" msallowfullscreen=\"true\"\n",
       "                    style=\"width:100%; height:500px; border: 1px solid #DDD; overflow: hidden\"\n",
       "                    \n",
       "            >\n",
       "            </iframe>\n",
       "        \n",
       "            <script>\n",
       "                try {\n",
       "                  $(\"#53860532-17cf-4095-90e2-a54ae1804ba8\").bind('mousewheel', function(e) { e.preventDefault(); });\n",
       "                } catch (e) { console.error('exn catching scroll', e); }\n",
       "            </script>\n",
       "        "
      ],
      "text/plain": [
       "<IPython.core.display.HTML object>"
      ]
     },
     "execution_count": 41,
     "metadata": {},
     "output_type": "execute_result"
    }
   ],
   "source": [
    "# Name\tLanguage of publication\tInterval of publication\tFormat\tFounded\tCirculation (approx.)\tnames\n",
    "#Created Events at large scale \n",
    "\n",
    "hg1 = graphistry.addStyle(bg={'color': 'grey'}).hypergraph(\n",
    "    df,\n",
    "\n",
    "    # Optional: Subset of columns to turn into nodes; defaults to all\n",
    "    entity_types=[\"Language\",\"Interval of publication\",\"Format\",\"Circulation (approx.)\"],\n",
    "\n",
    "    # Optional: merge nodes when their IDs appear in multiple columns\n",
    "    # ... so replace nodes attackerIP::1.1.1.1 and victimIP::1.1.1.1\n",
    "    # ... with just one node ip::1.1.1.1\n",
    "    opts={\n",
    "        'CATEGORIES': {\n",
    "            'ip': ['Name',\"Language\"]\n",
    "        }\n",
    "    })\n",
    "\n",
    "hg1_g = hg1['graph']\n",
    "hg1_g.plot()"
   ]
  },
  {
   "cell_type": "markdown",
   "metadata": {},
   "source": [
    "Conclusions we reached after doing Graph Analysis:\n",
    "\n",
    "1. English among the languages in which newspapers published more.\n",
    "\n",
    "1. The Hindu newspaper Published in English as well as Tamil &#38; Imphal free press published in English and Meithi\n",
    "\n",
    "1. > <p style=\"background-color:#E5E7E9\">Publication of all newspaper mostly happened daily but there were some weekly, monthly &#38; others newspapers also such as Hai Bangalore,Panchjanya,Rashtra Deepika etc\n",
    ",  </p>\n",
    "   >\n",
    "1. > <p style=\"background-color:#E5E7E9\">English and Malayalam newspapers mostly published daily among the languages in newspapers.</p>\n",
    "   >\n",
    "1. > <p style=\"background-color:#E5E7E9\">Broadcast is the most favourite among formats.English newspaper came first here too.  </p>"
   ]
  },
  {
   "cell_type": "markdown",
   "metadata": {},
   "source": [
    "<hr> \n",
    "\n",
    "<p style=\"text-align:center\"><img src=\"https://i.imgflip.com/3576sh.jpg\"></p>\n",
    "\n",
    "\n",
    "### If you Loved the Notebook.PLEASE,TAKE THIS UPVOTE COUNTER UP.\n",
    "### YOU CAN FOLLOW ON IF YOU WANT TO. JUST FORK THE NOTEBOOK AND JUST DO YOUR OWN ANALYSIS..."
   ]
  }
 ],
 "metadata": {
  "kernelspec": {
   "display_name": "Python 3",
   "language": "python",
   "name": "python3"
  },
  "language_info": {
   "codemirror_mode": {
    "name": "ipython",
    "version": 3
   },
   "file_extension": ".py",
   "mimetype": "text/x-python",
   "name": "python",
   "nbconvert_exporter": "python",
   "pygments_lexer": "ipython3",
   "version": "3.6.4"
  }
 },
 "nbformat": 4,
 "nbformat_minor": 4
}

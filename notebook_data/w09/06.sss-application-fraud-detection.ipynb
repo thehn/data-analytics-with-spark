{
 "cells": [
  {
   "cell_type": "markdown",
   "metadata": {},
   "source": [
    "# Applying Spark Structured Streaming for Fraud Detection\n",
    "Detecting whether a realtime transaction is a normal payment or a fraud"
   ]
  },
  {
   "cell_type": "code",
   "execution_count": null,
   "metadata": {},
   "outputs": [],
   "source": [
    "from pyspark.sql import SparkSession\n",
    "from pyspark.sql.functions import col\n",
    "\n",
    "# Initialize SparkSession\n",
    "spark = SparkSession.builder.appName(\"Spark Structured Streaming - Fraud Detection Application\").getOrCreate()"
   ]
  },
  {
   "cell_type": "markdown",
   "metadata": {},
   "source": [
    "### Preprocessing and Training a Fraud Detection Model"
   ]
  },
  {
   "cell_type": "code",
   "execution_count": 1,
   "metadata": {},
   "outputs": [],
   "source": [
    "train_data_path = \"notebook_data/w09/data/fraud/train_data/fraud_oracle.csv\"\n",
    "# Input your codes here"
   ]
  },
  {
   "cell_type": "markdown",
   "metadata": {},
   "source": [
    "### Use the trained model to predict realtime coming data"
   ]
  },
  {
   "cell_type": "code",
   "execution_count": 2,
   "metadata": {},
   "outputs": [],
   "source": [
    "# Input your codes here"
   ]
  },
  {
   "cell_type": "code",
   "execution_count": null,
   "metadata": {},
   "outputs": [],
   "source": [
    "# Read streaming data from a folder\n",
    "coming_data_stream = \"notebook_data/w09/data/fraud/realtime_data\""
   ]
  },
  {
   "cell_type": "code",
   "execution_count": null,
   "metadata": {},
   "outputs": [],
   "source": [
    "# Read streaming data\n",
    "streaming_df = spark.readStream.option('header', 'true').option('inferSchema', 'true').csv(coming_data_stream)"
   ]
  },
  {
   "cell_type": "code",
   "execution_count": null,
   "metadata": {},
   "outputs": [],
   "source": [
    "# Input your codes here\n",
    "# predicted_df = ??"
   ]
  },
  {
   "cell_type": "code",
   "execution_count": null,
   "metadata": {},
   "outputs": [],
   "source": [
    "query_01 = predicted_df.writeStream.format(\"memory\").outputMode(\"update\").queryName(\"detected_fraud_tbl\").start()"
   ]
  },
  {
   "cell_type": "code",
   "execution_count": null,
   "metadata": {},
   "outputs": [],
   "source": [
    "spark.sql('select * from detected_fraud_tbl').show()"
   ]
  },
  {
   "cell_type": "code",
   "execution_count": null,
   "metadata": {},
   "outputs": [],
   "source": [
    "query_01.stop()"
   ]
  },
  {
   "cell_type": "markdown",
   "metadata": {},
   "source": [
    "### Clean up"
   ]
  },
  {
   "cell_type": "code",
   "execution_count": 89,
   "metadata": {},
   "outputs": [
    {
     "name": "stdout",
     "output_type": "stream",
     "text": [
      "Directory notebook_data/w09/checkpoints/example_01 cleaned up.\n",
      "Directory notebook_data/w09/data/output/ does not exist.\n"
     ]
    }
   ],
   "source": [
    "# Clean up\n",
    "import os\n",
    "import shutil\n",
    "\n",
    "# Define the path to the checkpoint directory\n",
    "checkpoint_dir = \"notebook_data/w09/checkpoints/example_01\"\n",
    "output_dir = \"notebook_data/w09/data/output/\"\n",
    "directories = [checkpoint_dir, output_dir]\n",
    "\n",
    "# Remove the checkpoint directory if it exists\n",
    "for dir in directories:\n",
    "\tif os.path.exists(dir):\n",
    "\t\tshutil.rmtree(dir)\n",
    "\t\tprint(f\"Directory {dir} cleaned up.\")\n",
    "\telse:\n",
    "\t\tprint(f\"Directory {dir} does not exist.\")"
   ]
  }
 ],
 "metadata": {
  "kernelspec": {
   "display_name": "Python 3 (ipykernel)",
   "language": "python",
   "name": "python3"
  },
  "language_info": {
   "codemirror_mode": {
    "name": "ipython",
    "version": 3
   },
   "file_extension": ".py",
   "mimetype": "text/x-python",
   "name": "python",
   "nbconvert_exporter": "python",
   "pygments_lexer": "ipython3",
   "version": "3.11.9"
  }
 },
 "nbformat": 4,
 "nbformat_minor": 2
}

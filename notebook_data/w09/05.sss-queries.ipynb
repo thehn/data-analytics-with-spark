{
 "cells": [
  {
   "cell_type": "markdown",
   "metadata": {},
   "source": [
    "# Applying Spark DataFrame API on Streaming\n",
    "You can use DataFrame transformations like filter, select, or groupBy on unbounded streaming data."
   ]
  },
  {
   "cell_type": "code",
   "execution_count": null,
   "metadata": {},
   "outputs": [],
   "source": [
    "from pyspark.sql import SparkSession\n",
    "from pyspark.sql.functions import col, window\n",
    "\n",
    "# Initialize SparkSession\n",
    "spark = SparkSession.builder.appName(\"Spark Structured Streaming Application\").getOrCreate()\n",
    "\n",
    "# Define schema\n",
    "schema = \"id INT, name STRING, age INT, event_time TIMESTAMP\"\n",
    "\n",
    "# Read streaming data\n",
    "streaming_df = spark.readStream.schema(schema).csv(\"input/\")\n",
    "\n",
    "# # Drop late events with watermark\n",
    "# result_df = streaming_df \\\n",
    "#     .withWatermark(\"event_time\", \"5 minutes\") \\\n",
    "#     .groupBy(window(col(\"event_time\"), \"10 minutes\"), col(\"name\")) \\\n",
    "#     .count()\n",
    "\n",
    "# # Output to console\n",
    "# query = result_df.writeStream.format(\"console\").outputMode(\"append\").start()\n",
    "\n",
    "# query.awaitTermination()"
   ]
  },
  {
   "cell_type": "code",
   "execution_count": null,
   "metadata": {},
   "outputs": [],
   "source": [
    "transformed_df = streaming_df \\\n",
    "    .filter(col(\"age\") > 18) \\\n",
    "    .select(\"name\", \"age\")\n",
    "\n",
    "query = transformed_df.writeStream.format(\"console\").outputMode(\"append\").start()\n",
    "query.awaitTermination()"
   ]
  },
  {
   "cell_type": "markdown",
   "metadata": {},
   "source": [
    "# Applying Spark SQL API on Streaming\n",
    "You can register a streaming DataFrame as a temporary view and run SQL queries on it."
   ]
  },
  {
   "cell_type": "code",
   "execution_count": null,
   "metadata": {},
   "outputs": [],
   "source": [
    "# Register streaming DataFrame as a temporary view\n",
    "streaming_df.createOrReplaceTempView(\"people\")\n",
    "\n",
    "# Use Spark SQL to query the streaming data\n",
    "result_df = spark.sql(\"SELECT name, COUNT(*) AS count FROM people GROUP BY name\")\n",
    "\n",
    "# Write the result to the console\n",
    "query = result_df.writeStream.format(\"console\").outputMode(\"update\").start()\n",
    "\n",
    "query.awaitTermination()"
   ]
  }
 ],
 "metadata": {
  "kernelspec": {
   "display_name": "Python 3 (ipykernel)",
   "language": "python",
   "name": "python3"
  }
 },
 "nbformat": 4,
 "nbformat_minor": 2
}

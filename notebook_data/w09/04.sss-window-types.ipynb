{
 "cells": [
  {
   "cell_type": "markdown",
   "metadata": {},
   "source": [
    "# Window Types\n",
    "- Tumbling Window\n",
    "- Sliding Window\n",
    "- Session Window"
   ]
  },
  {
   "cell_type": "code",
   "execution_count": null,
   "metadata": {},
   "outputs": [],
   "source": [
    "from pyspark.sql import SparkSession\n",
    "from pyspark.sql.functions import col, window\n",
    "\n",
    "# Initialize SparkSession\n",
    "spark = SparkSession.builder.appName(\"Spark Structured Streaming Application\").getOrCreate()\n",
    "\n",
    "# Define schema\n",
    "schema = \"id INT, name STRING, age INT, event_time TIMESTAMP\"\n",
    "\n",
    "# Read streaming data\n",
    "streaming_df = spark.readStream.schema(schema).csv(\"input/\")\n",
    "\n",
    "# # Drop late events with watermark\n",
    "# result_df = streaming_df \\\n",
    "#     .withWatermark(\"event_time\", \"5 minutes\") \\\n",
    "#     .groupBy(window(col(\"event_time\"), \"10 minutes\"), col(\"name\")) \\\n",
    "#     .count()\n",
    "\n",
    "# # Output to console\n",
    "# query = result_df.writeStream.format(\"console\").outputMode(\"append\").start()\n",
    "\n",
    "# query.awaitTermination()"
   ]
  },
  {
   "cell_type": "code",
   "execution_count": null,
   "metadata": {},
   "outputs": [],
   "source": [
    "tumbling_window_df = streaming_df \\\n",
    "    .groupBy(window(col(\"event_time\"), \"10 minutes\")) \\\n",
    "    .count()"
   ]
  },
  {
   "cell_type": "code",
   "execution_count": null,
   "metadata": {},
   "outputs": [],
   "source": [
    "sliding_window_df = streaming_df \\\n",
    "    .groupBy(window(col(\"event_time\"), \"10 minutes\", \"5 minutes\")) \\\n",
    "    .count()"
   ]
  },
  {
   "cell_type": "code",
   "execution_count": null,
   "metadata": {},
   "outputs": [],
   "source": [
    "from pyspark.sql.functions import session_window\n",
    "\n",
    "session_window_df = streaming_df \\\n",
    "    .groupBy(session_window(col(\"event_time\"), \"15 minutes\")) \\\n",
    "    .count()"
   ]
  }
 ],
 "metadata": {
  "kernelspec": {
   "display_name": "Python 3 (ipykernel)",
   "language": "python",
   "name": "python3"
  }
 },
 "nbformat": 4,
 "nbformat_minor": 2
}

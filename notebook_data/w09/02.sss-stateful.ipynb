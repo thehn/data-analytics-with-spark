{
 "cells": [
  {
   "cell_type": "markdown",
   "metadata": {},
   "source": [
    "# Stateful Processing\n",
    "Stateful processing involves maintaining state across micro-batches. For example, counting occurrences of names over time.\n"
   ]
  },
  {
   "cell_type": "code",
   "execution_count": null,
   "metadata": {},
   "outputs": [],
   "source": [
    "from pyspark.sql import SparkSession\n",
    "from pyspark.sql.functions import col\n",
    "\n",
    "# Initialize SparkSession\n",
    "spark = SparkSession.builder.appName(\"Stateful Processing\").getOrCreate()\n",
    "\n",
    "# Define schema\n",
    "schema = \"id INT, name STRING, age INT, timestamp STRING\"\n",
    "\n",
    "# Read streaming data\n",
    "streaming_df = spark.readStream.schema(schema).csv(\"input/\")\n",
    "\n",
    "# Stateful operation: GroupBy and count occurrences of names\n",
    "stateful_df = streaming_df.groupBy(\"name\").count()\n",
    "\n",
    "# Output to console\n",
    "query = stateful_df.writeStream.format(\"console\").outputMode(\"update\").start()\n",
    "\n",
    "query.awaitTermination()"
   ]
  }
 ],
 "metadata": {
  "kernelspec": {
   "display_name": "Python 3 (ipykernel)",
   "language": "python",
   "name": "python3"
  }
 },
 "nbformat": 4,
 "nbformat_minor": 2
}
